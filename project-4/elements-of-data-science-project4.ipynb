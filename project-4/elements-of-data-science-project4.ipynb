{
 "cells": [
  {
   "cell_type": "markdown",
   "metadata": {
    "id": "sgrFbTEny7xG"
   },
   "source": [
    "---\n",
    "\n",
    "\n",
    "# **Building kNN and Logistic Regression Classifiers**\n",
    "\n",
    "---\n",
    "**Dataset Path:** \"Data/stroke.csv\"\n",
    "---\n",
    "\n",
    "We will deal with the stroke dataset. The dataset contains demographic and health-related data to predict whether a patient is likely to have a stroke.\n",
    "\n",
    "**Features:**\n",
    "\n",
    "\n",
    "* id: Unique identifier (can be ignored for modeling).\n",
    "* gender: Gender of the patient (categorical).\n",
    "* age: Age of the patient (numerical).\n",
    "* hypertension: Whether the patient has hypertension (0 = No, 1 = Yes).\n",
    "* heart_disease: Whether the patient has heart disease (0 = No, 1 = Yes).\n",
    "* ever_married: Marital status (categorical).\n",
    "* work_type: Type of work (categorical).\n",
    "* Residence_type: Rural or Urban (categorical).\n",
    "* avg_glucose_level: Average glucose level (numerical).\n",
    "* bmi: Body Mass Index (numerical).\n",
    "* smoking_status: Smoking habits (categorical).\n",
    "* stroke: Target variable (1 = Stroke, 0 = No Stroke)."
   ]
  },
  {
   "cell_type": "markdown",
   "metadata": {
    "id": "l9crUPV39bKP"
   },
   "source": [
    "# **Necessary Imports**"
   ]
  },
  {
   "cell_type": "code",
   "execution_count": 1,
   "metadata": {
    "id": "bDF8rpnv9kjd"
   },
   "outputs": [],
   "source": [
    "# Import required libraries\n",
    "import pandas as pd\n",
    "import numpy as np\n",
    "import matplotlib.pyplot as plt\n",
    "import seaborn as sns\n",
    "from sklearn.preprocessing import MinMaxScaler\n",
    "import random\n",
    "\n",
    "from sklearn.model_selection import train_test_split\n",
    "from sklearn.preprocessing import StandardScaler\n",
    "from sklearn.neighbors import KNeighborsClassifier\n",
    "from sklearn.linear_model import LogisticRegression\n",
    "from sklearn.metrics import accuracy_score, confusion_matrix, precision_score, recall_score, f1_score, precision_recall_curve\n",
    "from imblearn.over_sampling import SMOTE"
   ]
  },
  {
   "cell_type": "markdown",
   "metadata": {
    "id": "ErBKcN6KBvW8"
   },
   "source": [
    "# **PART- 1: Data Preprocessing and Visualization (35 Pts)**\n",
    "\n",
    "---"
   ]
  },
  {
   "cell_type": "markdown",
   "metadata": {
    "id": "sJnjys99ed82"
   },
   "source": [
    "## 1.1. Explaratory Data Analysis (20 Pts)\n",
    "\n",
    "* Load the dataset\n",
    "* Check and Handle Missing Values\n",
    "\n",
    "  * Identify columns with missing values.\n",
    "  * Replace missing values using suitable methods (mean or median imputation).\n",
    "\n",
    "* Check and Handle Outliers\n",
    "\n",
    "  * Detect outliers in numerical features\n",
    "  * Handle outliers appropriately\n",
    "\n",
    "* Convert categorical variables into numerical values.\n",
    "* Perform data normalization\n",
    "\n"
   ]
  },
  {
   "cell_type": "markdown",
   "metadata": {
    "id": "_ZEWZJYShynt"
   },
   "source": [
    "### Load the dataset"
   ]
  },
  {
   "cell_type": "code",
   "execution_count": 2,
   "metadata": {},
   "outputs": [
    {
     "data": {
      "text/html": [
       "<div>\n",
       "<style scoped>\n",
       "    .dataframe tbody tr th:only-of-type {\n",
       "        vertical-align: middle;\n",
       "    }\n",
       "\n",
       "    .dataframe tbody tr th {\n",
       "        vertical-align: top;\n",
       "    }\n",
       "\n",
       "    .dataframe thead th {\n",
       "        text-align: right;\n",
       "    }\n",
       "</style>\n",
       "<table border=\"1\" class=\"dataframe\">\n",
       "  <thead>\n",
       "    <tr style=\"text-align: right;\">\n",
       "      <th></th>\n",
       "      <th>id</th>\n",
       "      <th>gender</th>\n",
       "      <th>age</th>\n",
       "      <th>hypertension</th>\n",
       "      <th>heart_disease</th>\n",
       "      <th>ever_married</th>\n",
       "      <th>work_type</th>\n",
       "      <th>Residence_type</th>\n",
       "      <th>avg_glucose_level</th>\n",
       "      <th>bmi</th>\n",
       "      <th>smoking_status</th>\n",
       "      <th>stroke</th>\n",
       "    </tr>\n",
       "  </thead>\n",
       "  <tbody>\n",
       "    <tr>\n",
       "      <th>0</th>\n",
       "      <td>9046</td>\n",
       "      <td>Male</td>\n",
       "      <td>67.0</td>\n",
       "      <td>0</td>\n",
       "      <td>1</td>\n",
       "      <td>Yes</td>\n",
       "      <td>Private</td>\n",
       "      <td>Urban</td>\n",
       "      <td>228.69</td>\n",
       "      <td>36.6</td>\n",
       "      <td>formerly smoked</td>\n",
       "      <td>1</td>\n",
       "    </tr>\n",
       "    <tr>\n",
       "      <th>1</th>\n",
       "      <td>51676</td>\n",
       "      <td>Female</td>\n",
       "      <td>61.0</td>\n",
       "      <td>0</td>\n",
       "      <td>0</td>\n",
       "      <td>Yes</td>\n",
       "      <td>Self-employed</td>\n",
       "      <td>Rural</td>\n",
       "      <td>202.21</td>\n",
       "      <td>NaN</td>\n",
       "      <td>never smoked</td>\n",
       "      <td>1</td>\n",
       "    </tr>\n",
       "    <tr>\n",
       "      <th>2</th>\n",
       "      <td>31112</td>\n",
       "      <td>Male</td>\n",
       "      <td>80.0</td>\n",
       "      <td>0</td>\n",
       "      <td>1</td>\n",
       "      <td>Yes</td>\n",
       "      <td>Private</td>\n",
       "      <td>Rural</td>\n",
       "      <td>105.92</td>\n",
       "      <td>32.5</td>\n",
       "      <td>never smoked</td>\n",
       "      <td>1</td>\n",
       "    </tr>\n",
       "    <tr>\n",
       "      <th>3</th>\n",
       "      <td>60182</td>\n",
       "      <td>Female</td>\n",
       "      <td>49.0</td>\n",
       "      <td>0</td>\n",
       "      <td>0</td>\n",
       "      <td>Yes</td>\n",
       "      <td>Private</td>\n",
       "      <td>Urban</td>\n",
       "      <td>171.23</td>\n",
       "      <td>34.4</td>\n",
       "      <td>smokes</td>\n",
       "      <td>1</td>\n",
       "    </tr>\n",
       "    <tr>\n",
       "      <th>4</th>\n",
       "      <td>1665</td>\n",
       "      <td>Female</td>\n",
       "      <td>79.0</td>\n",
       "      <td>1</td>\n",
       "      <td>0</td>\n",
       "      <td>Yes</td>\n",
       "      <td>Self-employed</td>\n",
       "      <td>Rural</td>\n",
       "      <td>174.12</td>\n",
       "      <td>24.0</td>\n",
       "      <td>never smoked</td>\n",
       "      <td>1</td>\n",
       "    </tr>\n",
       "    <tr>\n",
       "      <th>...</th>\n",
       "      <td>...</td>\n",
       "      <td>...</td>\n",
       "      <td>...</td>\n",
       "      <td>...</td>\n",
       "      <td>...</td>\n",
       "      <td>...</td>\n",
       "      <td>...</td>\n",
       "      <td>...</td>\n",
       "      <td>...</td>\n",
       "      <td>...</td>\n",
       "      <td>...</td>\n",
       "      <td>...</td>\n",
       "    </tr>\n",
       "    <tr>\n",
       "      <th>5105</th>\n",
       "      <td>18234</td>\n",
       "      <td>Female</td>\n",
       "      <td>80.0</td>\n",
       "      <td>1</td>\n",
       "      <td>0</td>\n",
       "      <td>Yes</td>\n",
       "      <td>Private</td>\n",
       "      <td>Urban</td>\n",
       "      <td>83.75</td>\n",
       "      <td>NaN</td>\n",
       "      <td>never smoked</td>\n",
       "      <td>0</td>\n",
       "    </tr>\n",
       "    <tr>\n",
       "      <th>5106</th>\n",
       "      <td>44873</td>\n",
       "      <td>Female</td>\n",
       "      <td>81.0</td>\n",
       "      <td>0</td>\n",
       "      <td>0</td>\n",
       "      <td>Yes</td>\n",
       "      <td>Self-employed</td>\n",
       "      <td>Urban</td>\n",
       "      <td>125.20</td>\n",
       "      <td>40.0</td>\n",
       "      <td>never smoked</td>\n",
       "      <td>0</td>\n",
       "    </tr>\n",
       "    <tr>\n",
       "      <th>5107</th>\n",
       "      <td>19723</td>\n",
       "      <td>Female</td>\n",
       "      <td>35.0</td>\n",
       "      <td>0</td>\n",
       "      <td>0</td>\n",
       "      <td>Yes</td>\n",
       "      <td>Self-employed</td>\n",
       "      <td>Rural</td>\n",
       "      <td>82.99</td>\n",
       "      <td>30.6</td>\n",
       "      <td>never smoked</td>\n",
       "      <td>0</td>\n",
       "    </tr>\n",
       "    <tr>\n",
       "      <th>5108</th>\n",
       "      <td>37544</td>\n",
       "      <td>Male</td>\n",
       "      <td>51.0</td>\n",
       "      <td>0</td>\n",
       "      <td>0</td>\n",
       "      <td>Yes</td>\n",
       "      <td>Private</td>\n",
       "      <td>Rural</td>\n",
       "      <td>166.29</td>\n",
       "      <td>25.6</td>\n",
       "      <td>formerly smoked</td>\n",
       "      <td>0</td>\n",
       "    </tr>\n",
       "    <tr>\n",
       "      <th>5109</th>\n",
       "      <td>44679</td>\n",
       "      <td>Female</td>\n",
       "      <td>44.0</td>\n",
       "      <td>0</td>\n",
       "      <td>0</td>\n",
       "      <td>Yes</td>\n",
       "      <td>Govt_job</td>\n",
       "      <td>Urban</td>\n",
       "      <td>85.28</td>\n",
       "      <td>26.2</td>\n",
       "      <td>Unknown</td>\n",
       "      <td>0</td>\n",
       "    </tr>\n",
       "  </tbody>\n",
       "</table>\n",
       "<p>5110 rows × 12 columns</p>\n",
       "</div>"
      ],
      "text/plain": [
       "         id  gender   age  hypertension  heart_disease ever_married  \\\n",
       "0      9046    Male  67.0             0              1          Yes   \n",
       "1     51676  Female  61.0             0              0          Yes   \n",
       "2     31112    Male  80.0             0              1          Yes   \n",
       "3     60182  Female  49.0             0              0          Yes   \n",
       "4      1665  Female  79.0             1              0          Yes   \n",
       "...     ...     ...   ...           ...            ...          ...   \n",
       "5105  18234  Female  80.0             1              0          Yes   \n",
       "5106  44873  Female  81.0             0              0          Yes   \n",
       "5107  19723  Female  35.0             0              0          Yes   \n",
       "5108  37544    Male  51.0             0              0          Yes   \n",
       "5109  44679  Female  44.0             0              0          Yes   \n",
       "\n",
       "          work_type Residence_type  avg_glucose_level   bmi   smoking_status  \\\n",
       "0           Private          Urban             228.69  36.6  formerly smoked   \n",
       "1     Self-employed          Rural             202.21   NaN     never smoked   \n",
       "2           Private          Rural             105.92  32.5     never smoked   \n",
       "3           Private          Urban             171.23  34.4           smokes   \n",
       "4     Self-employed          Rural             174.12  24.0     never smoked   \n",
       "...             ...            ...                ...   ...              ...   \n",
       "5105        Private          Urban              83.75   NaN     never smoked   \n",
       "5106  Self-employed          Urban             125.20  40.0     never smoked   \n",
       "5107  Self-employed          Rural              82.99  30.6     never smoked   \n",
       "5108        Private          Rural             166.29  25.6  formerly smoked   \n",
       "5109       Govt_job          Urban              85.28  26.2          Unknown   \n",
       "\n",
       "      stroke  \n",
       "0          1  \n",
       "1          1  \n",
       "2          1  \n",
       "3          1  \n",
       "4          1  \n",
       "...      ...  \n",
       "5105       0  \n",
       "5106       0  \n",
       "5107       0  \n",
       "5108       0  \n",
       "5109       0  \n",
       "\n",
       "[5110 rows x 12 columns]"
      ]
     },
     "execution_count": 2,
     "metadata": {},
     "output_type": "execute_result"
    }
   ],
   "source": [
    "#initialize the data frame\n",
    "df = pd.read_csv(\"Data/stroke.csv\")\n",
    "df"
   ]
  },
  {
   "cell_type": "markdown",
   "metadata": {},
   "source": [
    "### Check and Handle Missing Value"
   ]
  },
  {
   "cell_type": "code",
   "execution_count": 3,
   "metadata": {},
   "outputs": [
    {
     "name": "stdout",
     "output_type": "stream",
     "text": [
      "201\n"
     ]
    }
   ],
   "source": [
    "#Check for missing values\n",
    "print(df.isnull().sum().sum())"
   ]
  },
  {
   "cell_type": "code",
   "execution_count": 4,
   "metadata": {},
   "outputs": [
    {
     "data": {
      "text/plain": [
       "id                     0\n",
       "gender                 0\n",
       "age                    0\n",
       "hypertension           0\n",
       "heart_disease          0\n",
       "ever_married           0\n",
       "work_type              0\n",
       "Residence_type         0\n",
       "avg_glucose_level      0\n",
       "bmi                  201\n",
       "smoking_status         0\n",
       "stroke                 0\n",
       "dtype: int64"
      ]
     },
     "execution_count": 4,
     "metadata": {},
     "output_type": "execute_result"
    }
   ],
   "source": [
    "#Check for missing values for each column\n",
    "df.isnull().sum()"
   ]
  },
  {
   "cell_type": "markdown",
   "metadata": {},
   "source": [
    "There are 201 missing values in the **bmi** column."
   ]
  },
  {
   "cell_type": "code",
   "execution_count": 5,
   "metadata": {},
   "outputs": [
    {
     "data": {
      "text/plain": [
       "np.float64(28.1)"
      ]
     },
     "execution_count": 5,
     "metadata": {},
     "output_type": "execute_result"
    }
   ],
   "source": [
    "# Calculate the median of bmi\n",
    "median_bmi = df['bmi'].median()\n",
    "median_bmi"
   ]
  },
  {
   "cell_type": "code",
   "execution_count": 6,
   "metadata": {},
   "outputs": [],
   "source": [
    "# Replace missing bmi values using median\n",
    "df[\"bmi\"] = df[\"bmi\"].fillna(median_bmi)"
   ]
  },
  {
   "cell_type": "markdown",
   "metadata": {},
   "source": [
    "### Check and Handle Outliers"
   ]
  },
  {
   "cell_type": "code",
   "execution_count": 7,
   "metadata": {},
   "outputs": [
    {
     "name": "stdout",
     "output_type": "stream",
     "text": [
      "age                    0\n",
      "avg_glucose_level    627\n",
      "bmi                  126\n",
      "dtype: int64\n"
     ]
    }
   ],
   "source": [
    "# Select the numeric variables\n",
    "numeric_columns = df[['age', 'avg_glucose_level', 'bmi']]\n",
    "\n",
    "# Calculate the 1st and 3rd quartiles to find the IQR\n",
    "Q1 = numeric_columns.apply(lambda x: x.quantile(0.25))\n",
    "Q3 = numeric_columns.apply(lambda x: x.quantile(0.75))\n",
    "IQR = Q3 - Q1\n",
    "\n",
    "lower_bound = Q1 - 1.5 * IQR; # Lower bound: Values more than 1.5 IQR below Q1\n",
    "upper_bound = Q3 + 1.5 * IQR; # Upper bound: Values more than 1.5 IQR above Q3\n",
    "\n",
    "#Values that are more than 1.5 IQR below Q1 or more than 1.5 IQR above Q3 are considered outliers.\n",
    "numeric_outliers = ((numeric_columns < lower_bound) | (numeric_columns > upper_bound))\n",
    "\n",
    "print(numeric_outliers.sum()) "
   ]
  },
  {
   "cell_type": "markdown",
   "metadata": {},
   "source": [
    "IQR is more reliable in detecting outliers regardless of the data distribution, provides accurate analysis by filtering out extreme values, is easy to compute, and is also suitable for visualization using the boxplot method."
   ]
  },
  {
   "cell_type": "code",
   "execution_count": 8,
   "metadata": {},
   "outputs": [],
   "source": [
    "# The outliers in the age column were replaced with the median value.\n",
    "median_age = df['age'].median()\n",
    "df['age'] = df['age'].where(~numeric_outliers['age'], median_age)\n",
    "\n",
    "# The outliers in the avg_glucose_level column were replaced with the median value.\n",
    "median_avg_glucose_level = df['avg_glucose_level'].median()\n",
    "df['avg_glucose_level'] = df['avg_glucose_level'].where(~numeric_outliers['avg_glucose_level'], median_avg_glucose_level)\n",
    "\n",
    "# The outliers in the bmi column were replaced with the median value.\n",
    "df['bmi'] = df['bmi'].where(~numeric_outliers['bmi'], median_bmi)"
   ]
  },
  {
   "cell_type": "code",
   "execution_count": 9,
   "metadata": {},
   "outputs": [
    {
     "data": {
      "text/html": [
       "<div>\n",
       "<style scoped>\n",
       "    .dataframe tbody tr th:only-of-type {\n",
       "        vertical-align: middle;\n",
       "    }\n",
       "\n",
       "    .dataframe tbody tr th {\n",
       "        vertical-align: top;\n",
       "    }\n",
       "\n",
       "    .dataframe thead th {\n",
       "        text-align: right;\n",
       "    }\n",
       "</style>\n",
       "<table border=\"1\" class=\"dataframe\">\n",
       "  <thead>\n",
       "    <tr style=\"text-align: right;\">\n",
       "      <th></th>\n",
       "      <th>id</th>\n",
       "      <th>gender</th>\n",
       "      <th>age</th>\n",
       "      <th>hypertension</th>\n",
       "      <th>heart_disease</th>\n",
       "      <th>ever_married</th>\n",
       "      <th>work_type</th>\n",
       "      <th>Residence_type</th>\n",
       "      <th>avg_glucose_level</th>\n",
       "      <th>bmi</th>\n",
       "      <th>smoking_status</th>\n",
       "      <th>stroke</th>\n",
       "    </tr>\n",
       "  </thead>\n",
       "  <tbody>\n",
       "    <tr>\n",
       "      <th>0</th>\n",
       "      <td>9046</td>\n",
       "      <td>Male</td>\n",
       "      <td>67.0</td>\n",
       "      <td>0</td>\n",
       "      <td>1</td>\n",
       "      <td>Yes</td>\n",
       "      <td>Private</td>\n",
       "      <td>Urban</td>\n",
       "      <td>91.885</td>\n",
       "      <td>36.6</td>\n",
       "      <td>formerly smoked</td>\n",
       "      <td>1</td>\n",
       "    </tr>\n",
       "    <tr>\n",
       "      <th>1</th>\n",
       "      <td>51676</td>\n",
       "      <td>Female</td>\n",
       "      <td>61.0</td>\n",
       "      <td>0</td>\n",
       "      <td>0</td>\n",
       "      <td>Yes</td>\n",
       "      <td>Self-employed</td>\n",
       "      <td>Rural</td>\n",
       "      <td>91.885</td>\n",
       "      <td>28.1</td>\n",
       "      <td>never smoked</td>\n",
       "      <td>1</td>\n",
       "    </tr>\n",
       "    <tr>\n",
       "      <th>2</th>\n",
       "      <td>31112</td>\n",
       "      <td>Male</td>\n",
       "      <td>80.0</td>\n",
       "      <td>0</td>\n",
       "      <td>1</td>\n",
       "      <td>Yes</td>\n",
       "      <td>Private</td>\n",
       "      <td>Rural</td>\n",
       "      <td>105.920</td>\n",
       "      <td>32.5</td>\n",
       "      <td>never smoked</td>\n",
       "      <td>1</td>\n",
       "    </tr>\n",
       "    <tr>\n",
       "      <th>3</th>\n",
       "      <td>60182</td>\n",
       "      <td>Female</td>\n",
       "      <td>49.0</td>\n",
       "      <td>0</td>\n",
       "      <td>0</td>\n",
       "      <td>Yes</td>\n",
       "      <td>Private</td>\n",
       "      <td>Urban</td>\n",
       "      <td>91.885</td>\n",
       "      <td>34.4</td>\n",
       "      <td>smokes</td>\n",
       "      <td>1</td>\n",
       "    </tr>\n",
       "    <tr>\n",
       "      <th>4</th>\n",
       "      <td>1665</td>\n",
       "      <td>Female</td>\n",
       "      <td>79.0</td>\n",
       "      <td>1</td>\n",
       "      <td>0</td>\n",
       "      <td>Yes</td>\n",
       "      <td>Self-employed</td>\n",
       "      <td>Rural</td>\n",
       "      <td>91.885</td>\n",
       "      <td>24.0</td>\n",
       "      <td>never smoked</td>\n",
       "      <td>1</td>\n",
       "    </tr>\n",
       "    <tr>\n",
       "      <th>...</th>\n",
       "      <td>...</td>\n",
       "      <td>...</td>\n",
       "      <td>...</td>\n",
       "      <td>...</td>\n",
       "      <td>...</td>\n",
       "      <td>...</td>\n",
       "      <td>...</td>\n",
       "      <td>...</td>\n",
       "      <td>...</td>\n",
       "      <td>...</td>\n",
       "      <td>...</td>\n",
       "      <td>...</td>\n",
       "    </tr>\n",
       "    <tr>\n",
       "      <th>5105</th>\n",
       "      <td>18234</td>\n",
       "      <td>Female</td>\n",
       "      <td>80.0</td>\n",
       "      <td>1</td>\n",
       "      <td>0</td>\n",
       "      <td>Yes</td>\n",
       "      <td>Private</td>\n",
       "      <td>Urban</td>\n",
       "      <td>83.750</td>\n",
       "      <td>28.1</td>\n",
       "      <td>never smoked</td>\n",
       "      <td>0</td>\n",
       "    </tr>\n",
       "    <tr>\n",
       "      <th>5106</th>\n",
       "      <td>44873</td>\n",
       "      <td>Female</td>\n",
       "      <td>81.0</td>\n",
       "      <td>0</td>\n",
       "      <td>0</td>\n",
       "      <td>Yes</td>\n",
       "      <td>Self-employed</td>\n",
       "      <td>Urban</td>\n",
       "      <td>125.200</td>\n",
       "      <td>40.0</td>\n",
       "      <td>never smoked</td>\n",
       "      <td>0</td>\n",
       "    </tr>\n",
       "    <tr>\n",
       "      <th>5107</th>\n",
       "      <td>19723</td>\n",
       "      <td>Female</td>\n",
       "      <td>35.0</td>\n",
       "      <td>0</td>\n",
       "      <td>0</td>\n",
       "      <td>Yes</td>\n",
       "      <td>Self-employed</td>\n",
       "      <td>Rural</td>\n",
       "      <td>82.990</td>\n",
       "      <td>30.6</td>\n",
       "      <td>never smoked</td>\n",
       "      <td>0</td>\n",
       "    </tr>\n",
       "    <tr>\n",
       "      <th>5108</th>\n",
       "      <td>37544</td>\n",
       "      <td>Male</td>\n",
       "      <td>51.0</td>\n",
       "      <td>0</td>\n",
       "      <td>0</td>\n",
       "      <td>Yes</td>\n",
       "      <td>Private</td>\n",
       "      <td>Rural</td>\n",
       "      <td>166.290</td>\n",
       "      <td>25.6</td>\n",
       "      <td>formerly smoked</td>\n",
       "      <td>0</td>\n",
       "    </tr>\n",
       "    <tr>\n",
       "      <th>5109</th>\n",
       "      <td>44679</td>\n",
       "      <td>Female</td>\n",
       "      <td>44.0</td>\n",
       "      <td>0</td>\n",
       "      <td>0</td>\n",
       "      <td>Yes</td>\n",
       "      <td>Govt_job</td>\n",
       "      <td>Urban</td>\n",
       "      <td>85.280</td>\n",
       "      <td>26.2</td>\n",
       "      <td>Unknown</td>\n",
       "      <td>0</td>\n",
       "    </tr>\n",
       "  </tbody>\n",
       "</table>\n",
       "<p>5110 rows × 12 columns</p>\n",
       "</div>"
      ],
      "text/plain": [
       "         id  gender   age  hypertension  heart_disease ever_married  \\\n",
       "0      9046    Male  67.0             0              1          Yes   \n",
       "1     51676  Female  61.0             0              0          Yes   \n",
       "2     31112    Male  80.0             0              1          Yes   \n",
       "3     60182  Female  49.0             0              0          Yes   \n",
       "4      1665  Female  79.0             1              0          Yes   \n",
       "...     ...     ...   ...           ...            ...          ...   \n",
       "5105  18234  Female  80.0             1              0          Yes   \n",
       "5106  44873  Female  81.0             0              0          Yes   \n",
       "5107  19723  Female  35.0             0              0          Yes   \n",
       "5108  37544    Male  51.0             0              0          Yes   \n",
       "5109  44679  Female  44.0             0              0          Yes   \n",
       "\n",
       "          work_type Residence_type  avg_glucose_level   bmi   smoking_status  \\\n",
       "0           Private          Urban             91.885  36.6  formerly smoked   \n",
       "1     Self-employed          Rural             91.885  28.1     never smoked   \n",
       "2           Private          Rural            105.920  32.5     never smoked   \n",
       "3           Private          Urban             91.885  34.4           smokes   \n",
       "4     Self-employed          Rural             91.885  24.0     never smoked   \n",
       "...             ...            ...                ...   ...              ...   \n",
       "5105        Private          Urban             83.750  28.1     never smoked   \n",
       "5106  Self-employed          Urban            125.200  40.0     never smoked   \n",
       "5107  Self-employed          Rural             82.990  30.6     never smoked   \n",
       "5108        Private          Rural            166.290  25.6  formerly smoked   \n",
       "5109       Govt_job          Urban             85.280  26.2          Unknown   \n",
       "\n",
       "      stroke  \n",
       "0          1  \n",
       "1          1  \n",
       "2          1  \n",
       "3          1  \n",
       "4          1  \n",
       "...      ...  \n",
       "5105       0  \n",
       "5106       0  \n",
       "5107       0  \n",
       "5108       0  \n",
       "5109       0  \n",
       "\n",
       "[5110 rows x 12 columns]"
      ]
     },
     "execution_count": 9,
     "metadata": {},
     "output_type": "execute_result"
    }
   ],
   "source": [
    "df"
   ]
  },
  {
   "cell_type": "markdown",
   "metadata": {},
   "source": [
    "### Convert categorical variables into numerical values."
   ]
  },
  {
   "cell_type": "code",
   "execution_count": 10,
   "metadata": {},
   "outputs": [
    {
     "data": {
      "text/html": [
       "<div>\n",
       "<style scoped>\n",
       "    .dataframe tbody tr th:only-of-type {\n",
       "        vertical-align: middle;\n",
       "    }\n",
       "\n",
       "    .dataframe tbody tr th {\n",
       "        vertical-align: top;\n",
       "    }\n",
       "\n",
       "    .dataframe thead th {\n",
       "        text-align: right;\n",
       "    }\n",
       "</style>\n",
       "<table border=\"1\" class=\"dataframe\">\n",
       "  <thead>\n",
       "    <tr style=\"text-align: right;\">\n",
       "      <th></th>\n",
       "      <th>id</th>\n",
       "      <th>gender</th>\n",
       "      <th>age</th>\n",
       "      <th>hypertension</th>\n",
       "      <th>heart_disease</th>\n",
       "      <th>ever_married</th>\n",
       "      <th>work_type</th>\n",
       "      <th>Residence_type</th>\n",
       "      <th>avg_glucose_level</th>\n",
       "      <th>bmi</th>\n",
       "      <th>smoking_status</th>\n",
       "      <th>stroke</th>\n",
       "    </tr>\n",
       "  </thead>\n",
       "  <tbody>\n",
       "    <tr>\n",
       "      <th>0</th>\n",
       "      <td>9046</td>\n",
       "      <td>0</td>\n",
       "      <td>67.0</td>\n",
       "      <td>0</td>\n",
       "      <td>1</td>\n",
       "      <td>1</td>\n",
       "      <td>0</td>\n",
       "      <td>1</td>\n",
       "      <td>91.885</td>\n",
       "      <td>36.6</td>\n",
       "      <td>0</td>\n",
       "      <td>1</td>\n",
       "    </tr>\n",
       "    <tr>\n",
       "      <th>1</th>\n",
       "      <td>51676</td>\n",
       "      <td>1</td>\n",
       "      <td>61.0</td>\n",
       "      <td>0</td>\n",
       "      <td>0</td>\n",
       "      <td>1</td>\n",
       "      <td>1</td>\n",
       "      <td>0</td>\n",
       "      <td>91.885</td>\n",
       "      <td>28.1</td>\n",
       "      <td>1</td>\n",
       "      <td>1</td>\n",
       "    </tr>\n",
       "    <tr>\n",
       "      <th>2</th>\n",
       "      <td>31112</td>\n",
       "      <td>0</td>\n",
       "      <td>80.0</td>\n",
       "      <td>0</td>\n",
       "      <td>1</td>\n",
       "      <td>1</td>\n",
       "      <td>0</td>\n",
       "      <td>0</td>\n",
       "      <td>105.920</td>\n",
       "      <td>32.5</td>\n",
       "      <td>1</td>\n",
       "      <td>1</td>\n",
       "    </tr>\n",
       "    <tr>\n",
       "      <th>3</th>\n",
       "      <td>60182</td>\n",
       "      <td>1</td>\n",
       "      <td>49.0</td>\n",
       "      <td>0</td>\n",
       "      <td>0</td>\n",
       "      <td>1</td>\n",
       "      <td>0</td>\n",
       "      <td>1</td>\n",
       "      <td>91.885</td>\n",
       "      <td>34.4</td>\n",
       "      <td>2</td>\n",
       "      <td>1</td>\n",
       "    </tr>\n",
       "    <tr>\n",
       "      <th>4</th>\n",
       "      <td>1665</td>\n",
       "      <td>1</td>\n",
       "      <td>79.0</td>\n",
       "      <td>1</td>\n",
       "      <td>0</td>\n",
       "      <td>1</td>\n",
       "      <td>1</td>\n",
       "      <td>0</td>\n",
       "      <td>91.885</td>\n",
       "      <td>24.0</td>\n",
       "      <td>1</td>\n",
       "      <td>1</td>\n",
       "    </tr>\n",
       "    <tr>\n",
       "      <th>...</th>\n",
       "      <td>...</td>\n",
       "      <td>...</td>\n",
       "      <td>...</td>\n",
       "      <td>...</td>\n",
       "      <td>...</td>\n",
       "      <td>...</td>\n",
       "      <td>...</td>\n",
       "      <td>...</td>\n",
       "      <td>...</td>\n",
       "      <td>...</td>\n",
       "      <td>...</td>\n",
       "      <td>...</td>\n",
       "    </tr>\n",
       "    <tr>\n",
       "      <th>5105</th>\n",
       "      <td>18234</td>\n",
       "      <td>1</td>\n",
       "      <td>80.0</td>\n",
       "      <td>1</td>\n",
       "      <td>0</td>\n",
       "      <td>1</td>\n",
       "      <td>0</td>\n",
       "      <td>1</td>\n",
       "      <td>83.750</td>\n",
       "      <td>28.1</td>\n",
       "      <td>1</td>\n",
       "      <td>0</td>\n",
       "    </tr>\n",
       "    <tr>\n",
       "      <th>5106</th>\n",
       "      <td>44873</td>\n",
       "      <td>1</td>\n",
       "      <td>81.0</td>\n",
       "      <td>0</td>\n",
       "      <td>0</td>\n",
       "      <td>1</td>\n",
       "      <td>1</td>\n",
       "      <td>1</td>\n",
       "      <td>125.200</td>\n",
       "      <td>40.0</td>\n",
       "      <td>1</td>\n",
       "      <td>0</td>\n",
       "    </tr>\n",
       "    <tr>\n",
       "      <th>5107</th>\n",
       "      <td>19723</td>\n",
       "      <td>1</td>\n",
       "      <td>35.0</td>\n",
       "      <td>0</td>\n",
       "      <td>0</td>\n",
       "      <td>1</td>\n",
       "      <td>1</td>\n",
       "      <td>0</td>\n",
       "      <td>82.990</td>\n",
       "      <td>30.6</td>\n",
       "      <td>1</td>\n",
       "      <td>0</td>\n",
       "    </tr>\n",
       "    <tr>\n",
       "      <th>5108</th>\n",
       "      <td>37544</td>\n",
       "      <td>0</td>\n",
       "      <td>51.0</td>\n",
       "      <td>0</td>\n",
       "      <td>0</td>\n",
       "      <td>1</td>\n",
       "      <td>0</td>\n",
       "      <td>0</td>\n",
       "      <td>166.290</td>\n",
       "      <td>25.6</td>\n",
       "      <td>0</td>\n",
       "      <td>0</td>\n",
       "    </tr>\n",
       "    <tr>\n",
       "      <th>5109</th>\n",
       "      <td>44679</td>\n",
       "      <td>1</td>\n",
       "      <td>44.0</td>\n",
       "      <td>0</td>\n",
       "      <td>0</td>\n",
       "      <td>1</td>\n",
       "      <td>2</td>\n",
       "      <td>1</td>\n",
       "      <td>85.280</td>\n",
       "      <td>26.2</td>\n",
       "      <td>3</td>\n",
       "      <td>0</td>\n",
       "    </tr>\n",
       "  </tbody>\n",
       "</table>\n",
       "<p>5110 rows × 12 columns</p>\n",
       "</div>"
      ],
      "text/plain": [
       "         id  gender   age  hypertension  heart_disease  ever_married  \\\n",
       "0      9046       0  67.0             0              1             1   \n",
       "1     51676       1  61.0             0              0             1   \n",
       "2     31112       0  80.0             0              1             1   \n",
       "3     60182       1  49.0             0              0             1   \n",
       "4      1665       1  79.0             1              0             1   \n",
       "...     ...     ...   ...           ...            ...           ...   \n",
       "5105  18234       1  80.0             1              0             1   \n",
       "5106  44873       1  81.0             0              0             1   \n",
       "5107  19723       1  35.0             0              0             1   \n",
       "5108  37544       0  51.0             0              0             1   \n",
       "5109  44679       1  44.0             0              0             1   \n",
       "\n",
       "      work_type  Residence_type  avg_glucose_level   bmi  smoking_status  \\\n",
       "0             0               1             91.885  36.6               0   \n",
       "1             1               0             91.885  28.1               1   \n",
       "2             0               0            105.920  32.5               1   \n",
       "3             0               1             91.885  34.4               2   \n",
       "4             1               0             91.885  24.0               1   \n",
       "...         ...             ...                ...   ...             ...   \n",
       "5105          0               1             83.750  28.1               1   \n",
       "5106          1               1            125.200  40.0               1   \n",
       "5107          1               0             82.990  30.6               1   \n",
       "5108          0               0            166.290  25.6               0   \n",
       "5109          2               1             85.280  26.2               3   \n",
       "\n",
       "      stroke  \n",
       "0          1  \n",
       "1          1  \n",
       "2          1  \n",
       "3          1  \n",
       "4          1  \n",
       "...      ...  \n",
       "5105       0  \n",
       "5106       0  \n",
       "5107       0  \n",
       "5108       0  \n",
       "5109       0  \n",
       "\n",
       "[5110 rows x 12 columns]"
      ]
     },
     "execution_count": 10,
     "metadata": {},
     "output_type": "execute_result"
    }
   ],
   "source": [
    "# categorical variables: gender, ever_married, work_type, Residence_type, smoking_status\n",
    "original_df = df.copy()\n",
    "# Map the 'gender' column to numerical values: Male = 0, Female = 1\n",
    "df['gender'] = df['gender'].map({'Male': 0, 'Female': 1, 'Other':3})\n",
    "\n",
    "# Map the 'ever_married' column to numerical values: No = 0, Yes = 1\n",
    "df['ever_married'] = df['ever_married'].map({'No': 0, 'Yes': 1})\n",
    "\n",
    "# Map the 'work_type' column to numerical values: Assign unique integers to each category\n",
    "df['work_type'] = df['work_type'].map({'Private': 0, 'Self-employed': 1, 'Govt_job':2, 'children':3, 'Never_worked':4})\n",
    "\n",
    "# Map the 'Residence_type' column to numerical values: Rural = 0, Urban = 1\n",
    "df['Residence_type'] = df['Residence_type'].map({'Rural': 0, 'Urban': 1})\n",
    "\n",
    "# Map the 'smoking_status' column to numerical values: Assign unique integers to each category\n",
    "df['smoking_status'] = df['smoking_status'].map({'formerly smoked': 0, 'never smoked': 1, 'smokes':2, 'Unknown':3})\n",
    "df"
   ]
  },
  {
   "cell_type": "markdown",
   "metadata": {},
   "source": [
    "### Perform data normalization"
   ]
  },
  {
   "cell_type": "code",
   "execution_count": 11,
   "metadata": {},
   "outputs": [
    {
     "data": {
      "text/html": [
       "<div>\n",
       "<style scoped>\n",
       "    .dataframe tbody tr th:only-of-type {\n",
       "        vertical-align: middle;\n",
       "    }\n",
       "\n",
       "    .dataframe tbody tr th {\n",
       "        vertical-align: top;\n",
       "    }\n",
       "\n",
       "    .dataframe thead th {\n",
       "        text-align: right;\n",
       "    }\n",
       "</style>\n",
       "<table border=\"1\" class=\"dataframe\">\n",
       "  <thead>\n",
       "    <tr style=\"text-align: right;\">\n",
       "      <th></th>\n",
       "      <th>id</th>\n",
       "      <th>gender</th>\n",
       "      <th>age</th>\n",
       "      <th>hypertension</th>\n",
       "      <th>heart_disease</th>\n",
       "      <th>ever_married</th>\n",
       "      <th>work_type</th>\n",
       "      <th>Residence_type</th>\n",
       "      <th>avg_glucose_level</th>\n",
       "      <th>bmi</th>\n",
       "      <th>smoking_status</th>\n",
       "      <th>stroke</th>\n",
       "    </tr>\n",
       "  </thead>\n",
       "  <tbody>\n",
       "    <tr>\n",
       "      <th>0</th>\n",
       "      <td>9046</td>\n",
       "      <td>0</td>\n",
       "      <td>0.816895</td>\n",
       "      <td>0</td>\n",
       "      <td>1</td>\n",
       "      <td>1</td>\n",
       "      <td>0</td>\n",
       "      <td>1</td>\n",
       "      <td>0.323750</td>\n",
       "      <td>0.724928</td>\n",
       "      <td>0</td>\n",
       "      <td>1</td>\n",
       "    </tr>\n",
       "    <tr>\n",
       "      <th>1</th>\n",
       "      <td>51676</td>\n",
       "      <td>1</td>\n",
       "      <td>0.743652</td>\n",
       "      <td>0</td>\n",
       "      <td>0</td>\n",
       "      <td>1</td>\n",
       "      <td>1</td>\n",
       "      <td>0</td>\n",
       "      <td>0.323750</td>\n",
       "      <td>0.481375</td>\n",
       "      <td>1</td>\n",
       "      <td>1</td>\n",
       "    </tr>\n",
       "    <tr>\n",
       "      <th>2</th>\n",
       "      <td>31112</td>\n",
       "      <td>0</td>\n",
       "      <td>0.975586</td>\n",
       "      <td>0</td>\n",
       "      <td>1</td>\n",
       "      <td>1</td>\n",
       "      <td>0</td>\n",
       "      <td>0</td>\n",
       "      <td>0.447341</td>\n",
       "      <td>0.607450</td>\n",
       "      <td>1</td>\n",
       "      <td>1</td>\n",
       "    </tr>\n",
       "    <tr>\n",
       "      <th>3</th>\n",
       "      <td>60182</td>\n",
       "      <td>1</td>\n",
       "      <td>0.597168</td>\n",
       "      <td>0</td>\n",
       "      <td>0</td>\n",
       "      <td>1</td>\n",
       "      <td>0</td>\n",
       "      <td>1</td>\n",
       "      <td>0.323750</td>\n",
       "      <td>0.661891</td>\n",
       "      <td>2</td>\n",
       "      <td>1</td>\n",
       "    </tr>\n",
       "    <tr>\n",
       "      <th>4</th>\n",
       "      <td>1665</td>\n",
       "      <td>1</td>\n",
       "      <td>0.963379</td>\n",
       "      <td>1</td>\n",
       "      <td>0</td>\n",
       "      <td>1</td>\n",
       "      <td>1</td>\n",
       "      <td>0</td>\n",
       "      <td>0.323750</td>\n",
       "      <td>0.363897</td>\n",
       "      <td>1</td>\n",
       "      <td>1</td>\n",
       "    </tr>\n",
       "    <tr>\n",
       "      <th>...</th>\n",
       "      <td>...</td>\n",
       "      <td>...</td>\n",
       "      <td>...</td>\n",
       "      <td>...</td>\n",
       "      <td>...</td>\n",
       "      <td>...</td>\n",
       "      <td>...</td>\n",
       "      <td>...</td>\n",
       "      <td>...</td>\n",
       "      <td>...</td>\n",
       "      <td>...</td>\n",
       "      <td>...</td>\n",
       "    </tr>\n",
       "    <tr>\n",
       "      <th>5105</th>\n",
       "      <td>18234</td>\n",
       "      <td>1</td>\n",
       "      <td>0.975586</td>\n",
       "      <td>1</td>\n",
       "      <td>0</td>\n",
       "      <td>1</td>\n",
       "      <td>0</td>\n",
       "      <td>1</td>\n",
       "      <td>0.252113</td>\n",
       "      <td>0.481375</td>\n",
       "      <td>1</td>\n",
       "      <td>0</td>\n",
       "    </tr>\n",
       "    <tr>\n",
       "      <th>5106</th>\n",
       "      <td>44873</td>\n",
       "      <td>1</td>\n",
       "      <td>0.987793</td>\n",
       "      <td>0</td>\n",
       "      <td>0</td>\n",
       "      <td>1</td>\n",
       "      <td>1</td>\n",
       "      <td>1</td>\n",
       "      <td>0.617119</td>\n",
       "      <td>0.822350</td>\n",
       "      <td>1</td>\n",
       "      <td>0</td>\n",
       "    </tr>\n",
       "    <tr>\n",
       "      <th>5107</th>\n",
       "      <td>19723</td>\n",
       "      <td>1</td>\n",
       "      <td>0.426270</td>\n",
       "      <td>0</td>\n",
       "      <td>0</td>\n",
       "      <td>1</td>\n",
       "      <td>1</td>\n",
       "      <td>0</td>\n",
       "      <td>0.245421</td>\n",
       "      <td>0.553009</td>\n",
       "      <td>1</td>\n",
       "      <td>0</td>\n",
       "    </tr>\n",
       "    <tr>\n",
       "      <th>5108</th>\n",
       "      <td>37544</td>\n",
       "      <td>0</td>\n",
       "      <td>0.621582</td>\n",
       "      <td>0</td>\n",
       "      <td>0</td>\n",
       "      <td>1</td>\n",
       "      <td>0</td>\n",
       "      <td>0</td>\n",
       "      <td>0.978954</td>\n",
       "      <td>0.409742</td>\n",
       "      <td>0</td>\n",
       "      <td>0</td>\n",
       "    </tr>\n",
       "    <tr>\n",
       "      <th>5109</th>\n",
       "      <td>44679</td>\n",
       "      <td>1</td>\n",
       "      <td>0.536133</td>\n",
       "      <td>0</td>\n",
       "      <td>0</td>\n",
       "      <td>1</td>\n",
       "      <td>2</td>\n",
       "      <td>1</td>\n",
       "      <td>0.265586</td>\n",
       "      <td>0.426934</td>\n",
       "      <td>3</td>\n",
       "      <td>0</td>\n",
       "    </tr>\n",
       "  </tbody>\n",
       "</table>\n",
       "<p>5110 rows × 12 columns</p>\n",
       "</div>"
      ],
      "text/plain": [
       "         id  gender       age  hypertension  heart_disease  ever_married  \\\n",
       "0      9046       0  0.816895             0              1             1   \n",
       "1     51676       1  0.743652             0              0             1   \n",
       "2     31112       0  0.975586             0              1             1   \n",
       "3     60182       1  0.597168             0              0             1   \n",
       "4      1665       1  0.963379             1              0             1   \n",
       "...     ...     ...       ...           ...            ...           ...   \n",
       "5105  18234       1  0.975586             1              0             1   \n",
       "5106  44873       1  0.987793             0              0             1   \n",
       "5107  19723       1  0.426270             0              0             1   \n",
       "5108  37544       0  0.621582             0              0             1   \n",
       "5109  44679       1  0.536133             0              0             1   \n",
       "\n",
       "      work_type  Residence_type  avg_glucose_level       bmi  smoking_status  \\\n",
       "0             0               1           0.323750  0.724928               0   \n",
       "1             1               0           0.323750  0.481375               1   \n",
       "2             0               0           0.447341  0.607450               1   \n",
       "3             0               1           0.323750  0.661891               2   \n",
       "4             1               0           0.323750  0.363897               1   \n",
       "...         ...             ...                ...       ...             ...   \n",
       "5105          0               1           0.252113  0.481375               1   \n",
       "5106          1               1           0.617119  0.822350               1   \n",
       "5107          1               0           0.245421  0.553009               1   \n",
       "5108          0               0           0.978954  0.409742               0   \n",
       "5109          2               1           0.265586  0.426934               3   \n",
       "\n",
       "      stroke  \n",
       "0          1  \n",
       "1          1  \n",
       "2          1  \n",
       "3          1  \n",
       "4          1  \n",
       "...      ...  \n",
       "5105       0  \n",
       "5106       0  \n",
       "5107       0  \n",
       "5108       0  \n",
       "5109       0  \n",
       "\n",
       "[5110 rows x 12 columns]"
      ]
     },
     "execution_count": 11,
     "metadata": {},
     "output_type": "execute_result"
    }
   ],
   "source": [
    "# Numerical variables to be normalized are: age, avg_glucose_level, and bmi.\n",
    "\n",
    "numeric_columns = ['age', 'avg_glucose_level', 'bmi']\n",
    "# Apply Min-Max normalization to scale the numerical columns to a range between 0 and 1\n",
    "df[numeric_columns] = MinMaxScaler().fit_transform(df[numeric_columns])\n",
    "df"
   ]
  },
  {
   "cell_type": "markdown",
   "metadata": {
    "id": "XPvhFOP3h1Wz"
   },
   "source": [
    "## 1.2. Data Visualization (10 Pts)\n",
    "\n",
    "* Visualize the distribution of numerical features\n",
    "* Analyze the relationship between categorical features (e.g., gender, work_type) and the target variable (stroke).\n",
    "* Plot a correlation heatmap to analyze their relationships.\n",
    "* Comment on any findings"
   ]
  },
  {
   "cell_type": "markdown",
   "metadata": {
    "id": "W0kUGIk6iU7r"
   },
   "source": [
    "### Visualize the distribution of numerical features"
   ]
  },
  {
   "cell_type": "markdown",
   "metadata": {},
   "source": [
    "#### Visualize the distribution of **age**"
   ]
  },
  {
   "cell_type": "code",
   "execution_count": 12,
   "metadata": {},
   "outputs": [
    {
     "data": {
      "image/png": "[encoded data removed]",
      "text/plain": [
       "<Figure size 640x480 with 1 Axes>"
      ]
     },
     "metadata": {},
     "output_type": "display_data"
    }
   ],
   "source": [
    "# Since age is a numerical variable, it was visualized using a histogram.\n",
    "plt.hist(df['age'],  color='#D7A3A1', edgecolor='black') \n",
    "\n",
    "plt.title('Distribution of Age')\n",
    "plt.show()"
   ]
  },
  {
   "cell_type": "markdown",
   "metadata": {},
   "source": [
    "Looking at the histogram, we can say that the age data is somewhat concentrated in the 0.4-0.6 range and has lower frequencies at the extremes. However, it exhibits an overall balanced distribution. In other words, middle-aged individuals are slightly more represented in the dataset compared to younger and older individuals."
   ]
  },
  {
   "cell_type": "markdown",
   "metadata": {},
   "source": [
    "#### Visualize the distribution of **avg_glucose_level**"
   ]
  },
  {
   "cell_type": "code",
   "execution_count": 13,
   "metadata": {},
   "outputs": [
    {
     "data": {
      "image/png": "[encoded data removed]",
      "text/plain": [
       "<Figure size 640x480 with 1 Axes>"
      ]
     },
     "metadata": {},
     "output_type": "display_data"
    }
   ],
   "source": [
    "# Since avg_glucose_level is a numerical variable, it was visualized using a histogram.\n",
    "plt.hist(df['avg_glucose_level'], color='#D7A3A1', edgecolor='black') \n",
    "plt.title('Distribution of avg_glucose_level')\n",
    "plt.show()"
   ]
  },
  {
   "cell_type": "markdown",
   "metadata": {},
   "source": [
    "The average glucose level increases up to the 0.4 mark, peaks in the 0.3-0.4 range, and then sharply declines, gradually decreasing afterward. It can be said to have a left-skewed structure."
   ]
  },
  {
   "cell_type": "markdown",
   "metadata": {},
   "source": [
    "#### Visualize the distribution of **bmi**"
   ]
  },
  {
   "cell_type": "code",
   "execution_count": 14,
   "metadata": {},
   "outputs": [
    {
     "data": {
      "image/png": "[encoded data removed]",
      "text/plain": [
       "<Figure size 640x480 with 1 Axes>"
      ]
     },
     "metadata": {},
     "output_type": "display_data"
    }
   ],
   "source": [
    "plt.hist(df['bmi'], color='#D7A3A1', edgecolor='black') \n",
    "plt.title('Distribution of bmi')\n",
    "plt.show()"
   ]
  },
  {
   "cell_type": "markdown",
   "metadata": {},
   "source": [
    "The BMI distribution follows a normal distribution. It gradually increases from 0.0 to 0.4, peaks between 0.4-0.5, and then decreases again."
   ]
  },
  {
   "cell_type": "markdown",
   "metadata": {},
   "source": [
    "### Analyze the relationship between categorical features (e.g., gender, work_type) and the target variable (stroke)."
   ]
  },
  {
   "cell_type": "markdown",
   "metadata": {},
   "source": [
    "##### Analyze the relationship between **gender** and stroke"
   ]
  },
  {
   "cell_type": "code",
   "execution_count": 15,
   "metadata": {},
   "outputs": [
    {
     "data": {
      "image/png": "[encoded data removed]",
      "text/plain": [
       "<Figure size 640x480 with 1 Axes>"
      ]
     },
     "metadata": {},
     "output_type": "display_data"
    }
   ],
   "source": [
    "#target variable is 'stroke'\n",
    "\n",
    "# Create a count plot to visualize the relationship between 'gender' and 'stroke'\n",
    "# 'x' represents the gender, 'hue' represents the 'stroke' to distinguish between the two classes.\n",
    "sns.countplot(data=df, x='gender', hue='stroke', palette=['#B7C3B9', '#FAC546'])\n",
    "plt.title('Gender vs Stroke')\n",
    "plt.xlabel('Gender')\n",
    "plt.ylabel('Count')\n",
    "plt.show()"
   ]
  },
  {
   "cell_type": "markdown",
   "metadata": {},
   "source": [
    "When the plot is examined, the stroke 1 ratio is much lower than the stroke 0 ratio for both male and female."
   ]
  },
  {
   "cell_type": "markdown",
   "metadata": {},
   "source": [
    "##### Analyze the relationship between **ever_married** and stroke"
   ]
  },
  {
   "cell_type": "code",
   "execution_count": 16,
   "metadata": {},
   "outputs": [
    {
     "data": {
      "image/png": "[encoded data removed]",
      "text/plain": [
       "<Figure size 640x480 with 1 Axes>"
      ]
     },
     "metadata": {},
     "output_type": "display_data"
    }
   ],
   "source": [
    "#target variable is 'stroke'\n",
    "\n",
    "# Create a count plot to visualize the relationship between 'ever_married' and 'stroke'\n",
    "# 'x' represents the ever_married , 'hue' represents the 'stroke' to distinguish between the two classes.\n",
    "sns.countplot(data=df, x='ever_married', hue='stroke', palette=['#B7C3B9', '#FAC546'])\n",
    "plt.title('ever_married vs Stroke')\n",
    "plt.xlabel('ever_married')\n",
    "plt.ylabel('Count')\n",
    "plt.show()"
   ]
  },
  {
   "cell_type": "markdown",
   "metadata": {},
   "source": [
    "When the plot is examined, it is observed that the count of \"ever_married = yes\" values is higher than \"ever_married = no\" values, and for both \"yes\" and \"no,\" the number of stroke 0 values is significantly higher than stroke 1 values."
   ]
  },
  {
   "cell_type": "markdown",
   "metadata": {},
   "source": [
    "##### Analyze the relationship between **work_type** and stroke"
   ]
  },
  {
   "cell_type": "code",
   "execution_count": 17,
   "metadata": {},
   "outputs": [
    {
     "data": {
      "image/png": "[encoded data removed]",
      "text/plain": [
       "<Figure size 640x480 with 1 Axes>"
      ]
     },
     "metadata": {},
     "output_type": "display_data"
    }
   ],
   "source": [
    "#target variable is 'stroke'\n",
    "\n",
    "# Create a count plot to visualize the relationship between 'work_type' and 'stroke'\n",
    "# 'x' represents the work_type , 'hue' represents the 'stroke' to distinguish between the two classes.\n",
    "sns.countplot(data=df, x='work_type', hue='stroke', palette=['#B7C3B9', '#FAC546'])\n",
    "plt.title('work_type vs Stroke')\n",
    "plt.xlabel('work_type')\n",
    "plt.ylabel('Count')\n",
    "plt.show()"
   ]
  },
  {
   "cell_type": "markdown",
   "metadata": {},
   "source": [
    "When the plot is examined, it is observed that \"work_type = private\" has the highest count compared to other categories, and for all work types, the number of stroke 0 values is significantly higher than stroke 1 values. Additionally, almost all \"children\" values are stroke 0, and \"never_worked\" values are very few in number."
   ]
  },
  {
   "cell_type": "markdown",
   "metadata": {},
   "source": [
    "##### Analyze the relationship between **Residence_type** and stroke"
   ]
  },
  {
   "cell_type": "code",
   "execution_count": 18,
   "metadata": {},
   "outputs": [
    {
     "data": {
      "image/png": "[encoded data removed]",
      "text/plain": [
       "<Figure size 640x480 with 1 Axes>"
      ]
     },
     "metadata": {},
     "output_type": "display_data"
    }
   ],
   "source": [
    "#target variable is 'stroke'\n",
    "\n",
    "# Create a count plot to visualize the relationship between 'Residence_type' and 'stroke'\n",
    "# 'x' represents the Residence_type , 'hue' represents the 'stroke' to distinguish between the two classes.\n",
    "sns.countplot(data=df, x='Residence_type', hue='stroke', palette=['#B7C3B9', '#FAC546'])\n",
    "plt.title('Residence_type vs Stroke')\n",
    "plt.xlabel('Residence_type')\n",
    "plt.ylabel('Count')\n",
    "plt.show()"
   ]
  },
  {
   "cell_type": "markdown",
   "metadata": {},
   "source": [
    "When the plot is examined, it is observed that the \"urban\" and \"rural\" values are almost equal, and for both, the number of stroke 0 values is significantly higher than stroke 1 values."
   ]
  },
  {
   "cell_type": "markdown",
   "metadata": {},
   "source": [
    "##### Analyze the relationship between **smoking_status** and stroke"
   ]
  },
  {
   "cell_type": "code",
   "execution_count": 19,
   "metadata": {},
   "outputs": [
    {
     "data": {
      "image/png": "[encoded data removed]",
      "text/plain": [
       "<Figure size 640x480 with 1 Axes>"
      ]
     },
     "metadata": {},
     "output_type": "display_data"
    }
   ],
   "source": [
    "#target variable is 'stroke'\n",
    "\n",
    "# Create a count plot to visualize the relationship between 'smoking_status' and 'stroke'\n",
    "# 'x' represents the smoking_status , 'hue' represents the 'stroke' to distinguish between the two classes.\n",
    "sns.countplot(data=df, x='smoking_status', hue='stroke', palette=['#B7C3B9', '#FAC546'])\n",
    "plt.title('smoking_status vs Stroke')\n",
    "plt.xlabel('smoking_status')\n",
    "plt.ylabel('Count')\n",
    "plt.show()"
   ]
  },
  {
   "cell_type": "markdown",
   "metadata": {},
   "source": [
    "When the plot is examined, it is observed that the number of \"never_smoked\" values is higher than the others, and for all smoking_status values, the count of stroke 0 is significantly greater than stroke 1."
   ]
  },
  {
   "cell_type": "markdown",
   "metadata": {},
   "source": [
    "### Plot a correlation heatmap to analyze their relationships."
   ]
  },
  {
   "cell_type": "code",
   "execution_count": 20,
   "metadata": {},
   "outputs": [
    {
     "data": {
      "image/png": "[encoded data removed]",
      "text/plain": [
       "<Figure size 640x480 with 2 Axes>"
      ]
     },
     "metadata": {},
     "output_type": "display_data"
    }
   ],
   "source": [
    "# select numerical variables except id \n",
    "numeric_df = df.select_dtypes(include=['float64', 'int64']).drop(columns=['id'])\n",
    "correlation_matrix = numeric_df.corr()\n",
    "\n",
    "# create heatmap\n",
    "plt.imshow(correlation_matrix, cmap='YlGnBu')\n",
    "plt.colorbar(label=\"Correlation Coefficient\")\n",
    "\n",
    "plt.xticks(np.arange(len(correlation_matrix.columns)), correlation_matrix.columns, rotation=90)\n",
    "plt.yticks(np.arange(len(correlation_matrix.columns)), correlation_matrix.columns)\n",
    "\n",
    "plt.title('Correlation')\n",
    "plt.show()"
   ]
  },
  {
   "cell_type": "markdown",
   "metadata": {},
   "source": [
    "The correlation matrix shows that age, hypertension, heart disease, and glucose levels are positively correlated with stroke. Variables such as gender and residence type do not show a significant relationship with stroke. Overall, it can be said that medical factors have a greater impact on stroke risk."
   ]
  },
  {
   "cell_type": "markdown",
   "metadata": {
    "id": "x40d41YfidvJ"
   },
   "source": [
    "## 1.3. Data Splitting (5 Pts)\n",
    "\n",
    "* Manually split the dataset into training (70%) and testing (30%) sets\n",
    "* Shuffle and split the data\n",
    "* Avoid using predefined functions like train_test_split for this task\n"
   ]
  },
  {
   "cell_type": "code",
   "execution_count": 21,
   "metadata": {
    "id": "wxgqgzupi95e"
   },
   "outputs": [
    {
     "data": {
      "text/html": [
       "<div>\n",
       "<style scoped>\n",
       "    .dataframe tbody tr th:only-of-type {\n",
       "        vertical-align: middle;\n",
       "    }\n",
       "\n",
       "    .dataframe tbody tr th {\n",
       "        vertical-align: top;\n",
       "    }\n",
       "\n",
       "    .dataframe thead th {\n",
       "        text-align: right;\n",
       "    }\n",
       "</style>\n",
       "<table border=\"1\" class=\"dataframe\">\n",
       "  <thead>\n",
       "    <tr style=\"text-align: right;\">\n",
       "      <th></th>\n",
       "      <th>id</th>\n",
       "      <th>gender</th>\n",
       "      <th>age</th>\n",
       "      <th>hypertension</th>\n",
       "      <th>heart_disease</th>\n",
       "      <th>ever_married</th>\n",
       "      <th>work_type</th>\n",
       "      <th>Residence_type</th>\n",
       "      <th>avg_glucose_level</th>\n",
       "      <th>bmi</th>\n",
       "      <th>smoking_status</th>\n",
       "      <th>stroke</th>\n",
       "    </tr>\n",
       "  </thead>\n",
       "  <tbody>\n",
       "    <tr>\n",
       "      <th>0</th>\n",
       "      <td>37634.0</td>\n",
       "      <td>0.0</td>\n",
       "      <td>0.060059</td>\n",
       "      <td>0.0</td>\n",
       "      <td>0.0</td>\n",
       "      <td>0.0</td>\n",
       "      <td>3.0</td>\n",
       "      <td>1.0</td>\n",
       "      <td>0.043765</td>\n",
       "      <td>0.237822</td>\n",
       "      <td>3.0</td>\n",
       "      <td>0.0</td>\n",
       "    </tr>\n",
       "    <tr>\n",
       "      <th>1</th>\n",
       "      <td>42284.0</td>\n",
       "      <td>0.0</td>\n",
       "      <td>0.865723</td>\n",
       "      <td>1.0</td>\n",
       "      <td>0.0</td>\n",
       "      <td>1.0</td>\n",
       "      <td>1.0</td>\n",
       "      <td>0.0</td>\n",
       "      <td>0.373811</td>\n",
       "      <td>0.446991</td>\n",
       "      <td>3.0</td>\n",
       "      <td>0.0</td>\n",
       "    </tr>\n",
       "    <tr>\n",
       "      <th>2</th>\n",
       "      <td>27693.0</td>\n",
       "      <td>1.0</td>\n",
       "      <td>0.182129</td>\n",
       "      <td>0.0</td>\n",
       "      <td>0.0</td>\n",
       "      <td>0.0</td>\n",
       "      <td>3.0</td>\n",
       "      <td>1.0</td>\n",
       "      <td>0.583568</td>\n",
       "      <td>0.449857</td>\n",
       "      <td>3.0</td>\n",
       "      <td>0.0</td>\n",
       "    </tr>\n",
       "    <tr>\n",
       "      <th>3</th>\n",
       "      <td>50463.0</td>\n",
       "      <td>1.0</td>\n",
       "      <td>0.499512</td>\n",
       "      <td>0.0</td>\n",
       "      <td>0.0</td>\n",
       "      <td>1.0</td>\n",
       "      <td>0.0</td>\n",
       "      <td>1.0</td>\n",
       "      <td>0.207996</td>\n",
       "      <td>0.888252</td>\n",
       "      <td>2.0</td>\n",
       "      <td>0.0</td>\n",
       "    </tr>\n",
       "    <tr>\n",
       "      <th>4</th>\n",
       "      <td>43054.0</td>\n",
       "      <td>1.0</td>\n",
       "      <td>0.609375</td>\n",
       "      <td>0.0</td>\n",
       "      <td>0.0</td>\n",
       "      <td>1.0</td>\n",
       "      <td>0.0</td>\n",
       "      <td>0.0</td>\n",
       "      <td>0.414230</td>\n",
       "      <td>0.575931</td>\n",
       "      <td>2.0</td>\n",
       "      <td>1.0</td>\n",
       "    </tr>\n",
       "    <tr>\n",
       "      <th>...</th>\n",
       "      <td>...</td>\n",
       "      <td>...</td>\n",
       "      <td>...</td>\n",
       "      <td>...</td>\n",
       "      <td>...</td>\n",
       "      <td>...</td>\n",
       "      <td>...</td>\n",
       "      <td>...</td>\n",
       "      <td>...</td>\n",
       "      <td>...</td>\n",
       "      <td>...</td>\n",
       "      <td>...</td>\n",
       "    </tr>\n",
       "    <tr>\n",
       "      <th>5105</th>\n",
       "      <td>39322.0</td>\n",
       "      <td>0.0</td>\n",
       "      <td>0.218750</td>\n",
       "      <td>0.0</td>\n",
       "      <td>0.0</td>\n",
       "      <td>0.0</td>\n",
       "      <td>0.0</td>\n",
       "      <td>1.0</td>\n",
       "      <td>0.224287</td>\n",
       "      <td>0.335244</td>\n",
       "      <td>3.0</td>\n",
       "      <td>0.0</td>\n",
       "    </tr>\n",
       "    <tr>\n",
       "      <th>5106</th>\n",
       "      <td>16953.0</td>\n",
       "      <td>1.0</td>\n",
       "      <td>0.731445</td>\n",
       "      <td>0.0</td>\n",
       "      <td>0.0</td>\n",
       "      <td>1.0</td>\n",
       "      <td>2.0</td>\n",
       "      <td>0.0</td>\n",
       "      <td>0.060056</td>\n",
       "      <td>0.475645</td>\n",
       "      <td>0.0</td>\n",
       "      <td>0.0</td>\n",
       "    </tr>\n",
       "    <tr>\n",
       "      <th>5107</th>\n",
       "      <td>39017.0</td>\n",
       "      <td>1.0</td>\n",
       "      <td>0.877930</td>\n",
       "      <td>0.0</td>\n",
       "      <td>0.0</td>\n",
       "      <td>1.0</td>\n",
       "      <td>2.0</td>\n",
       "      <td>0.0</td>\n",
       "      <td>0.555653</td>\n",
       "      <td>0.303725</td>\n",
       "      <td>0.0</td>\n",
       "      <td>0.0</td>\n",
       "    </tr>\n",
       "    <tr>\n",
       "      <th>5108</th>\n",
       "      <td>32094.0</td>\n",
       "      <td>0.0</td>\n",
       "      <td>0.645996</td>\n",
       "      <td>1.0</td>\n",
       "      <td>0.0</td>\n",
       "      <td>1.0</td>\n",
       "      <td>1.0</td>\n",
       "      <td>1.0</td>\n",
       "      <td>0.207467</td>\n",
       "      <td>0.521490</td>\n",
       "      <td>1.0</td>\n",
       "      <td>0.0</td>\n",
       "    </tr>\n",
       "    <tr>\n",
       "      <th>5109</th>\n",
       "      <td>42251.0</td>\n",
       "      <td>0.0</td>\n",
       "      <td>0.865723</td>\n",
       "      <td>1.0</td>\n",
       "      <td>1.0</td>\n",
       "      <td>1.0</td>\n",
       "      <td>1.0</td>\n",
       "      <td>0.0</td>\n",
       "      <td>0.105143</td>\n",
       "      <td>0.441261</td>\n",
       "      <td>2.0</td>\n",
       "      <td>0.0</td>\n",
       "    </tr>\n",
       "  </tbody>\n",
       "</table>\n",
       "<p>5110 rows × 12 columns</p>\n",
       "</div>"
      ],
      "text/plain": [
       "           id  gender       age  hypertension  heart_disease  ever_married  \\\n",
       "0     37634.0     0.0  0.060059           0.0            0.0           0.0   \n",
       "1     42284.0     0.0  0.865723           1.0            0.0           1.0   \n",
       "2     27693.0     1.0  0.182129           0.0            0.0           0.0   \n",
       "3     50463.0     1.0  0.499512           0.0            0.0           1.0   \n",
       "4     43054.0     1.0  0.609375           0.0            0.0           1.0   \n",
       "...       ...     ...       ...           ...            ...           ...   \n",
       "5105  39322.0     0.0  0.218750           0.0            0.0           0.0   \n",
       "5106  16953.0     1.0  0.731445           0.0            0.0           1.0   \n",
       "5107  39017.0     1.0  0.877930           0.0            0.0           1.0   \n",
       "5108  32094.0     0.0  0.645996           1.0            0.0           1.0   \n",
       "5109  42251.0     0.0  0.865723           1.0            1.0           1.0   \n",
       "\n",
       "      work_type  Residence_type  avg_glucose_level       bmi  smoking_status  \\\n",
       "0           3.0             1.0           0.043765  0.237822             3.0   \n",
       "1           1.0             0.0           0.373811  0.446991             3.0   \n",
       "2           3.0             1.0           0.583568  0.449857             3.0   \n",
       "3           0.0             1.0           0.207996  0.888252             2.0   \n",
       "4           0.0             0.0           0.414230  0.575931             2.0   \n",
       "...         ...             ...                ...       ...             ...   \n",
       "5105        0.0             1.0           0.224287  0.335244             3.0   \n",
       "5106        2.0             0.0           0.060056  0.475645             0.0   \n",
       "5107        2.0             0.0           0.555653  0.303725             0.0   \n",
       "5108        1.0             1.0           0.207467  0.521490             1.0   \n",
       "5109        1.0             0.0           0.105143  0.441261             2.0   \n",
       "\n",
       "      stroke  \n",
       "0        0.0  \n",
       "1        0.0  \n",
       "2        0.0  \n",
       "3        0.0  \n",
       "4        1.0  \n",
       "...      ...  \n",
       "5105     0.0  \n",
       "5106     0.0  \n",
       "5107     0.0  \n",
       "5108     0.0  \n",
       "5109     0.0  \n",
       "\n",
       "[5110 rows x 12 columns]"
      ]
     },
     "execution_count": 21,
     "metadata": {},
     "output_type": "execute_result"
    }
   ],
   "source": [
    "# Keep all possible indices in a list.\n",
    "indices = list(range(len(df)))\n",
    "\n",
    "# Create an empty dataframe to create the shuffled df.\n",
    "shuffled_df = pd.DataFrame(columns=df.columns)\n",
    "\n",
    "#Select a random index from the indices list and assign it to the shuffled_df sequentially.\n",
    "#Then, remove that index from the indices list so it is no longer available.\n",
    "for i in range(len(df)):\n",
    "    rand_index = random.randint(0, len(indices) - 1)\n",
    "    shuffled_df.loc[len(shuffled_df)] = df.iloc[indices[rand_index]].values\n",
    "\n",
    "    indices.pop(rand_index)\n",
    "\n",
    "shuffled_df"
   ]
  },
  {
   "cell_type": "code",
   "execution_count": 22,
   "metadata": {},
   "outputs": [],
   "source": [
    "#Take the first %70 of the shuffled DataFrame to create train_df and the remaining %30 to create test_df.\n",
    "indices = list(shuffled_df.index)\n",
    "\n",
    "train_size = int(0.7 * len(shuffled_df))\n",
    "\n",
    "train_df = shuffled_df.iloc[indices[:train_size]]\n",
    "test_df = shuffled_df.iloc[indices[train_size:]]"
   ]
  },
  {
   "cell_type": "code",
   "execution_count": 23,
   "metadata": {},
   "outputs": [
    {
     "data": {
      "text/html": [
       "<div>\n",
       "<style scoped>\n",
       "    .dataframe tbody tr th:only-of-type {\n",
       "        vertical-align: middle;\n",
       "    }\n",
       "\n",
       "    .dataframe tbody tr th {\n",
       "        vertical-align: top;\n",
       "    }\n",
       "\n",
       "    .dataframe thead th {\n",
       "        text-align: right;\n",
       "    }\n",
       "</style>\n",
       "<table border=\"1\" class=\"dataframe\">\n",
       "  <thead>\n",
       "    <tr style=\"text-align: right;\">\n",
       "      <th></th>\n",
       "      <th>id</th>\n",
       "      <th>gender</th>\n",
       "      <th>age</th>\n",
       "      <th>hypertension</th>\n",
       "      <th>heart_disease</th>\n",
       "      <th>ever_married</th>\n",
       "      <th>work_type</th>\n",
       "      <th>Residence_type</th>\n",
       "      <th>avg_glucose_level</th>\n",
       "      <th>bmi</th>\n",
       "      <th>smoking_status</th>\n",
       "      <th>stroke</th>\n",
       "    </tr>\n",
       "  </thead>\n",
       "  <tbody>\n",
       "    <tr>\n",
       "      <th>0</th>\n",
       "      <td>37634.0</td>\n",
       "      <td>0.0</td>\n",
       "      <td>0.060059</td>\n",
       "      <td>0.0</td>\n",
       "      <td>0.0</td>\n",
       "      <td>0.0</td>\n",
       "      <td>3.0</td>\n",
       "      <td>1.0</td>\n",
       "      <td>0.043765</td>\n",
       "      <td>0.237822</td>\n",
       "      <td>3.0</td>\n",
       "      <td>0.0</td>\n",
       "    </tr>\n",
       "    <tr>\n",
       "      <th>1</th>\n",
       "      <td>42284.0</td>\n",
       "      <td>0.0</td>\n",
       "      <td>0.865723</td>\n",
       "      <td>1.0</td>\n",
       "      <td>0.0</td>\n",
       "      <td>1.0</td>\n",
       "      <td>1.0</td>\n",
       "      <td>0.0</td>\n",
       "      <td>0.373811</td>\n",
       "      <td>0.446991</td>\n",
       "      <td>3.0</td>\n",
       "      <td>0.0</td>\n",
       "    </tr>\n",
       "    <tr>\n",
       "      <th>2</th>\n",
       "      <td>27693.0</td>\n",
       "      <td>1.0</td>\n",
       "      <td>0.182129</td>\n",
       "      <td>0.0</td>\n",
       "      <td>0.0</td>\n",
       "      <td>0.0</td>\n",
       "      <td>3.0</td>\n",
       "      <td>1.0</td>\n",
       "      <td>0.583568</td>\n",
       "      <td>0.449857</td>\n",
       "      <td>3.0</td>\n",
       "      <td>0.0</td>\n",
       "    </tr>\n",
       "    <tr>\n",
       "      <th>3</th>\n",
       "      <td>50463.0</td>\n",
       "      <td>1.0</td>\n",
       "      <td>0.499512</td>\n",
       "      <td>0.0</td>\n",
       "      <td>0.0</td>\n",
       "      <td>1.0</td>\n",
       "      <td>0.0</td>\n",
       "      <td>1.0</td>\n",
       "      <td>0.207996</td>\n",
       "      <td>0.888252</td>\n",
       "      <td>2.0</td>\n",
       "      <td>0.0</td>\n",
       "    </tr>\n",
       "    <tr>\n",
       "      <th>4</th>\n",
       "      <td>43054.0</td>\n",
       "      <td>1.0</td>\n",
       "      <td>0.609375</td>\n",
       "      <td>0.0</td>\n",
       "      <td>0.0</td>\n",
       "      <td>1.0</td>\n",
       "      <td>0.0</td>\n",
       "      <td>0.0</td>\n",
       "      <td>0.414230</td>\n",
       "      <td>0.575931</td>\n",
       "      <td>2.0</td>\n",
       "      <td>1.0</td>\n",
       "    </tr>\n",
       "    <tr>\n",
       "      <th>...</th>\n",
       "      <td>...</td>\n",
       "      <td>...</td>\n",
       "      <td>...</td>\n",
       "      <td>...</td>\n",
       "      <td>...</td>\n",
       "      <td>...</td>\n",
       "      <td>...</td>\n",
       "      <td>...</td>\n",
       "      <td>...</td>\n",
       "      <td>...</td>\n",
       "      <td>...</td>\n",
       "      <td>...</td>\n",
       "    </tr>\n",
       "    <tr>\n",
       "      <th>3572</th>\n",
       "      <td>17006.0</td>\n",
       "      <td>0.0</td>\n",
       "      <td>0.230957</td>\n",
       "      <td>0.0</td>\n",
       "      <td>0.0</td>\n",
       "      <td>0.0</td>\n",
       "      <td>0.0</td>\n",
       "      <td>0.0</td>\n",
       "      <td>0.562874</td>\n",
       "      <td>0.704871</td>\n",
       "      <td>3.0</td>\n",
       "      <td>0.0</td>\n",
       "    </tr>\n",
       "    <tr>\n",
       "      <th>3573</th>\n",
       "      <td>29380.0</td>\n",
       "      <td>1.0</td>\n",
       "      <td>0.511719</td>\n",
       "      <td>1.0</td>\n",
       "      <td>0.0</td>\n",
       "      <td>1.0</td>\n",
       "      <td>0.0</td>\n",
       "      <td>0.0</td>\n",
       "      <td>0.306798</td>\n",
       "      <td>0.696275</td>\n",
       "      <td>1.0</td>\n",
       "      <td>0.0</td>\n",
       "    </tr>\n",
       "    <tr>\n",
       "      <th>3574</th>\n",
       "      <td>41730.0</td>\n",
       "      <td>1.0</td>\n",
       "      <td>0.560547</td>\n",
       "      <td>0.0</td>\n",
       "      <td>0.0</td>\n",
       "      <td>0.0</td>\n",
       "      <td>2.0</td>\n",
       "      <td>0.0</td>\n",
       "      <td>0.503434</td>\n",
       "      <td>0.349570</td>\n",
       "      <td>3.0</td>\n",
       "      <td>0.0</td>\n",
       "    </tr>\n",
       "    <tr>\n",
       "      <th>3575</th>\n",
       "      <td>32437.0</td>\n",
       "      <td>1.0</td>\n",
       "      <td>0.658203</td>\n",
       "      <td>0.0</td>\n",
       "      <td>0.0</td>\n",
       "      <td>1.0</td>\n",
       "      <td>1.0</td>\n",
       "      <td>1.0</td>\n",
       "      <td>0.460990</td>\n",
       "      <td>0.515759</td>\n",
       "      <td>0.0</td>\n",
       "      <td>0.0</td>\n",
       "    </tr>\n",
       "    <tr>\n",
       "      <th>3576</th>\n",
       "      <td>7371.0</td>\n",
       "      <td>1.0</td>\n",
       "      <td>0.975586</td>\n",
       "      <td>1.0</td>\n",
       "      <td>0.0</td>\n",
       "      <td>1.0</td>\n",
       "      <td>1.0</td>\n",
       "      <td>0.0</td>\n",
       "      <td>0.154544</td>\n",
       "      <td>0.504298</td>\n",
       "      <td>1.0</td>\n",
       "      <td>1.0</td>\n",
       "    </tr>\n",
       "  </tbody>\n",
       "</table>\n",
       "<p>3577 rows × 12 columns</p>\n",
       "</div>"
      ],
      "text/plain": [
       "           id  gender       age  hypertension  heart_disease  ever_married  \\\n",
       "0     37634.0     0.0  0.060059           0.0            0.0           0.0   \n",
       "1     42284.0     0.0  0.865723           1.0            0.0           1.0   \n",
       "2     27693.0     1.0  0.182129           0.0            0.0           0.0   \n",
       "3     50463.0     1.0  0.499512           0.0            0.0           1.0   \n",
       "4     43054.0     1.0  0.609375           0.0            0.0           1.0   \n",
       "...       ...     ...       ...           ...            ...           ...   \n",
       "3572  17006.0     0.0  0.230957           0.0            0.0           0.0   \n",
       "3573  29380.0     1.0  0.511719           1.0            0.0           1.0   \n",
       "3574  41730.0     1.0  0.560547           0.0            0.0           0.0   \n",
       "3575  32437.0     1.0  0.658203           0.0            0.0           1.0   \n",
       "3576   7371.0     1.0  0.975586           1.0            0.0           1.0   \n",
       "\n",
       "      work_type  Residence_type  avg_glucose_level       bmi  smoking_status  \\\n",
       "0           3.0             1.0           0.043765  0.237822             3.0   \n",
       "1           1.0             0.0           0.373811  0.446991             3.0   \n",
       "2           3.0             1.0           0.583568  0.449857             3.0   \n",
       "3           0.0             1.0           0.207996  0.888252             2.0   \n",
       "4           0.0             0.0           0.414230  0.575931             2.0   \n",
       "...         ...             ...                ...       ...             ...   \n",
       "3572        0.0             0.0           0.562874  0.704871             3.0   \n",
       "3573        0.0             0.0           0.306798  0.696275             1.0   \n",
       "3574        2.0             0.0           0.503434  0.349570             3.0   \n",
       "3575        1.0             1.0           0.460990  0.515759             0.0   \n",
       "3576        1.0             0.0           0.154544  0.504298             1.0   \n",
       "\n",
       "      stroke  \n",
       "0        0.0  \n",
       "1        0.0  \n",
       "2        0.0  \n",
       "3        0.0  \n",
       "4        1.0  \n",
       "...      ...  \n",
       "3572     0.0  \n",
       "3573     0.0  \n",
       "3574     0.0  \n",
       "3575     0.0  \n",
       "3576     1.0  \n",
       "\n",
       "[3577 rows x 12 columns]"
      ]
     },
     "execution_count": 23,
     "metadata": {},
     "output_type": "execute_result"
    }
   ],
   "source": [
    "train_df"
   ]
  },
  {
   "cell_type": "code",
   "execution_count": 24,
   "metadata": {},
   "outputs": [
    {
     "data": {
      "text/html": [
       "<div>\n",
       "<style scoped>\n",
       "    .dataframe tbody tr th:only-of-type {\n",
       "        vertical-align: middle;\n",
       "    }\n",
       "\n",
       "    .dataframe tbody tr th {\n",
       "        vertical-align: top;\n",
       "    }\n",
       "\n",
       "    .dataframe thead th {\n",
       "        text-align: right;\n",
       "    }\n",
       "</style>\n",
       "<table border=\"1\" class=\"dataframe\">\n",
       "  <thead>\n",
       "    <tr style=\"text-align: right;\">\n",
       "      <th></th>\n",
       "      <th>id</th>\n",
       "      <th>gender</th>\n",
       "      <th>age</th>\n",
       "      <th>hypertension</th>\n",
       "      <th>heart_disease</th>\n",
       "      <th>ever_married</th>\n",
       "      <th>work_type</th>\n",
       "      <th>Residence_type</th>\n",
       "      <th>avg_glucose_level</th>\n",
       "      <th>bmi</th>\n",
       "      <th>smoking_status</th>\n",
       "      <th>stroke</th>\n",
       "    </tr>\n",
       "  </thead>\n",
       "  <tbody>\n",
       "    <tr>\n",
       "      <th>3577</th>\n",
       "      <td>35123.0</td>\n",
       "      <td>1.0</td>\n",
       "      <td>0.014160</td>\n",
       "      <td>0.0</td>\n",
       "      <td>0.0</td>\n",
       "      <td>0.0</td>\n",
       "      <td>3.0</td>\n",
       "      <td>1.0</td>\n",
       "      <td>0.256076</td>\n",
       "      <td>0.226361</td>\n",
       "      <td>3.0</td>\n",
       "      <td>0.0</td>\n",
       "    </tr>\n",
       "    <tr>\n",
       "      <th>3578</th>\n",
       "      <td>40124.0</td>\n",
       "      <td>0.0</td>\n",
       "      <td>0.877930</td>\n",
       "      <td>0.0</td>\n",
       "      <td>0.0</td>\n",
       "      <td>1.0</td>\n",
       "      <td>1.0</td>\n",
       "      <td>0.0</td>\n",
       "      <td>0.149436</td>\n",
       "      <td>0.481375</td>\n",
       "      <td>2.0</td>\n",
       "      <td>0.0</td>\n",
       "    </tr>\n",
       "    <tr>\n",
       "      <th>3579</th>\n",
       "      <td>16355.0</td>\n",
       "      <td>0.0</td>\n",
       "      <td>0.243164</td>\n",
       "      <td>0.0</td>\n",
       "      <td>0.0</td>\n",
       "      <td>0.0</td>\n",
       "      <td>0.0</td>\n",
       "      <td>1.0</td>\n",
       "      <td>0.365093</td>\n",
       "      <td>0.916905</td>\n",
       "      <td>1.0</td>\n",
       "      <td>0.0</td>\n",
       "    </tr>\n",
       "    <tr>\n",
       "      <th>3580</th>\n",
       "      <td>56410.0</td>\n",
       "      <td>0.0</td>\n",
       "      <td>0.021973</td>\n",
       "      <td>0.0</td>\n",
       "      <td>0.0</td>\n",
       "      <td>0.0</td>\n",
       "      <td>3.0</td>\n",
       "      <td>1.0</td>\n",
       "      <td>0.231596</td>\n",
       "      <td>0.063037</td>\n",
       "      <td>3.0</td>\n",
       "      <td>0.0</td>\n",
       "    </tr>\n",
       "    <tr>\n",
       "      <th>3581</th>\n",
       "      <td>23890.0</td>\n",
       "      <td>1.0</td>\n",
       "      <td>0.536133</td>\n",
       "      <td>1.0</td>\n",
       "      <td>0.0</td>\n",
       "      <td>1.0</td>\n",
       "      <td>2.0</td>\n",
       "      <td>0.0</td>\n",
       "      <td>0.446020</td>\n",
       "      <td>0.730659</td>\n",
       "      <td>1.0</td>\n",
       "      <td>0.0</td>\n",
       "    </tr>\n",
       "    <tr>\n",
       "      <th>...</th>\n",
       "      <td>...</td>\n",
       "      <td>...</td>\n",
       "      <td>...</td>\n",
       "      <td>...</td>\n",
       "      <td>...</td>\n",
       "      <td>...</td>\n",
       "      <td>...</td>\n",
       "      <td>...</td>\n",
       "      <td>...</td>\n",
       "      <td>...</td>\n",
       "      <td>...</td>\n",
       "      <td>...</td>\n",
       "    </tr>\n",
       "    <tr>\n",
       "      <th>5105</th>\n",
       "      <td>39322.0</td>\n",
       "      <td>0.0</td>\n",
       "      <td>0.218750</td>\n",
       "      <td>0.0</td>\n",
       "      <td>0.0</td>\n",
       "      <td>0.0</td>\n",
       "      <td>0.0</td>\n",
       "      <td>1.0</td>\n",
       "      <td>0.224287</td>\n",
       "      <td>0.335244</td>\n",
       "      <td>3.0</td>\n",
       "      <td>0.0</td>\n",
       "    </tr>\n",
       "    <tr>\n",
       "      <th>5106</th>\n",
       "      <td>16953.0</td>\n",
       "      <td>1.0</td>\n",
       "      <td>0.731445</td>\n",
       "      <td>0.0</td>\n",
       "      <td>0.0</td>\n",
       "      <td>1.0</td>\n",
       "      <td>2.0</td>\n",
       "      <td>0.0</td>\n",
       "      <td>0.060056</td>\n",
       "      <td>0.475645</td>\n",
       "      <td>0.0</td>\n",
       "      <td>0.0</td>\n",
       "    </tr>\n",
       "    <tr>\n",
       "      <th>5107</th>\n",
       "      <td>39017.0</td>\n",
       "      <td>1.0</td>\n",
       "      <td>0.877930</td>\n",
       "      <td>0.0</td>\n",
       "      <td>0.0</td>\n",
       "      <td>1.0</td>\n",
       "      <td>2.0</td>\n",
       "      <td>0.0</td>\n",
       "      <td>0.555653</td>\n",
       "      <td>0.303725</td>\n",
       "      <td>0.0</td>\n",
       "      <td>0.0</td>\n",
       "    </tr>\n",
       "    <tr>\n",
       "      <th>5108</th>\n",
       "      <td>32094.0</td>\n",
       "      <td>0.0</td>\n",
       "      <td>0.645996</td>\n",
       "      <td>1.0</td>\n",
       "      <td>0.0</td>\n",
       "      <td>1.0</td>\n",
       "      <td>1.0</td>\n",
       "      <td>1.0</td>\n",
       "      <td>0.207467</td>\n",
       "      <td>0.521490</td>\n",
       "      <td>1.0</td>\n",
       "      <td>0.0</td>\n",
       "    </tr>\n",
       "    <tr>\n",
       "      <th>5109</th>\n",
       "      <td>42251.0</td>\n",
       "      <td>0.0</td>\n",
       "      <td>0.865723</td>\n",
       "      <td>1.0</td>\n",
       "      <td>1.0</td>\n",
       "      <td>1.0</td>\n",
       "      <td>1.0</td>\n",
       "      <td>0.0</td>\n",
       "      <td>0.105143</td>\n",
       "      <td>0.441261</td>\n",
       "      <td>2.0</td>\n",
       "      <td>0.0</td>\n",
       "    </tr>\n",
       "  </tbody>\n",
       "</table>\n",
       "<p>1533 rows × 12 columns</p>\n",
       "</div>"
      ],
      "text/plain": [
       "           id  gender       age  hypertension  heart_disease  ever_married  \\\n",
       "3577  35123.0     1.0  0.014160           0.0            0.0           0.0   \n",
       "3578  40124.0     0.0  0.877930           0.0            0.0           1.0   \n",
       "3579  16355.0     0.0  0.243164           0.0            0.0           0.0   \n",
       "3580  56410.0     0.0  0.021973           0.0            0.0           0.0   \n",
       "3581  23890.0     1.0  0.536133           1.0            0.0           1.0   \n",
       "...       ...     ...       ...           ...            ...           ...   \n",
       "5105  39322.0     0.0  0.218750           0.0            0.0           0.0   \n",
       "5106  16953.0     1.0  0.731445           0.0            0.0           1.0   \n",
       "5107  39017.0     1.0  0.877930           0.0            0.0           1.0   \n",
       "5108  32094.0     0.0  0.645996           1.0            0.0           1.0   \n",
       "5109  42251.0     0.0  0.865723           1.0            1.0           1.0   \n",
       "\n",
       "      work_type  Residence_type  avg_glucose_level       bmi  smoking_status  \\\n",
       "3577        3.0             1.0           0.256076  0.226361             3.0   \n",
       "3578        1.0             0.0           0.149436  0.481375             2.0   \n",
       "3579        0.0             1.0           0.365093  0.916905             1.0   \n",
       "3580        3.0             1.0           0.231596  0.063037             3.0   \n",
       "3581        2.0             0.0           0.446020  0.730659             1.0   \n",
       "...         ...             ...                ...       ...             ...   \n",
       "5105        0.0             1.0           0.224287  0.335244             3.0   \n",
       "5106        2.0             0.0           0.060056  0.475645             0.0   \n",
       "5107        2.0             0.0           0.555653  0.303725             0.0   \n",
       "5108        1.0             1.0           0.207467  0.521490             1.0   \n",
       "5109        1.0             0.0           0.105143  0.441261             2.0   \n",
       "\n",
       "      stroke  \n",
       "3577     0.0  \n",
       "3578     0.0  \n",
       "3579     0.0  \n",
       "3580     0.0  \n",
       "3581     0.0  \n",
       "...      ...  \n",
       "5105     0.0  \n",
       "5106     0.0  \n",
       "5107     0.0  \n",
       "5108     0.0  \n",
       "5109     0.0  \n",
       "\n",
       "[1533 rows x 12 columns]"
      ]
     },
     "execution_count": 24,
     "metadata": {},
     "output_type": "execute_result"
    }
   ],
   "source": [
    "test_df"
   ]
  },
  {
   "cell_type": "markdown",
   "metadata": {
    "id": "BPt91yizJhpJ"
   },
   "source": [
    "# **PART- 2: Model Building (30 points)**\n",
    "\n",
    "Implement two classification models:\n",
    "\n",
    "* k-Nearest Neighbors (kNN)\n",
    "* Logistic Regression\n",
    "\n",
    "\n",
    "***You can use scikit-learn***\n",
    "\n",
    "\n"
   ]
  },
  {
   "cell_type": "markdown",
   "metadata": {
    "id": "UHHw2jMxmABl"
   },
   "source": [
    "## 2.1. kNN Classifier (15 Pts)\n",
    "* Build and train the kNN model\n",
    "* Choose the optimal k value using Minkowski distance with at least two different values for p\n"
   ]
  },
  {
   "cell_type": "code",
   "execution_count": 25,
   "metadata": {
    "id": "I6u83VcbmtTP"
   },
   "outputs": [],
   "source": [
    "import warnings\n",
    "warnings.filterwarnings(\"ignore\", category=FutureWarning)\n",
    "\n",
    "# Separate the features (X) by dropping the 'stroke' column from the dataframe\n",
    "X = df.drop(['stroke', 'id', 'work_type', 'smoking_status'], axis=1)\n",
    "\n",
    "# Set the target variable (y) to the 'stroke' column\n",
    "y = df['stroke']\n",
    "\n",
    "# Split the data into train and test sets\n",
    "X_train, X_test, y_train, y_test = train_test_split(X, y, test_size=0.3, random_state=10)\n",
    "\n",
    "# Apply SMOTE to handle data imbalance\n",
    "smote = SMOTE(random_state=10, k_neighbors=3, sampling_strategy=0.7)\n",
    "X_train_smote, y_train_smote = smote.fit_resample(X_train, y_train)\n"
   ]
  },
  {
   "cell_type": "code",
   "execution_count": 26,
   "metadata": {
    "scrolled": true
   },
   "outputs": [
    {
     "data": {
      "text/plain": [
       "[0.8695368558382257,\n",
       " 0.883235485975212,\n",
       " 0.8336594911937377,\n",
       " 0.8493150684931506,\n",
       " 0.8160469667318982,\n",
       " 0.8336594911937377,\n",
       " 0.8043052837573386,\n",
       " 0.8199608610567515,\n",
       " 0.7873450750163079,\n",
       " 0.8023483365949119,\n",
       " 0.7821265492498369,\n",
       " 0.79191128506197,\n",
       " 0.7795172863666014,\n",
       " 0.786692759295499,\n",
       " 0.7710371819960861,\n",
       " 0.7775603392041748,\n",
       " 0.7684279191128506,\n",
       " 0.7729941291585127,\n",
       " 0.7632093933463796,\n",
       " 0.7723418134377038,\n",
       " 0.7645140247879973,\n",
       " 0.7690802348336595,\n",
       " 0.761252446183953,\n",
       " 0.7690802348336595,\n",
       " 0.7625570776255708,\n",
       " 0.7651663405088063,\n",
       " 0.7547292889758643,\n",
       " 0.7638617090671885,\n",
       " 0.7553816046966731,\n",
       " 0.7645140247879973]"
      ]
     },
     "execution_count": 26,
     "metadata": {},
     "output_type": "execute_result"
    }
   ],
   "source": [
    "# for p=1 Manhattan \n",
    "\n",
    "#Train a model for all values from 1 to 30 by selecting a k value,\n",
    "#calculate the accuracies for each, and append it to the accuracies list.\n",
    "accuracies = []\n",
    "\n",
    "for k in range(1, 31):\n",
    "    knn_model = KNeighborsClassifier(n_neighbors=k,  metric='minkowski', p=1)\n",
    "    knn_model.fit(X_train_smote, y_train_smote)\n",
    "    y_pred_knn = knn_model.predict(X_test)\n",
    "    accuracies.append(accuracy_score(y_test, y_pred_knn))\n",
    "\n",
    "# print accuracies for each k values\n",
    "accuracies"
   ]
  },
  {
   "cell_type": "code",
   "execution_count": 27,
   "metadata": {},
   "outputs": [
    {
     "data": {
      "image/png": "[encoded data removed]",
      "text/plain": [
       "<Figure size 640x480 with 1 Axes>"
      ]
     },
     "metadata": {},
     "output_type": "display_data"
    }
   ],
   "source": [
    "# visualize the accuracy values for each k \n",
    "plt.plot(range(1, 31), accuracies, marker='o')\n",
    "plt.xticks(range(1, 31), rotation = 90)\n",
    "plt.show()"
   ]
  },
  {
   "cell_type": "markdown",
   "metadata": {},
   "source": [
    "When examining the plot, it can be seen that the accuracy is the highest when k = 2."
   ]
  },
  {
   "cell_type": "code",
   "execution_count": 28,
   "metadata": {},
   "outputs": [
    {
     "data": {
      "text/plain": [
       "[0.8708414872798435,\n",
       " 0.8871493803000652,\n",
       " 0.8310502283105022,\n",
       " 0.8467058056099152,\n",
       " 0.817351598173516,\n",
       " 0.8343118069145466,\n",
       " 0.8101761252446184,\n",
       " 0.8238747553816047,\n",
       " 0.8010437051532941,\n",
       " 0.8075668623613829,\n",
       " 0.79191128506197,\n",
       " 0.8062622309197651,\n",
       " 0.7840834964122635,\n",
       " 0.7912589693411611,\n",
       " 0.7684279191128506,\n",
       " 0.7782126549249837,\n",
       " 0.766470971950424,\n",
       " 0.771689497716895,\n",
       " 0.761252446183953,\n",
       " 0.7671232876712328,\n",
       " 0.7566862361382909,\n",
       " 0.7632093933463796,\n",
       " 0.7540769732550554,\n",
       " 0.7579908675799086,\n",
       " 0.7560339204174821,\n",
       " 0.7632093933463796,\n",
       " 0.7579908675799086,\n",
       " 0.7645140247879973,\n",
       " 0.7579908675799086,\n",
       " 0.7592954990215264]"
      ]
     },
     "execution_count": 28,
     "metadata": {},
     "output_type": "execute_result"
    }
   ],
   "source": [
    "# for p=2 Euclidean\n",
    "\n",
    "#Train a model for all values from 1 to 30 by selecting a k value,\n",
    "#calculate the accuracies for each, and append it to the accuracies list.\n",
    "accuracies = []\n",
    "\n",
    "for k in range(1, 31):\n",
    "    knn_model = KNeighborsClassifier(n_neighbors=k,  metric='minkowski', p=2)\n",
    "    knn_model.fit(X_train_smote, y_train_smote)\n",
    "    y_pred = knn_model.predict(X_test)\n",
    "    accuracies.append(accuracy_score(y_test, y_pred))\n",
    "\n",
    "# print accuracies for each k values\n",
    "accuracies"
   ]
  },
  {
   "cell_type": "code",
   "execution_count": 29,
   "metadata": {},
   "outputs": [
    {
     "data": {
      "image/png": "[encoded data removed]",
      "text/plain": [
       "<Figure size 640x480 with 1 Axes>"
      ]
     },
     "metadata": {},
     "output_type": "display_data"
    }
   ],
   "source": [
    "# visualize the accuracy values for each k \n",
    "plt.plot(range(1, 31), accuracies, marker='o')\n",
    "plt.xticks(range(1, 31), rotation = 90)\n",
    "plt.show()"
   ]
  },
  {
   "cell_type": "markdown",
   "metadata": {},
   "source": [
    "When examining the plot, it can be seen that the accuracy is the highest when k = 2."
   ]
  },
  {
   "cell_type": "code",
   "execution_count": 30,
   "metadata": {},
   "outputs": [],
   "source": [
    "# train for k=2\n",
    "knn_model = KNeighborsClassifier(n_neighbors=2)\n",
    "knn_model.fit(X_train_smote, y_train_smote)\n",
    "y_pred = knn_model.predict(X_test)"
   ]
  },
  {
   "cell_type": "markdown",
   "metadata": {
    "id": "kyagXs5Omtvm"
   },
   "source": [
    "## 2.2. Logistic Regression (15 Pts)\n",
    "* Build and train the Logistic Regression model"
   ]
  },
  {
   "cell_type": "code",
   "execution_count": 31,
   "metadata": {},
   "outputs": [],
   "source": [
    "# Create logistic regression model \n",
    "log_reg_model = LogisticRegression(max_iter=5000)\n",
    "# Train the model\n",
    "log_reg_model.fit(X_train_smote, y_train_smote)\n",
    "# predict the test data\n",
    "y_pred_lr = log_reg_model.predict(X_test)"
   ]
  },
  {
   "cell_type": "code",
   "execution_count": 32,
   "metadata": {},
   "outputs": [
    {
     "data": {
      "text/plain": [
       "0.8871493803000652"
      ]
     },
     "execution_count": 32,
     "metadata": {},
     "output_type": "execute_result"
    }
   ],
   "source": [
    "accuracy = accuracy_score(y_test, y_pred)\n",
    "accuracy"
   ]
  },
  {
   "cell_type": "markdown",
   "metadata": {
    "id": "hOJYlgO6jaR1"
   },
   "source": [
    "\n",
    "# **PART- 3: Model Evaluation (35 points)**\n",
    "\n"
   ]
  },
  {
   "cell_type": "markdown",
   "metadata": {
    "id": "j5UMGYo2j26P"
   },
   "source": [
    "## 3.1 Confusion Matrix (15)\n",
    "\n",
    "Analysis of the confusion matrices for both models:\n",
    "\n",
    "* Plot and interpret the confusion matrices\n",
    "* Display accuracy, precision, recall, and F1-score for both models\n",
    "\n"
   ]
  },
  {
   "cell_type": "markdown",
   "metadata": {
    "id": "KFycLqvpj-kt"
   },
   "source": [
    "#### Confusion matrix for kNN Classifier"
   ]
  },
  {
   "cell_type": "code",
   "execution_count": 33,
   "metadata": {},
   "outputs": [
    {
     "data": {
      "image/png": "[encoded data removed]",
      "text/plain": [
       "<Figure size 640x480 with 1 Axes>"
      ]
     },
     "metadata": {},
     "output_type": "display_data"
    }
   ],
   "source": [
    "# Calculate the confusion matrix\n",
    "cm_knn = confusion_matrix(y_test, y_pred_knn)\n",
    "\n",
    "# Plot the confusion matrix\n",
    "# Create a df from the cm\n",
    "cm_df = pd.DataFrame(cm_knn, index=['Negative', 'Positive'], columns=['Negative', 'Positive'])\n",
    "\n",
    "plt.table(cellText=cm_df.values, colLabels=cm_df.columns, rowLabels=cm_df.index, loc='center', cellLoc='center')\n",
    "plt.axis('off')\n",
    "plt.title('Confusion Matrix')\n",
    "plt.show()"
   ]
  },
  {
   "cell_type": "markdown",
   "metadata": {},
   "source": [
    "According to the given confusion matrix, the model correctly classified 1121 negative class examples and 51 positive class examples. However, it misclassified 332 negative examples as positive and 29 positive examples as negative."
   ]
  },
  {
   "cell_type": "code",
   "execution_count": 34,
   "metadata": {},
   "outputs": [
    {
     "data": {
      "text/plain": [
       "0.7645140247879973"
      ]
     },
     "execution_count": 34,
     "metadata": {},
     "output_type": "execute_result"
    }
   ],
   "source": [
    "# calculate the accuracy\n",
    "accuracy = accuracy_score(y_test, y_pred_knn)\n",
    "accuracy"
   ]
  },
  {
   "cell_type": "markdown",
   "metadata": {},
   "source": [
    "accuracy = (TP + TN) / (TP+TN+FP+FN)"
   ]
  },
  {
   "cell_type": "markdown",
   "metadata": {},
   "source": [
    "The accuracy score shows that the KNN model correctly classifies 76.4% of the examples in the test set.Although techniques like SMOTE for handling class imbalance have been used, the model can still be improved. The accuracy score is not good enough."
   ]
  },
  {
   "cell_type": "code",
   "execution_count": 35,
   "metadata": {},
   "outputs": [
    {
     "data": {
      "text/plain": [
       "0.13315926892950392"
      ]
     },
     "execution_count": 35,
     "metadata": {},
     "output_type": "execute_result"
    }
   ],
   "source": [
    "# calculate the precision\n",
    "precision = precision_score(y_test, y_pred_knn)\n",
    "precision"
   ]
  },
  {
   "cell_type": "markdown",
   "metadata": {},
   "source": [
    "precision = TP / (TP + FP)"
   ]
  },
  {
   "cell_type": "markdown",
   "metadata": {},
   "source": [
    "Precision indicates the ratio of the model's true positive predictions to the total positive predictions. In other words, only 13.3% of the predictions made by the model for the positive class were correct. This is a low precision value, which means the model is mostly making false positive predictions."
   ]
  },
  {
   "cell_type": "code",
   "execution_count": 36,
   "metadata": {},
   "outputs": [
    {
     "data": {
      "text/plain": [
       "0.6375"
      ]
     },
     "execution_count": 36,
     "metadata": {},
     "output_type": "execute_result"
    }
   ],
   "source": [
    "# calculate the recall\n",
    "recall = recall_score(y_test, y_pred_knn)\n",
    "recall"
   ]
  },
  {
   "cell_type": "markdown",
   "metadata": {},
   "source": [
    "recall = TP / (TP + FN)"
   ]
  },
  {
   "cell_type": "markdown",
   "metadata": {},
   "source": [
    "Recall indicates the ratio of the model's true positive predictions to the total actual positive examples. In other words, the model correctly identified 63.75% of the actual positive classes. We can say that the model's performance in this regard is low."
   ]
  },
  {
   "cell_type": "code",
   "execution_count": 37,
   "metadata": {},
   "outputs": [
    {
     "data": {
      "text/plain": [
       "0.2203023758099352"
      ]
     },
     "execution_count": 37,
     "metadata": {},
     "output_type": "execute_result"
    }
   ],
   "source": [
    "f1 = f1_score(y_test, y_pred_knn)\n",
    "f1"
   ]
  },
  {
   "cell_type": "markdown",
   "metadata": {},
   "source": [
    "The F1 score is quite low. This indicates that the model shows weak performance in both precision and recall. This score indicates that the model's ability to correctly predict the positive class is weak, and issues such as class imbalance may be affecting its performance."
   ]
  },
  {
   "cell_type": "markdown",
   "metadata": {
    "id": "KFycLqvpj-kt"
   },
   "source": [
    "#### Confusion matrix for Logistic Regression"
   ]
  },
  {
   "cell_type": "code",
   "execution_count": 38,
   "metadata": {},
   "outputs": [
    {
     "data": {
      "image/png": "[encoded data removed]",
      "text/plain": [
       "<Figure size 600x600 with 1 Axes>"
      ]
     },
     "metadata": {},
     "output_type": "display_data"
    }
   ],
   "source": [
    "# Calculate the confusion matrix\n",
    "cm_lr = confusion_matrix(y_test, y_pred_lr)\n",
    "\n",
    "# Plot the confusion matrix\n",
    "# Create a df from the cm\n",
    "cm_df = pd.DataFrame(cm_lr, index=['Negative', 'Positive'], columns=['Negative', 'Positive'])\n",
    "\n",
    "plt.figure(figsize=(6, 6))\n",
    "plt.table(cellText=cm_df.values, colLabels=cm_df.columns, rowLabels=cm_df.index, loc='center', cellLoc='center')\n",
    "plt.axis('off')\n",
    "plt.title('Confusion Matrix')\n",
    "plt.show()"
   ]
  },
  {
   "cell_type": "markdown",
   "metadata": {},
   "source": [
    "According to the given confusion matrix, the model correctly classified 1166 negative class examples and 51 positive class examples. However, it misclassified 287 negative examples as positive and 29 positive examples as negative."
   ]
  },
  {
   "cell_type": "code",
   "execution_count": 39,
   "metadata": {},
   "outputs": [
    {
     "data": {
      "text/plain": [
       "0.7938682322243966"
      ]
     },
     "execution_count": 39,
     "metadata": {},
     "output_type": "execute_result"
    }
   ],
   "source": [
    "# calculate the accuracy\n",
    "accuracy = accuracy_score(y_test, y_pred_lr)\n",
    "accuracy"
   ]
  },
  {
   "cell_type": "markdown",
   "metadata": {},
   "source": [
    "accuracy = (TP + TN) / (TP+TN+FP+FN)"
   ]
  },
  {
   "cell_type": "markdown",
   "metadata": {},
   "source": [
    "The accuracy score shows that the KNN model correctly classifies 79.3% of the examples in the test set. This indicates that the model is performing well overall, but it is important to evaluate other metrics such as precision, recall, and F1 score."
   ]
  },
  {
   "cell_type": "code",
   "execution_count": 40,
   "metadata": {},
   "outputs": [
    {
     "data": {
      "text/plain": [
       "0.15088757396449703"
      ]
     },
     "execution_count": 40,
     "metadata": {},
     "output_type": "execute_result"
    }
   ],
   "source": [
    "# calculate the precision\n",
    "precision = precision_score(y_test, y_pred_lr, zero_division = 0)\n",
    "precision"
   ]
  },
  {
   "cell_type": "markdown",
   "metadata": {},
   "source": [
    "precision = TP / (TP + FP)"
   ]
  },
  {
   "cell_type": "markdown",
   "metadata": {},
   "source": [
    "Precision indicates the ratio of the model's true positive predictions to the total positive predictions. In other words, only 15% of the predictions made by the model for the positive class were correct. This is a low precision value, which means the model is mostly making false positive predictions."
   ]
  },
  {
   "cell_type": "code",
   "execution_count": 41,
   "metadata": {},
   "outputs": [
    {
     "data": {
      "text/plain": [
       "0.6375"
      ]
     },
     "execution_count": 41,
     "metadata": {},
     "output_type": "execute_result"
    }
   ],
   "source": [
    "# calculate the recall\n",
    "recall = recall_score(y_test, y_pred_lr)\n",
    "recall"
   ]
  },
  {
   "cell_type": "markdown",
   "metadata": {},
   "source": [
    "recall = TP / (TP + FN)"
   ]
  },
  {
   "cell_type": "markdown",
   "metadata": {},
   "source": [
    "Recall indicates the ratio of the model's true positive predictions to the total actual positive examples. In other words, the model correctly identified 63.75% of the actual positive classes. We can say that the model's performance in this regard is low."
   ]
  },
  {
   "cell_type": "code",
   "execution_count": 42,
   "metadata": {},
   "outputs": [
    {
     "data": {
      "text/plain": [
       "0.24401913875598086"
      ]
     },
     "execution_count": 42,
     "metadata": {},
     "output_type": "execute_result"
    }
   ],
   "source": [
    "f1 = f1_score(y_test, y_pred_lr)\n",
    "f1"
   ]
  },
  {
   "cell_type": "markdown",
   "metadata": {},
   "source": [
    "Because of recall and precision scores are low, f1 score is also low."
   ]
  },
  {
   "cell_type": "markdown",
   "metadata": {
    "id": "M9bBLLVSj_E2"
   },
   "source": [
    "## 3.2 Precision-Recall Curves (5)\n",
    "\n",
    "Evaluate the Precision-Recall curves for both models:\n",
    "\n",
    "* Plot and analyze the curves"
   ]
  },
  {
   "cell_type": "code",
   "execution_count": 43,
   "metadata": {},
   "outputs": [
    {
     "data": {
      "image/png": "[encoded data removed]",
      "text/plain": [
       "<Figure size 800x600 with 1 Axes>"
      ]
     },
     "metadata": {},
     "output_type": "display_data"
    }
   ],
   "source": [
    "# Get predicted probabilities for logistic regression model\n",
    "y_pred_prob_lr = log_reg_model.predict_proba(X_test)[:, 1]\n",
    "\n",
    "# Get predicted probabilities for knn model\n",
    "y_pred_prob_knn = knn_model.predict_proba(X_test)[:, 1]\n",
    "\n",
    "#calculate Precision ve Recall for both\n",
    "precision_lr, recall_lr, _ = precision_recall_curve(y_test, y_pred_prob_lr)\n",
    "precision_knn, recall_knn, _ = precision_recall_curve(y_test, y_pred_prob_knn)\n",
    "\n",
    "# plot \n",
    "plt.figure(figsize=(8, 6))\n",
    "\n",
    "# for logistic regression model\n",
    "plt.plot(recall_lr, precision_lr, label='logistic regression model')\n",
    "\n",
    "# for knn model\n",
    "plt.plot(recall_knn, precision_knn, label='kNN model', color='grey')\n",
    "\n",
    "\n",
    "plt.xlabel('Recall')\n",
    "plt.ylabel('Precision')\n",
    "plt.title('Precision-Recall Curves')\n",
    "plt.legend(loc='best')\n",
    "\n",
    "plt.show()\n"
   ]
  },
  {
   "cell_type": "markdown",
   "metadata": {},
   "source": [
    "The logistic regression model starts with a high precision but its performance drops quickly and becomes unstable as recall increases. On the other hand, the kNN model provides a more balanced curve but generally performs worse overall. If accurate predictions are crucial, logistic regression can be a better choice, while kNN might be preferred for balanced but average results. The instability in the logistic regression model suggests the need for improvement in the model or the data."
   ]
  },
  {
   "cell_type": "markdown",
   "metadata": {
    "id": "aaSEMhq-nFk9"
   },
   "source": [
    "## 3.3. Compare the Model (15 Pts)\n",
    "\n",
    "Prepare a detailed evaluation report with metrics, visualizations, and comparative analysis.\n",
    "\n",
    "* Compare the performance of kNN and Logistic Regression based on the metrics.\n",
    "\n",
    "* Discuss which model performs better and hypothesize why."
   ]
  },
  {
   "cell_type": "markdown",
   "metadata": {},
   "source": [
    "Accuracy: Logistic Regression (0.79), kNN (0.76)\n",
    "Logistic Regression has performed better in terms of overall accuracy.\n",
    "\n",
    "Precision: Logistic Regression (0.15), kNN (0.13)\n",
    "Logistic Regression is better than kNN in predicting positive classes correctly.\n",
    "\n",
    "Recall: Logistic Regression (0.63), kNN (0.63)\n",
    "Logistic Regression and kNN have the same recall score.\n",
    "\n",
    "F1-Score: Logistic Regression (0.24), kNN (0.22)\n",
    "Logistic Regression has achieved a better balance between precision and recall.\n",
    "\n",
    "All of these metrics show that the Logistic Regression model demonstrates a more consistent and stronger performance.\n",
    "\n",
    "The recall curve of Logistic Regression fluctuates intensely in the 0-0.2 range, indicating that the model is uncertain when making positive predictions in this range. However, for recall values above 0.2, the precision values are more balanced, though still below 0.2. The kNN curve, on the other hand, is flatter and more stable, but the precision and recall values are quite low. This suggests that kNN struggles to distinguish positive classes effectively. Logistic Regression outperforms kNN both in terms of metrics and visualization.\n",
    "\n",
    "Logistic Regression performs well when the data is linearly separable. The performance of kNN depends on the value of k and the distance metric. The class imbalance in the dataset has affected the kNN model more significantly.\n",
    "\n",
    "The Logistic Regression model appears to be a more suitable choice for this dataset in terms of both metrics and visualization."
   ]
  }
 ],
 "metadata": {
  "colab": {
   "provenance": []
  },
  "kernelspec": {
   "display_name": "Python 3 (ipykernel)",
   "language": "python",
   "name": "python3"
  },
  "language_info": {
   "codemirror_mode": {
    "name": "ipython",
    "version": 3
   },
   "file_extension": ".py",
   "mimetype": "text/x-python",
   "name": "python",
   "nbconvert_exporter": "python",
   "pygments_lexer": "ipython3",
   "version": "3.12.4"
  }
 },
 "nbformat": 4,
 "nbformat_minor": 4
}
