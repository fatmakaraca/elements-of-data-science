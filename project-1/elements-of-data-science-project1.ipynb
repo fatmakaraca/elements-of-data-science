{
 "cells": [
  {
   "cell_type": "markdown",
   "metadata": {
    "id": "l9crUPV39bKP"
   },
   "source": [
    "# **Necessary Imports**"
   ]
  },
  {
   "cell_type": "code",
   "execution_count": 252,
   "metadata": {
    "id": "bDF8rpnv9kjd",
    "jupyter": {
     "is_executing": true
    }
   },
   "outputs": [],
   "source": [
    "# Import required libraries\n",
    "import numpy as np\n",
    "import pandas as pd\n",
    "import sqlite3 as sql"
   ]
  },
  {
   "cell_type": "markdown",
   "metadata": {
    "id": "YzjmuhYk90CY"
   },
   "source": [
    "# **Notes:**\n",
    "\n",
    "* Use pandas dataframe (df) to load the data.\n",
    "\n",
    "* Use numpy or pandas operations for the requested tasks unless otherwise specified.\n",
    "\n",
    "* Use of naive for loops is not considered valid.\n",
    "\n",
    "* For the db operations, use sqlite3 library in Python"
   ]
  },
  {
   "cell_type": "markdown",
   "metadata": {
    "id": "ErBKcN6KBvW8"
   },
   "source": [
    "# **PART- 1**\n",
    "\n",
    "**Set of Questions on World Happiness Report Dataset (40 Pts)**\n",
    "\n",
    "**Dataset Path: \"Data/WorldHappinessReport.csv\"**"
   ]
  },
  {
   "cell_type": "markdown",
   "metadata": {
    "id": "GWggnrTxCQJD"
   },
   "source": [
    "# Q1. Basic Data Exploration **(10 Pts)**\n",
    "\n",
    "1. Load the data into Pandas DataFrame and print the column names. **(1 pts)**\n",
    "2. Display the first and last 10 rows of the dataset. **(1 pts)**\n",
    "3. Display random 10 rows. **(1 pts)**\n",
    "4. Display random 10 rows with a seed, ie, it outputs the same random rows everytime it is run. **(1 pts)**\n",
    "5. Display every 10th row. **(1 pts)**\n",
    "6. Get the summary stats of the dataset regarding each column. **(2 pts)**\n",
    "7. Identify and count the number of missing values in each column. **(3 pts)**"
   ]
  },
  {
   "cell_type": "code",
   "execution_count": 254,
   "metadata": {
    "id": "_NzJ6GYkD1aY"
   },
   "outputs": [
    {
     "name": "stdout",
     "output_type": "stream",
     "text": [
      "Index(['Overall rank', 'Country or region', 'Score', 'GDP per capita',\n",
      "       'Social support', 'Healthy life expectancy',\n",
      "       'Freedom to make life choices', 'Generosity',\n",
      "       'Perceptions of corruption'],\n",
      "      dtype='object')\n"
     ]
    }
   ],
   "source": [
    "#1 Load the data into Pandas DataFrame and print the column names\n",
    "df = pd.read_csv(\"Data/WorldHappinessReport.csv\")\n",
    "print(df.columns)"
   ]
  },
  {
   "cell_type": "code",
   "execution_count": 256,
   "metadata": {
    "id": "Z-m2CigRD26Z"
   },
   "outputs": [
    {
     "data": {
      "text/html": [
       "<div>\n",
       "<style scoped>\n",
       "    .dataframe tbody tr th:only-of-type {\n",
       "        vertical-align: middle;\n",
       "    }\n",
       "\n",
       "    .dataframe tbody tr th {\n",
       "        vertical-align: top;\n",
       "    }\n",
       "\n",
       "    .dataframe thead th {\n",
       "        text-align: right;\n",
       "    }\n",
       "</style>\n",
       "<table border=\"1\" class=\"dataframe\">\n",
       "  <thead>\n",
       "    <tr style=\"text-align: right;\">\n",
       "      <th></th>\n",
       "      <th>Overall rank</th>\n",
       "      <th>Country or region</th>\n",
       "      <th>Score</th>\n",
       "      <th>GDP per capita</th>\n",
       "      <th>Social support</th>\n",
       "      <th>Healthy life expectancy</th>\n",
       "      <th>Freedom to make life choices</th>\n",
       "      <th>Generosity</th>\n",
       "      <th>Perceptions of corruption</th>\n",
       "    </tr>\n",
       "  </thead>\n",
       "  <tbody>\n",
       "    <tr>\n",
       "      <th>0</th>\n",
       "      <td>1</td>\n",
       "      <td>Finland</td>\n",
       "      <td>7.632</td>\n",
       "      <td>1.305</td>\n",
       "      <td>1.592</td>\n",
       "      <td>0.874</td>\n",
       "      <td>0.681</td>\n",
       "      <td>0.202</td>\n",
       "      <td>0.393</td>\n",
       "    </tr>\n",
       "    <tr>\n",
       "      <th>1</th>\n",
       "      <td>2</td>\n",
       "      <td>Norway</td>\n",
       "      <td>7.594</td>\n",
       "      <td>1.456</td>\n",
       "      <td>1.582</td>\n",
       "      <td>0.861</td>\n",
       "      <td>0.686</td>\n",
       "      <td>0.286</td>\n",
       "      <td>0.340</td>\n",
       "    </tr>\n",
       "    <tr>\n",
       "      <th>2</th>\n",
       "      <td>3</td>\n",
       "      <td>Denmark</td>\n",
       "      <td>7.555</td>\n",
       "      <td>1.351</td>\n",
       "      <td>1.590</td>\n",
       "      <td>0.868</td>\n",
       "      <td>0.683</td>\n",
       "      <td>0.284</td>\n",
       "      <td>0.408</td>\n",
       "    </tr>\n",
       "    <tr>\n",
       "      <th>3</th>\n",
       "      <td>4</td>\n",
       "      <td>Iceland</td>\n",
       "      <td>7.495</td>\n",
       "      <td>1.343</td>\n",
       "      <td>1.644</td>\n",
       "      <td>0.914</td>\n",
       "      <td>0.677</td>\n",
       "      <td>0.353</td>\n",
       "      <td>0.138</td>\n",
       "    </tr>\n",
       "    <tr>\n",
       "      <th>4</th>\n",
       "      <td>5</td>\n",
       "      <td>Switzerland</td>\n",
       "      <td>7.487</td>\n",
       "      <td>1.420</td>\n",
       "      <td>1.549</td>\n",
       "      <td>0.927</td>\n",
       "      <td>0.660</td>\n",
       "      <td>0.256</td>\n",
       "      <td>0.357</td>\n",
       "    </tr>\n",
       "    <tr>\n",
       "      <th>5</th>\n",
       "      <td>6</td>\n",
       "      <td>Netherlands</td>\n",
       "      <td>7.441</td>\n",
       "      <td>1.361</td>\n",
       "      <td>1.488</td>\n",
       "      <td>0.878</td>\n",
       "      <td>0.638</td>\n",
       "      <td>0.333</td>\n",
       "      <td>0.295</td>\n",
       "    </tr>\n",
       "    <tr>\n",
       "      <th>6</th>\n",
       "      <td>7</td>\n",
       "      <td>Canada</td>\n",
       "      <td>7.328</td>\n",
       "      <td>1.330</td>\n",
       "      <td>1.532</td>\n",
       "      <td>0.896</td>\n",
       "      <td>0.653</td>\n",
       "      <td>0.321</td>\n",
       "      <td>0.291</td>\n",
       "    </tr>\n",
       "    <tr>\n",
       "      <th>7</th>\n",
       "      <td>8</td>\n",
       "      <td>New Zealand</td>\n",
       "      <td>7.324</td>\n",
       "      <td>1.268</td>\n",
       "      <td>1.601</td>\n",
       "      <td>0.876</td>\n",
       "      <td>0.669</td>\n",
       "      <td>0.365</td>\n",
       "      <td>0.389</td>\n",
       "    </tr>\n",
       "    <tr>\n",
       "      <th>8</th>\n",
       "      <td>9</td>\n",
       "      <td>Sweden</td>\n",
       "      <td>7.314</td>\n",
       "      <td>1.355</td>\n",
       "      <td>1.501</td>\n",
       "      <td>0.913</td>\n",
       "      <td>0.659</td>\n",
       "      <td>0.285</td>\n",
       "      <td>0.383</td>\n",
       "    </tr>\n",
       "    <tr>\n",
       "      <th>9</th>\n",
       "      <td>10</td>\n",
       "      <td>Australia</td>\n",
       "      <td>7.272</td>\n",
       "      <td>1.340</td>\n",
       "      <td>1.573</td>\n",
       "      <td>0.910</td>\n",
       "      <td>0.647</td>\n",
       "      <td>0.361</td>\n",
       "      <td>0.302</td>\n",
       "    </tr>\n",
       "  </tbody>\n",
       "</table>\n",
       "</div>"
      ],
      "text/plain": [
       "   Overall rank Country or region  Score  GDP per capita  Social support  \\\n",
       "0             1           Finland  7.632           1.305           1.592   \n",
       "1             2            Norway  7.594           1.456           1.582   \n",
       "2             3           Denmark  7.555           1.351           1.590   \n",
       "3             4           Iceland  7.495           1.343           1.644   \n",
       "4             5       Switzerland  7.487           1.420           1.549   \n",
       "5             6       Netherlands  7.441           1.361           1.488   \n",
       "6             7            Canada  7.328           1.330           1.532   \n",
       "7             8       New Zealand  7.324           1.268           1.601   \n",
       "8             9            Sweden  7.314           1.355           1.501   \n",
       "9            10         Australia  7.272           1.340           1.573   \n",
       "\n",
       "   Healthy life expectancy  Freedom to make life choices  Generosity  \\\n",
       "0                    0.874                         0.681       0.202   \n",
       "1                    0.861                         0.686       0.286   \n",
       "2                    0.868                         0.683       0.284   \n",
       "3                    0.914                         0.677       0.353   \n",
       "4                    0.927                         0.660       0.256   \n",
       "5                    0.878                         0.638       0.333   \n",
       "6                    0.896                         0.653       0.321   \n",
       "7                    0.876                         0.669       0.365   \n",
       "8                    0.913                         0.659       0.285   \n",
       "9                    0.910                         0.647       0.361   \n",
       "\n",
       "   Perceptions of corruption  \n",
       "0                      0.393  \n",
       "1                      0.340  \n",
       "2                      0.408  \n",
       "3                      0.138  \n",
       "4                      0.357  \n",
       "5                      0.295  \n",
       "6                      0.291  \n",
       "7                      0.389  \n",
       "8                      0.383  \n",
       "9                      0.302  "
      ]
     },
     "execution_count": 256,
     "metadata": {},
     "output_type": "execute_result"
    }
   ],
   "source": [
    "#2 Display the first and last 10 rows of the dataset.\n",
    "df.head(10) # Shows the first 10 rows"
   ]
  },
  {
   "cell_type": "code",
   "execution_count": 259,
   "metadata": {},
   "outputs": [
    {
     "data": {
      "text/html": [
       "<div>\n",
       "<style scoped>\n",
       "    .dataframe tbody tr th:only-of-type {\n",
       "        vertical-align: middle;\n",
       "    }\n",
       "\n",
       "    .dataframe tbody tr th {\n",
       "        vertical-align: top;\n",
       "    }\n",
       "\n",
       "    .dataframe thead th {\n",
       "        text-align: right;\n",
       "    }\n",
       "</style>\n",
       "<table border=\"1\" class=\"dataframe\">\n",
       "  <thead>\n",
       "    <tr style=\"text-align: right;\">\n",
       "      <th></th>\n",
       "      <th>Overall rank</th>\n",
       "      <th>Country or region</th>\n",
       "      <th>Score</th>\n",
       "      <th>GDP per capita</th>\n",
       "      <th>Social support</th>\n",
       "      <th>Healthy life expectancy</th>\n",
       "      <th>Freedom to make life choices</th>\n",
       "      <th>Generosity</th>\n",
       "      <th>Perceptions of corruption</th>\n",
       "    </tr>\n",
       "  </thead>\n",
       "  <tbody>\n",
       "    <tr>\n",
       "      <th>146</th>\n",
       "      <td>147</td>\n",
       "      <td>Malawi</td>\n",
       "      <td>3.587</td>\n",
       "      <td>0.186</td>\n",
       "      <td>0.541</td>\n",
       "      <td>0.306</td>\n",
       "      <td>0.531</td>\n",
       "      <td>0.210</td>\n",
       "      <td>0.080</td>\n",
       "    </tr>\n",
       "    <tr>\n",
       "      <th>147</th>\n",
       "      <td>148</td>\n",
       "      <td>Haiti</td>\n",
       "      <td>3.582</td>\n",
       "      <td>0.315</td>\n",
       "      <td>0.714</td>\n",
       "      <td>0.289</td>\n",
       "      <td>0.025</td>\n",
       "      <td>0.392</td>\n",
       "      <td>0.104</td>\n",
       "    </tr>\n",
       "    <tr>\n",
       "      <th>148</th>\n",
       "      <td>149</td>\n",
       "      <td>Liberia</td>\n",
       "      <td>3.495</td>\n",
       "      <td>0.076</td>\n",
       "      <td>0.858</td>\n",
       "      <td>0.267</td>\n",
       "      <td>0.419</td>\n",
       "      <td>0.206</td>\n",
       "      <td>0.030</td>\n",
       "    </tr>\n",
       "    <tr>\n",
       "      <th>149</th>\n",
       "      <td>150</td>\n",
       "      <td>Syria</td>\n",
       "      <td>3.462</td>\n",
       "      <td>0.689</td>\n",
       "      <td>0.382</td>\n",
       "      <td>0.539</td>\n",
       "      <td>0.088</td>\n",
       "      <td>0.376</td>\n",
       "      <td>0.144</td>\n",
       "    </tr>\n",
       "    <tr>\n",
       "      <th>150</th>\n",
       "      <td>151</td>\n",
       "      <td>Rwanda</td>\n",
       "      <td>3.408</td>\n",
       "      <td>0.332</td>\n",
       "      <td>0.896</td>\n",
       "      <td>0.400</td>\n",
       "      <td>0.636</td>\n",
       "      <td>0.200</td>\n",
       "      <td>0.444</td>\n",
       "    </tr>\n",
       "    <tr>\n",
       "      <th>151</th>\n",
       "      <td>152</td>\n",
       "      <td>Yemen</td>\n",
       "      <td>3.355</td>\n",
       "      <td>0.442</td>\n",
       "      <td>1.073</td>\n",
       "      <td>0.343</td>\n",
       "      <td>0.244</td>\n",
       "      <td>0.083</td>\n",
       "      <td>0.064</td>\n",
       "    </tr>\n",
       "    <tr>\n",
       "      <th>152</th>\n",
       "      <td>153</td>\n",
       "      <td>Tanzania</td>\n",
       "      <td>3.303</td>\n",
       "      <td>0.455</td>\n",
       "      <td>0.991</td>\n",
       "      <td>0.381</td>\n",
       "      <td>0.481</td>\n",
       "      <td>0.270</td>\n",
       "      <td>0.097</td>\n",
       "    </tr>\n",
       "    <tr>\n",
       "      <th>153</th>\n",
       "      <td>154</td>\n",
       "      <td>South Sudan</td>\n",
       "      <td>3.254</td>\n",
       "      <td>0.337</td>\n",
       "      <td>0.608</td>\n",
       "      <td>0.177</td>\n",
       "      <td>0.112</td>\n",
       "      <td>0.224</td>\n",
       "      <td>0.106</td>\n",
       "    </tr>\n",
       "    <tr>\n",
       "      <th>154</th>\n",
       "      <td>155</td>\n",
       "      <td>Central African Republic</td>\n",
       "      <td>3.083</td>\n",
       "      <td>0.024</td>\n",
       "      <td>0.000</td>\n",
       "      <td>0.010</td>\n",
       "      <td>0.305</td>\n",
       "      <td>0.218</td>\n",
       "      <td>0.038</td>\n",
       "    </tr>\n",
       "    <tr>\n",
       "      <th>155</th>\n",
       "      <td>156</td>\n",
       "      <td>Burundi</td>\n",
       "      <td>2.905</td>\n",
       "      <td>0.091</td>\n",
       "      <td>0.627</td>\n",
       "      <td>0.145</td>\n",
       "      <td>0.065</td>\n",
       "      <td>0.149</td>\n",
       "      <td>0.076</td>\n",
       "    </tr>\n",
       "  </tbody>\n",
       "</table>\n",
       "</div>"
      ],
      "text/plain": [
       "     Overall rank         Country or region  Score  GDP per capita  \\\n",
       "146           147                    Malawi  3.587           0.186   \n",
       "147           148                     Haiti  3.582           0.315   \n",
       "148           149                   Liberia  3.495           0.076   \n",
       "149           150                     Syria  3.462           0.689   \n",
       "150           151                    Rwanda  3.408           0.332   \n",
       "151           152                     Yemen  3.355           0.442   \n",
       "152           153                  Tanzania  3.303           0.455   \n",
       "153           154               South Sudan  3.254           0.337   \n",
       "154           155  Central African Republic  3.083           0.024   \n",
       "155           156                   Burundi  2.905           0.091   \n",
       "\n",
       "     Social support  Healthy life expectancy  Freedom to make life choices  \\\n",
       "146           0.541                    0.306                         0.531   \n",
       "147           0.714                    0.289                         0.025   \n",
       "148           0.858                    0.267                         0.419   \n",
       "149           0.382                    0.539                         0.088   \n",
       "150           0.896                    0.400                         0.636   \n",
       "151           1.073                    0.343                         0.244   \n",
       "152           0.991                    0.381                         0.481   \n",
       "153           0.608                    0.177                         0.112   \n",
       "154           0.000                    0.010                         0.305   \n",
       "155           0.627                    0.145                         0.065   \n",
       "\n",
       "     Generosity  Perceptions of corruption  \n",
       "146       0.210                      0.080  \n",
       "147       0.392                      0.104  \n",
       "148       0.206                      0.030  \n",
       "149       0.376                      0.144  \n",
       "150       0.200                      0.444  \n",
       "151       0.083                      0.064  \n",
       "152       0.270                      0.097  \n",
       "153       0.224                      0.106  \n",
       "154       0.218                      0.038  \n",
       "155       0.149                      0.076  "
      ]
     },
     "execution_count": 259,
     "metadata": {},
     "output_type": "execute_result"
    }
   ],
   "source": [
    "df.tail(10) # Shows the last 10 rows"
   ]
  },
  {
   "cell_type": "code",
   "execution_count": 258,
   "metadata": {
    "id": "XmyRJcvED4P2"
   },
   "outputs": [
    {
     "data": {
      "text/html": [
       "<div>\n",
       "<style scoped>\n",
       "    .dataframe tbody tr th:only-of-type {\n",
       "        vertical-align: middle;\n",
       "    }\n",
       "\n",
       "    .dataframe tbody tr th {\n",
       "        vertical-align: top;\n",
       "    }\n",
       "\n",
       "    .dataframe thead th {\n",
       "        text-align: right;\n",
       "    }\n",
       "</style>\n",
       "<table border=\"1\" class=\"dataframe\">\n",
       "  <thead>\n",
       "    <tr style=\"text-align: right;\">\n",
       "      <th></th>\n",
       "      <th>Overall rank</th>\n",
       "      <th>Country or region</th>\n",
       "      <th>Score</th>\n",
       "      <th>GDP per capita</th>\n",
       "      <th>Social support</th>\n",
       "      <th>Healthy life expectancy</th>\n",
       "      <th>Freedom to make life choices</th>\n",
       "      <th>Generosity</th>\n",
       "      <th>Perceptions of corruption</th>\n",
       "    </tr>\n",
       "  </thead>\n",
       "  <tbody>\n",
       "    <tr>\n",
       "      <th>129</th>\n",
       "      <td>130</td>\n",
       "      <td>Myanmar</td>\n",
       "      <td>4.308</td>\n",
       "      <td>0.682</td>\n",
       "      <td>1.174</td>\n",
       "      <td>0.429</td>\n",
       "      <td>0.580</td>\n",
       "      <td>0.598</td>\n",
       "      <td>0.178</td>\n",
       "    </tr>\n",
       "    <tr>\n",
       "      <th>153</th>\n",
       "      <td>154</td>\n",
       "      <td>South Sudan</td>\n",
       "      <td>3.254</td>\n",
       "      <td>0.337</td>\n",
       "      <td>0.608</td>\n",
       "      <td>0.177</td>\n",
       "      <td>0.112</td>\n",
       "      <td>0.224</td>\n",
       "      <td>0.106</td>\n",
       "    </tr>\n",
       "    <tr>\n",
       "      <th>133</th>\n",
       "      <td>134</td>\n",
       "      <td>Niger</td>\n",
       "      <td>4.166</td>\n",
       "      <td>0.131</td>\n",
       "      <td>0.867</td>\n",
       "      <td>0.221</td>\n",
       "      <td>0.390</td>\n",
       "      <td>0.175</td>\n",
       "      <td>0.099</td>\n",
       "    </tr>\n",
       "    <tr>\n",
       "      <th>143</th>\n",
       "      <td>144</td>\n",
       "      <td>Zimbabwe</td>\n",
       "      <td>3.692</td>\n",
       "      <td>0.357</td>\n",
       "      <td>1.094</td>\n",
       "      <td>0.248</td>\n",
       "      <td>0.406</td>\n",
       "      <td>0.132</td>\n",
       "      <td>0.099</td>\n",
       "    </tr>\n",
       "    <tr>\n",
       "      <th>50</th>\n",
       "      <td>51</td>\n",
       "      <td>Slovenia</td>\n",
       "      <td>5.948</td>\n",
       "      <td>1.219</td>\n",
       "      <td>1.506</td>\n",
       "      <td>0.856</td>\n",
       "      <td>0.633</td>\n",
       "      <td>0.160</td>\n",
       "      <td>0.051</td>\n",
       "    </tr>\n",
       "    <tr>\n",
       "      <th>103</th>\n",
       "      <td>104</td>\n",
       "      <td>Palestinian Territories</td>\n",
       "      <td>4.743</td>\n",
       "      <td>0.642</td>\n",
       "      <td>1.217</td>\n",
       "      <td>0.602</td>\n",
       "      <td>0.266</td>\n",
       "      <td>0.086</td>\n",
       "      <td>0.076</td>\n",
       "    </tr>\n",
       "    <tr>\n",
       "      <th>101</th>\n",
       "      <td>102</td>\n",
       "      <td>Venezuela</td>\n",
       "      <td>4.806</td>\n",
       "      <td>0.996</td>\n",
       "      <td>1.469</td>\n",
       "      <td>0.657</td>\n",
       "      <td>0.133</td>\n",
       "      <td>0.056</td>\n",
       "      <td>0.052</td>\n",
       "    </tr>\n",
       "    <tr>\n",
       "      <th>54</th>\n",
       "      <td>55</td>\n",
       "      <td>Mauritius</td>\n",
       "      <td>5.891</td>\n",
       "      <td>1.090</td>\n",
       "      <td>1.387</td>\n",
       "      <td>0.684</td>\n",
       "      <td>0.584</td>\n",
       "      <td>0.245</td>\n",
       "      <td>0.050</td>\n",
       "    </tr>\n",
       "    <tr>\n",
       "      <th>94</th>\n",
       "      <td>95</td>\n",
       "      <td>Vietnam</td>\n",
       "      <td>5.103</td>\n",
       "      <td>0.715</td>\n",
       "      <td>1.365</td>\n",
       "      <td>0.702</td>\n",
       "      <td>0.618</td>\n",
       "      <td>0.177</td>\n",
       "      <td>0.079</td>\n",
       "    </tr>\n",
       "    <tr>\n",
       "      <th>115</th>\n",
       "      <td>116</td>\n",
       "      <td>Sri Lanka</td>\n",
       "      <td>4.471</td>\n",
       "      <td>0.918</td>\n",
       "      <td>1.314</td>\n",
       "      <td>0.672</td>\n",
       "      <td>0.585</td>\n",
       "      <td>0.307</td>\n",
       "      <td>0.050</td>\n",
       "    </tr>\n",
       "  </tbody>\n",
       "</table>\n",
       "</div>"
      ],
      "text/plain": [
       "     Overall rank        Country or region  Score  GDP per capita  \\\n",
       "129           130                  Myanmar  4.308           0.682   \n",
       "153           154              South Sudan  3.254           0.337   \n",
       "133           134                    Niger  4.166           0.131   \n",
       "143           144                 Zimbabwe  3.692           0.357   \n",
       "50             51                 Slovenia  5.948           1.219   \n",
       "103           104  Palestinian Territories  4.743           0.642   \n",
       "101           102                Venezuela  4.806           0.996   \n",
       "54             55                Mauritius  5.891           1.090   \n",
       "94             95                  Vietnam  5.103           0.715   \n",
       "115           116                Sri Lanka  4.471           0.918   \n",
       "\n",
       "     Social support  Healthy life expectancy  Freedom to make life choices  \\\n",
       "129           1.174                    0.429                         0.580   \n",
       "153           0.608                    0.177                         0.112   \n",
       "133           0.867                    0.221                         0.390   \n",
       "143           1.094                    0.248                         0.406   \n",
       "50            1.506                    0.856                         0.633   \n",
       "103           1.217                    0.602                         0.266   \n",
       "101           1.469                    0.657                         0.133   \n",
       "54            1.387                    0.684                         0.584   \n",
       "94            1.365                    0.702                         0.618   \n",
       "115           1.314                    0.672                         0.585   \n",
       "\n",
       "     Generosity  Perceptions of corruption  \n",
       "129       0.598                      0.178  \n",
       "153       0.224                      0.106  \n",
       "133       0.175                      0.099  \n",
       "143       0.132                      0.099  \n",
       "50        0.160                      0.051  \n",
       "103       0.086                      0.076  \n",
       "101       0.056                      0.052  \n",
       "54        0.245                      0.050  \n",
       "94        0.177                      0.079  \n",
       "115       0.307                      0.050  "
      ]
     },
     "execution_count": 258,
     "metadata": {},
     "output_type": "execute_result"
    }
   ],
   "source": [
    "#3 Display the random 10 rows\n",
    "df.sample(n=10)"
   ]
  },
  {
   "cell_type": "code",
   "execution_count": 260,
   "metadata": {
    "id": "N9MA5WPBD5zt"
   },
   "outputs": [
    {
     "data": {
      "text/html": [
       "<div>\n",
       "<style scoped>\n",
       "    .dataframe tbody tr th:only-of-type {\n",
       "        vertical-align: middle;\n",
       "    }\n",
       "\n",
       "    .dataframe tbody tr th {\n",
       "        vertical-align: top;\n",
       "    }\n",
       "\n",
       "    .dataframe thead th {\n",
       "        text-align: right;\n",
       "    }\n",
       "</style>\n",
       "<table border=\"1\" class=\"dataframe\">\n",
       "  <thead>\n",
       "    <tr style=\"text-align: right;\">\n",
       "      <th></th>\n",
       "      <th>Overall rank</th>\n",
       "      <th>Country or region</th>\n",
       "      <th>Score</th>\n",
       "      <th>GDP per capita</th>\n",
       "      <th>Social support</th>\n",
       "      <th>Healthy life expectancy</th>\n",
       "      <th>Freedom to make life choices</th>\n",
       "      <th>Generosity</th>\n",
       "      <th>Perceptions of corruption</th>\n",
       "    </tr>\n",
       "  </thead>\n",
       "  <tbody>\n",
       "    <tr>\n",
       "      <th>114</th>\n",
       "      <td>115</td>\n",
       "      <td>Bangladesh</td>\n",
       "      <td>4.500</td>\n",
       "      <td>0.532</td>\n",
       "      <td>0.850</td>\n",
       "      <td>0.579</td>\n",
       "      <td>0.580</td>\n",
       "      <td>0.153</td>\n",
       "      <td>0.144</td>\n",
       "    </tr>\n",
       "    <tr>\n",
       "      <th>51</th>\n",
       "      <td>52</td>\n",
       "      <td>Romania</td>\n",
       "      <td>5.945</td>\n",
       "      <td>1.116</td>\n",
       "      <td>1.219</td>\n",
       "      <td>0.726</td>\n",
       "      <td>0.528</td>\n",
       "      <td>0.088</td>\n",
       "      <td>0.001</td>\n",
       "    </tr>\n",
       "    <tr>\n",
       "      <th>76</th>\n",
       "      <td>77</td>\n",
       "      <td>Portugal</td>\n",
       "      <td>5.410</td>\n",
       "      <td>1.188</td>\n",
       "      <td>1.429</td>\n",
       "      <td>0.884</td>\n",
       "      <td>0.562</td>\n",
       "      <td>0.055</td>\n",
       "      <td>0.017</td>\n",
       "    </tr>\n",
       "    <tr>\n",
       "      <th>133</th>\n",
       "      <td>134</td>\n",
       "      <td>Niger</td>\n",
       "      <td>4.166</td>\n",
       "      <td>0.131</td>\n",
       "      <td>0.867</td>\n",
       "      <td>0.221</td>\n",
       "      <td>0.390</td>\n",
       "      <td>0.175</td>\n",
       "      <td>0.099</td>\n",
       "    </tr>\n",
       "    <tr>\n",
       "      <th>72</th>\n",
       "      <td>73</td>\n",
       "      <td>Belarus</td>\n",
       "      <td>5.483</td>\n",
       "      <td>1.039</td>\n",
       "      <td>1.498</td>\n",
       "      <td>0.700</td>\n",
       "      <td>0.307</td>\n",
       "      <td>0.101</td>\n",
       "      <td>0.154</td>\n",
       "    </tr>\n",
       "    <tr>\n",
       "      <th>108</th>\n",
       "      <td>109</td>\n",
       "      <td>Senegal</td>\n",
       "      <td>4.631</td>\n",
       "      <td>0.429</td>\n",
       "      <td>1.117</td>\n",
       "      <td>0.433</td>\n",
       "      <td>0.406</td>\n",
       "      <td>0.138</td>\n",
       "      <td>0.082</td>\n",
       "    </tr>\n",
       "    <tr>\n",
       "      <th>122</th>\n",
       "      <td>123</td>\n",
       "      <td>Mozambique</td>\n",
       "      <td>4.417</td>\n",
       "      <td>0.198</td>\n",
       "      <td>0.902</td>\n",
       "      <td>0.173</td>\n",
       "      <td>0.531</td>\n",
       "      <td>0.206</td>\n",
       "      <td>0.158</td>\n",
       "    </tr>\n",
       "    <tr>\n",
       "      <th>21</th>\n",
       "      <td>22</td>\n",
       "      <td>Malta</td>\n",
       "      <td>6.627</td>\n",
       "      <td>1.270</td>\n",
       "      <td>1.525</td>\n",
       "      <td>0.884</td>\n",
       "      <td>0.645</td>\n",
       "      <td>0.376</td>\n",
       "      <td>0.142</td>\n",
       "    </tr>\n",
       "    <tr>\n",
       "      <th>86</th>\n",
       "      <td>87</td>\n",
       "      <td>Azerbaijan</td>\n",
       "      <td>5.201</td>\n",
       "      <td>1.024</td>\n",
       "      <td>1.161</td>\n",
       "      <td>0.603</td>\n",
       "      <td>0.430</td>\n",
       "      <td>0.031</td>\n",
       "      <td>0.176</td>\n",
       "    </tr>\n",
       "    <tr>\n",
       "      <th>12</th>\n",
       "      <td>13</td>\n",
       "      <td>Costa Rica</td>\n",
       "      <td>7.072</td>\n",
       "      <td>1.010</td>\n",
       "      <td>1.459</td>\n",
       "      <td>0.817</td>\n",
       "      <td>0.632</td>\n",
       "      <td>0.143</td>\n",
       "      <td>0.101</td>\n",
       "    </tr>\n",
       "  </tbody>\n",
       "</table>\n",
       "</div>"
      ],
      "text/plain": [
       "     Overall rank Country or region  Score  GDP per capita  Social support  \\\n",
       "114           115        Bangladesh  4.500           0.532           0.850   \n",
       "51             52           Romania  5.945           1.116           1.219   \n",
       "76             77          Portugal  5.410           1.188           1.429   \n",
       "133           134             Niger  4.166           0.131           0.867   \n",
       "72             73           Belarus  5.483           1.039           1.498   \n",
       "108           109           Senegal  4.631           0.429           1.117   \n",
       "122           123        Mozambique  4.417           0.198           0.902   \n",
       "21             22             Malta  6.627           1.270           1.525   \n",
       "86             87        Azerbaijan  5.201           1.024           1.161   \n",
       "12             13        Costa Rica  7.072           1.010           1.459   \n",
       "\n",
       "     Healthy life expectancy  Freedom to make life choices  Generosity  \\\n",
       "114                    0.579                         0.580       0.153   \n",
       "51                     0.726                         0.528       0.088   \n",
       "76                     0.884                         0.562       0.055   \n",
       "133                    0.221                         0.390       0.175   \n",
       "72                     0.700                         0.307       0.101   \n",
       "108                    0.433                         0.406       0.138   \n",
       "122                    0.173                         0.531       0.206   \n",
       "21                     0.884                         0.645       0.376   \n",
       "86                     0.603                         0.430       0.031   \n",
       "12                     0.817                         0.632       0.143   \n",
       "\n",
       "     Perceptions of corruption  \n",
       "114                      0.144  \n",
       "51                       0.001  \n",
       "76                       0.017  \n",
       "133                      0.099  \n",
       "72                       0.154  \n",
       "108                      0.082  \n",
       "122                      0.158  \n",
       "21                       0.142  \n",
       "86                       0.176  \n",
       "12                       0.101  "
      ]
     },
     "execution_count": 260,
     "metadata": {},
     "output_type": "execute_result"
    }
   ],
   "source": [
    "#4 sample using seed\n",
    "df.sample(n=10, random_state=20) # Shows 10 randomly selected rows with a fixed random seed (20)"
   ]
  },
  {
   "cell_type": "code",
   "execution_count": 261,
   "metadata": {
    "id": "GjUmX2RdD7X_",
    "scrolled": true
   },
   "outputs": [
    {
     "data": {
      "text/html": [
       "<div>\n",
       "<style scoped>\n",
       "    .dataframe tbody tr th:only-of-type {\n",
       "        vertical-align: middle;\n",
       "    }\n",
       "\n",
       "    .dataframe tbody tr th {\n",
       "        vertical-align: top;\n",
       "    }\n",
       "\n",
       "    .dataframe thead th {\n",
       "        text-align: right;\n",
       "    }\n",
       "</style>\n",
       "<table border=\"1\" class=\"dataframe\">\n",
       "  <thead>\n",
       "    <tr style=\"text-align: right;\">\n",
       "      <th></th>\n",
       "      <th>Overall rank</th>\n",
       "      <th>Country or region</th>\n",
       "      <th>Score</th>\n",
       "      <th>GDP per capita</th>\n",
       "      <th>Social support</th>\n",
       "      <th>Healthy life expectancy</th>\n",
       "      <th>Freedom to make life choices</th>\n",
       "      <th>Generosity</th>\n",
       "      <th>Perceptions of corruption</th>\n",
       "    </tr>\n",
       "  </thead>\n",
       "  <tbody>\n",
       "    <tr>\n",
       "      <th>0</th>\n",
       "      <td>1</td>\n",
       "      <td>Finland</td>\n",
       "      <td>7.632</td>\n",
       "      <td>1.305</td>\n",
       "      <td>1.592</td>\n",
       "      <td>0.874</td>\n",
       "      <td>0.681</td>\n",
       "      <td>0.202</td>\n",
       "      <td>0.393</td>\n",
       "    </tr>\n",
       "    <tr>\n",
       "      <th>10</th>\n",
       "      <td>11</td>\n",
       "      <td>United Kingdom</td>\n",
       "      <td>7.190</td>\n",
       "      <td>1.244</td>\n",
       "      <td>1.433</td>\n",
       "      <td>0.888</td>\n",
       "      <td>0.464</td>\n",
       "      <td>0.262</td>\n",
       "      <td>0.082</td>\n",
       "    </tr>\n",
       "    <tr>\n",
       "      <th>20</th>\n",
       "      <td>21</td>\n",
       "      <td>Czech Republic</td>\n",
       "      <td>6.711</td>\n",
       "      <td>1.233</td>\n",
       "      <td>1.489</td>\n",
       "      <td>0.854</td>\n",
       "      <td>0.543</td>\n",
       "      <td>0.064</td>\n",
       "      <td>0.034</td>\n",
       "    </tr>\n",
       "    <tr>\n",
       "      <th>30</th>\n",
       "      <td>31</td>\n",
       "      <td>Uruguay</td>\n",
       "      <td>6.379</td>\n",
       "      <td>1.093</td>\n",
       "      <td>1.459</td>\n",
       "      <td>0.771</td>\n",
       "      <td>0.625</td>\n",
       "      <td>0.130</td>\n",
       "      <td>0.155</td>\n",
       "    </tr>\n",
       "    <tr>\n",
       "      <th>40</th>\n",
       "      <td>41</td>\n",
       "      <td>Nicaragua</td>\n",
       "      <td>6.141</td>\n",
       "      <td>0.668</td>\n",
       "      <td>1.319</td>\n",
       "      <td>0.700</td>\n",
       "      <td>0.527</td>\n",
       "      <td>0.208</td>\n",
       "      <td>0.128</td>\n",
       "    </tr>\n",
       "    <tr>\n",
       "      <th>50</th>\n",
       "      <td>51</td>\n",
       "      <td>Slovenia</td>\n",
       "      <td>5.948</td>\n",
       "      <td>1.219</td>\n",
       "      <td>1.506</td>\n",
       "      <td>0.856</td>\n",
       "      <td>0.633</td>\n",
       "      <td>0.160</td>\n",
       "      <td>0.051</td>\n",
       "    </tr>\n",
       "    <tr>\n",
       "      <th>60</th>\n",
       "      <td>61</td>\n",
       "      <td>Cyprus</td>\n",
       "      <td>5.762</td>\n",
       "      <td>1.229</td>\n",
       "      <td>1.191</td>\n",
       "      <td>0.909</td>\n",
       "      <td>0.423</td>\n",
       "      <td>0.202</td>\n",
       "      <td>0.035</td>\n",
       "    </tr>\n",
       "    <tr>\n",
       "      <th>70</th>\n",
       "      <td>71</td>\n",
       "      <td>Philippines</td>\n",
       "      <td>5.524</td>\n",
       "      <td>0.775</td>\n",
       "      <td>1.312</td>\n",
       "      <td>0.513</td>\n",
       "      <td>0.643</td>\n",
       "      <td>0.120</td>\n",
       "      <td>0.105</td>\n",
       "    </tr>\n",
       "    <tr>\n",
       "      <th>80</th>\n",
       "      <td>81</td>\n",
       "      <td>Montenegro</td>\n",
       "      <td>5.347</td>\n",
       "      <td>1.017</td>\n",
       "      <td>1.279</td>\n",
       "      <td>0.729</td>\n",
       "      <td>0.259</td>\n",
       "      <td>0.111</td>\n",
       "      <td>0.081</td>\n",
       "    </tr>\n",
       "    <tr>\n",
       "      <th>90</th>\n",
       "      <td>91</td>\n",
       "      <td>Nigeria</td>\n",
       "      <td>5.155</td>\n",
       "      <td>0.689</td>\n",
       "      <td>1.172</td>\n",
       "      <td>0.048</td>\n",
       "      <td>0.462</td>\n",
       "      <td>0.201</td>\n",
       "      <td>0.032</td>\n",
       "    </tr>\n",
       "    <tr>\n",
       "      <th>100</th>\n",
       "      <td>101</td>\n",
       "      <td>Nepal</td>\n",
       "      <td>4.880</td>\n",
       "      <td>0.425</td>\n",
       "      <td>1.228</td>\n",
       "      <td>0.539</td>\n",
       "      <td>0.526</td>\n",
       "      <td>0.302</td>\n",
       "      <td>0.078</td>\n",
       "    </tr>\n",
       "    <tr>\n",
       "      <th>110</th>\n",
       "      <td>111</td>\n",
       "      <td>Tunisia</td>\n",
       "      <td>4.592</td>\n",
       "      <td>0.900</td>\n",
       "      <td>0.906</td>\n",
       "      <td>0.690</td>\n",
       "      <td>0.271</td>\n",
       "      <td>0.040</td>\n",
       "      <td>0.063</td>\n",
       "    </tr>\n",
       "    <tr>\n",
       "      <th>120</th>\n",
       "      <td>121</td>\n",
       "      <td>Burkina Faso</td>\n",
       "      <td>4.424</td>\n",
       "      <td>0.314</td>\n",
       "      <td>1.097</td>\n",
       "      <td>0.254</td>\n",
       "      <td>0.312</td>\n",
       "      <td>0.175</td>\n",
       "      <td>0.128</td>\n",
       "    </tr>\n",
       "    <tr>\n",
       "      <th>130</th>\n",
       "      <td>131</td>\n",
       "      <td>Chad</td>\n",
       "      <td>4.301</td>\n",
       "      <td>0.358</td>\n",
       "      <td>0.907</td>\n",
       "      <td>0.053</td>\n",
       "      <td>0.189</td>\n",
       "      <td>0.181</td>\n",
       "      <td>0.060</td>\n",
       "    </tr>\n",
       "    <tr>\n",
       "      <th>140</th>\n",
       "      <td>141</td>\n",
       "      <td>Lesotho</td>\n",
       "      <td>3.808</td>\n",
       "      <td>0.472</td>\n",
       "      <td>1.215</td>\n",
       "      <td>0.079</td>\n",
       "      <td>0.423</td>\n",
       "      <td>0.116</td>\n",
       "      <td>0.112</td>\n",
       "    </tr>\n",
       "    <tr>\n",
       "      <th>150</th>\n",
       "      <td>151</td>\n",
       "      <td>Rwanda</td>\n",
       "      <td>3.408</td>\n",
       "      <td>0.332</td>\n",
       "      <td>0.896</td>\n",
       "      <td>0.400</td>\n",
       "      <td>0.636</td>\n",
       "      <td>0.200</td>\n",
       "      <td>0.444</td>\n",
       "    </tr>\n",
       "  </tbody>\n",
       "</table>\n",
       "</div>"
      ],
      "text/plain": [
       "     Overall rank Country or region  Score  GDP per capita  Social support  \\\n",
       "0               1           Finland  7.632           1.305           1.592   \n",
       "10             11    United Kingdom  7.190           1.244           1.433   \n",
       "20             21    Czech Republic  6.711           1.233           1.489   \n",
       "30             31           Uruguay  6.379           1.093           1.459   \n",
       "40             41         Nicaragua  6.141           0.668           1.319   \n",
       "50             51          Slovenia  5.948           1.219           1.506   \n",
       "60             61            Cyprus  5.762           1.229           1.191   \n",
       "70             71       Philippines  5.524           0.775           1.312   \n",
       "80             81        Montenegro  5.347           1.017           1.279   \n",
       "90             91           Nigeria  5.155           0.689           1.172   \n",
       "100           101             Nepal  4.880           0.425           1.228   \n",
       "110           111           Tunisia  4.592           0.900           0.906   \n",
       "120           121      Burkina Faso  4.424           0.314           1.097   \n",
       "130           131              Chad  4.301           0.358           0.907   \n",
       "140           141           Lesotho  3.808           0.472           1.215   \n",
       "150           151            Rwanda  3.408           0.332           0.896   \n",
       "\n",
       "     Healthy life expectancy  Freedom to make life choices  Generosity  \\\n",
       "0                      0.874                         0.681       0.202   \n",
       "10                     0.888                         0.464       0.262   \n",
       "20                     0.854                         0.543       0.064   \n",
       "30                     0.771                         0.625       0.130   \n",
       "40                     0.700                         0.527       0.208   \n",
       "50                     0.856                         0.633       0.160   \n",
       "60                     0.909                         0.423       0.202   \n",
       "70                     0.513                         0.643       0.120   \n",
       "80                     0.729                         0.259       0.111   \n",
       "90                     0.048                         0.462       0.201   \n",
       "100                    0.539                         0.526       0.302   \n",
       "110                    0.690                         0.271       0.040   \n",
       "120                    0.254                         0.312       0.175   \n",
       "130                    0.053                         0.189       0.181   \n",
       "140                    0.079                         0.423       0.116   \n",
       "150                    0.400                         0.636       0.200   \n",
       "\n",
       "     Perceptions of corruption  \n",
       "0                        0.393  \n",
       "10                       0.082  \n",
       "20                       0.034  \n",
       "30                       0.155  \n",
       "40                       0.128  \n",
       "50                       0.051  \n",
       "60                       0.035  \n",
       "70                       0.105  \n",
       "80                       0.081  \n",
       "90                       0.032  \n",
       "100                      0.078  \n",
       "110                      0.063  \n",
       "120                      0.128  \n",
       "130                      0.060  \n",
       "140                      0.112  \n",
       "150                      0.444  "
      ]
     },
     "execution_count": 261,
     "metadata": {},
     "output_type": "execute_result"
    }
   ],
   "source": [
    "#5 Display every 10th row\n",
    "df.iloc[::10]"
   ]
  },
  {
   "cell_type": "code",
   "execution_count": 262,
   "metadata": {
    "id": "DXdwpo1SD9-F",
    "scrolled": true
   },
   "outputs": [
    {
     "data": {
      "text/html": [
       "<div>\n",
       "<style scoped>\n",
       "    .dataframe tbody tr th:only-of-type {\n",
       "        vertical-align: middle;\n",
       "    }\n",
       "\n",
       "    .dataframe tbody tr th {\n",
       "        vertical-align: top;\n",
       "    }\n",
       "\n",
       "    .dataframe thead th {\n",
       "        text-align: right;\n",
       "    }\n",
       "</style>\n",
       "<table border=\"1\" class=\"dataframe\">\n",
       "  <thead>\n",
       "    <tr style=\"text-align: right;\">\n",
       "      <th></th>\n",
       "      <th>Overall rank</th>\n",
       "      <th>Score</th>\n",
       "      <th>GDP per capita</th>\n",
       "      <th>Social support</th>\n",
       "      <th>Healthy life expectancy</th>\n",
       "      <th>Freedom to make life choices</th>\n",
       "      <th>Generosity</th>\n",
       "      <th>Perceptions of corruption</th>\n",
       "    </tr>\n",
       "  </thead>\n",
       "  <tbody>\n",
       "    <tr>\n",
       "      <th>count</th>\n",
       "      <td>156.000000</td>\n",
       "      <td>156.000000</td>\n",
       "      <td>156.000000</td>\n",
       "      <td>156.000000</td>\n",
       "      <td>156.000000</td>\n",
       "      <td>156.000000</td>\n",
       "      <td>156.000000</td>\n",
       "      <td>155.000000</td>\n",
       "    </tr>\n",
       "    <tr>\n",
       "      <th>mean</th>\n",
       "      <td>78.500000</td>\n",
       "      <td>5.375917</td>\n",
       "      <td>0.891449</td>\n",
       "      <td>1.213237</td>\n",
       "      <td>0.597346</td>\n",
       "      <td>0.454506</td>\n",
       "      <td>0.181006</td>\n",
       "      <td>0.112000</td>\n",
       "    </tr>\n",
       "    <tr>\n",
       "      <th>std</th>\n",
       "      <td>45.177428</td>\n",
       "      <td>1.119506</td>\n",
       "      <td>0.391921</td>\n",
       "      <td>0.302372</td>\n",
       "      <td>0.247579</td>\n",
       "      <td>0.162424</td>\n",
       "      <td>0.098471</td>\n",
       "      <td>0.096492</td>\n",
       "    </tr>\n",
       "    <tr>\n",
       "      <th>min</th>\n",
       "      <td>1.000000</td>\n",
       "      <td>2.905000</td>\n",
       "      <td>0.000000</td>\n",
       "      <td>0.000000</td>\n",
       "      <td>0.000000</td>\n",
       "      <td>0.000000</td>\n",
       "      <td>0.000000</td>\n",
       "      <td>0.000000</td>\n",
       "    </tr>\n",
       "    <tr>\n",
       "      <th>25%</th>\n",
       "      <td>39.750000</td>\n",
       "      <td>4.453750</td>\n",
       "      <td>0.616250</td>\n",
       "      <td>1.066750</td>\n",
       "      <td>0.422250</td>\n",
       "      <td>0.356000</td>\n",
       "      <td>0.109500</td>\n",
       "      <td>0.051000</td>\n",
       "    </tr>\n",
       "    <tr>\n",
       "      <th>50%</th>\n",
       "      <td>78.500000</td>\n",
       "      <td>5.378000</td>\n",
       "      <td>0.949500</td>\n",
       "      <td>1.255000</td>\n",
       "      <td>0.644000</td>\n",
       "      <td>0.487000</td>\n",
       "      <td>0.174000</td>\n",
       "      <td>0.082000</td>\n",
       "    </tr>\n",
       "    <tr>\n",
       "      <th>75%</th>\n",
       "      <td>117.250000</td>\n",
       "      <td>6.168500</td>\n",
       "      <td>1.197750</td>\n",
       "      <td>1.463000</td>\n",
       "      <td>0.777250</td>\n",
       "      <td>0.578500</td>\n",
       "      <td>0.239000</td>\n",
       "      <td>0.137000</td>\n",
       "    </tr>\n",
       "    <tr>\n",
       "      <th>max</th>\n",
       "      <td>156.000000</td>\n",
       "      <td>7.632000</td>\n",
       "      <td>2.096000</td>\n",
       "      <td>1.644000</td>\n",
       "      <td>1.030000</td>\n",
       "      <td>0.724000</td>\n",
       "      <td>0.598000</td>\n",
       "      <td>0.457000</td>\n",
       "    </tr>\n",
       "  </tbody>\n",
       "</table>\n",
       "</div>"
      ],
      "text/plain": [
       "       Overall rank       Score  GDP per capita  Social support  \\\n",
       "count    156.000000  156.000000      156.000000      156.000000   \n",
       "mean      78.500000    5.375917        0.891449        1.213237   \n",
       "std       45.177428    1.119506        0.391921        0.302372   \n",
       "min        1.000000    2.905000        0.000000        0.000000   \n",
       "25%       39.750000    4.453750        0.616250        1.066750   \n",
       "50%       78.500000    5.378000        0.949500        1.255000   \n",
       "75%      117.250000    6.168500        1.197750        1.463000   \n",
       "max      156.000000    7.632000        2.096000        1.644000   \n",
       "\n",
       "       Healthy life expectancy  Freedom to make life choices  Generosity  \\\n",
       "count               156.000000                    156.000000  156.000000   \n",
       "mean                  0.597346                      0.454506    0.181006   \n",
       "std                   0.247579                      0.162424    0.098471   \n",
       "min                   0.000000                      0.000000    0.000000   \n",
       "25%                   0.422250                      0.356000    0.109500   \n",
       "50%                   0.644000                      0.487000    0.174000   \n",
       "75%                   0.777250                      0.578500    0.239000   \n",
       "max                   1.030000                      0.724000    0.598000   \n",
       "\n",
       "       Perceptions of corruption  \n",
       "count                 155.000000  \n",
       "mean                    0.112000  \n",
       "std                     0.096492  \n",
       "min                     0.000000  \n",
       "25%                     0.051000  \n",
       "50%                     0.082000  \n",
       "75%                     0.137000  \n",
       "max                     0.457000  "
      ]
     },
     "execution_count": 262,
     "metadata": {},
     "output_type": "execute_result"
    }
   ],
   "source": [
    "#6 Get the summary stats of the dataset regarding each column\n",
    "df.describe() # Outputs key statistics such as mean, median, and standard deviation for numeric columns"
   ]
  },
  {
   "cell_type": "code",
   "execution_count": 264,
   "metadata": {
    "id": "qhE0TwZZEAM5"
   },
   "outputs": [
    {
     "name": "stdout",
     "output_type": "stream",
     "text": [
      "Overall rank                    0\n",
      "Country or region               0\n",
      "Score                           0\n",
      "GDP per capita                  0\n",
      "Social support                  0\n",
      "Healthy life expectancy         0\n",
      "Freedom to make life choices    0\n",
      "Generosity                      0\n",
      "Perceptions of corruption       1\n",
      "dtype: int64\n"
     ]
    }
   ],
   "source": [
    "#7 Identify and count the number of missing values in each column\n",
    "print(df.isnull().sum(axis=0)) # Displays the total number of null values for each column"
   ]
  },
  {
   "cell_type": "markdown",
   "metadata": {
    "id": "03njHFZpEDcR"
   },
   "source": [
    "# Q2. Basic Data Statistics: **(10 Pts)**\n",
    "\n",
    "1. Calculate the mean, median, and standard deviation of the happiness Score across all countries. **(1 Pts)**\n",
    "2. Identify the top 5 happiest countries and the bottom 5 least happy countries based on happiness Score. **(1 Pts)**\n",
    "3. Find the country with the highest Healthy Life Expectancy. What is the corresponding happiness Score? **(2 Pts)**\n",
    "4. Calculate the average Corruption Perceptions for countries with a happiness Score greater than 6. **(2 Pts)**\n",
    "5. Are there any countries where Generosity is higher than Social Support? List them. **(2 Pts)**\n",
    "6. What is the range (max-min) of GDP per Capita values in the dataset? **(2 Pts)**"
   ]
  },
  {
   "cell_type": "code",
   "execution_count": 185,
   "metadata": {
    "id": "7VerqUJlIxdB"
   },
   "outputs": [
    {
     "name": "stdout",
     "output_type": "stream",
     "text": [
      "5.375916666666667\n"
     ]
    }
   ],
   "source": [
    "#1  \n",
    "print(df[\"Score\"].mean()) # Outputs the mean value of the 'Score' column"
   ]
  },
  {
   "cell_type": "code",
   "execution_count": 186,
   "metadata": {},
   "outputs": [
    {
     "name": "stdout",
     "output_type": "stream",
     "text": [
      "5.378\n"
     ]
    }
   ],
   "source": [
    "print(df[\"Score\"].median()) # Displays the median value of the 'Score' column"
   ]
  },
  {
   "cell_type": "code",
   "execution_count": 187,
   "metadata": {},
   "outputs": [
    {
     "name": "stdout",
     "output_type": "stream",
     "text": [
      "1.119505852731943\n"
     ]
    }
   ],
   "source": [
    "print(df[\"Score\"].std()) # Displays the standard deviation of the 'Score' column"
   ]
  },
  {
   "cell_type": "code",
   "execution_count": 266,
   "metadata": {
    "id": "wggNKMOnIxZR"
   },
   "outputs": [
    {
     "name": "stdout",
     "output_type": "stream",
     "text": [
      "0        Finland\n",
      "1         Norway\n",
      "2        Denmark\n",
      "3        Iceland\n",
      "4    Switzerland\n",
      "Name: Country or region, dtype: object\n",
      "151                       Yemen\n",
      "152                    Tanzania\n",
      "153                 South Sudan\n",
      "154    Central African Republic\n",
      "155                     Burundi\n",
      "Name: Country or region, dtype: object\n"
     ]
    }
   ],
   "source": [
    "#2 \n",
    "# Sort the DataFrame by the 'Score' column in descending order\n",
    "sorted_df = df.sort_values(by=\"Score\", ascending=False, inplace=False)\n",
    "\n",
    "# Display the top countries based on score\n",
    "print(sorted_df.head()[\"Country or region\"])\n",
    "\n",
    "# Display the bottom countries based on score\n",
    "print(sorted_df.tail()[\"Country or region\"])"
   ]
  },
  {
   "cell_type": "code",
   "execution_count": 189,
   "metadata": {
    "id": "HEMghv00IxU1"
   },
   "outputs": [
    {
     "name": "stdout",
     "output_type": "stream",
     "text": [
      "Hong Kong\n"
     ]
    }
   ],
   "source": [
    "#3\n",
    "# Get the index of the country with the highest healthy life expectancy\n",
    "country_id = df[\"Healthy life expectancy\"].idxmax()\n",
    "\n",
    "# Display the country with the highest healthy life expectancy\n",
    "print(df.loc[country_id][\"Country or region\"])"
   ]
  },
  {
   "cell_type": "code",
   "execution_count": 190,
   "metadata": {},
   "outputs": [
    {
     "name": "stdout",
     "output_type": "stream",
     "text": [
      "5.43\n"
     ]
    }
   ],
   "source": [
    "# Display the score of the country with the highest healthy life expectancy\n",
    "print(df.loc[country_id][\"Score\"])"
   ]
  },
  {
   "cell_type": "code",
   "execution_count": 191,
   "metadata": {
    "id": "7V9fOGmyIxPx"
   },
   "outputs": [
    {
     "name": "stdout",
     "output_type": "stream",
     "text": [
      "0.1782888888888889\n"
     ]
    }
   ],
   "source": [
    "#4\n",
    "# Create a new DataFrame with countries having a score greater than 6\n",
    "new_df = df.loc[df[\"Score\"]>6]\n",
    "\n",
    "# Calculate the average perceptions of corruption for the new_df\n",
    "average = new_df[\"Perceptions of corruption\"].mean()\n",
    "\n",
    "# Display the average perceptions of corruption\n",
    "print(average)"
   ]
  },
  {
   "cell_type": "code",
   "execution_count": 192,
   "metadata": {
    "id": "Xu8KeZpuIxKX"
   },
   "outputs": [
    {
     "name": "stdout",
     "output_type": "stream",
     "text": [
      "154    Central African Republic\n",
      "Name: Country or region, dtype: object\n"
     ]
    }
   ],
   "source": [
    "#5\n",
    "# Create a new DataFrame for countries where generosity is greater than social support\n",
    "new_df = df.loc[df[\"Generosity\"] > df[\"Social support\"]]\n",
    "# List the countries where the level of generosity is greater than the level of social support\n",
    "print(new_df[\"Country or region\"])"
   ]
  },
  {
   "cell_type": "code",
   "execution_count": 193,
   "metadata": {
    "id": "TwGHH-K9IxDy"
   },
   "outputs": [
    {
     "name": "stdout",
     "output_type": "stream",
     "text": [
      "2.096\n"
     ]
    }
   ],
   "source": [
    "#6\n",
    "# Calculate the range of GDP per capita by subtracting the minimum from the maximum\n",
    "range = df[\"GDP per capita\"].max() - df[\"GDP per capita\"].min()\n",
    "\n",
    "# Display the range of GDP per capita\n",
    "print(range)"
   ]
  },
  {
   "cell_type": "markdown",
   "metadata": {
    "id": "s6LGyNg0Fqns"
   },
   "source": [
    "# Q3. Data Filtering **(20 Pts)**\n",
    "\n",
    "1. How many countries have a Happiness Score greater than 7.5? List their names.**(2 Pts)**\n",
    "2. List all countries where the Corruption Perception score is below 0.2. **(2 Pts)**\n",
    "3. Filter and list the top 5 countries by Generosity. What is their average Happiness Score? **(2 Pts)**\n",
    "4. Find countries where GDP per Capita is less than 0.5 but the Happiness Score is above 4. List the countries. **(2 Pts)**\n",
    "5. Filter countries where Social Support is higher than Freedom to Make Life **(2 Pts)**\n",
    "6. Find countries in the top 10% of Healthy Life Expectancy and list their names. **(2 Pts)**\n",
    "7. Filter and list countries where Generosity is less than Social Support. What is the average Happiness Score of these countries? **(2 Pts)**\n",
    "8.  Find all countries with a Happiness Score below the median happiness score. How many are there, and what are the common characteristics of these countries? **(3 Pts)**\n",
    "9. Filter countries where both Freedom to Make Life Choices and Healthy Life Expectancy are above the global median. How many such countries are there? **(3 Pts)**"
   ]
  },
  {
   "cell_type": "code",
   "execution_count": 194,
   "metadata": {
    "id": "H2ZCnvlKIzvU"
   },
   "outputs": [
    {
     "name": "stdout",
     "output_type": "stream",
     "text": [
      "3\n"
     ]
    }
   ],
   "source": [
    "#1\n",
    "#Create a new DataFrame from the values in the original DataFrame where the score is above 7.5.\n",
    "new_df = df.loc[df[\"Score\"] > 7.5] \n",
    "\n",
    "#It displays the number of countries that meet this condition.\n",
    "print(len(new_df))"
   ]
  },
  {
   "cell_type": "code",
   "execution_count": 195,
   "metadata": {},
   "outputs": [
    {
     "name": "stdout",
     "output_type": "stream",
     "text": [
      "0    Finland\n",
      "1     Norway\n",
      "2    Denmark\n",
      "Name: Country or region, dtype: object\n"
     ]
    }
   ],
   "source": [
    "#It displays the names of the countries that meet this condition.\n",
    "print(new_df[\"Country or region\"])"
   ]
  },
  {
   "cell_type": "code",
   "execution_count": 268,
   "metadata": {
    "id": "pedm2qN7Izpj"
   },
   "outputs": [
    {
     "name": "stdout",
     "output_type": "stream",
     "text": [
      "3                       Iceland\n",
      "10               United Kingdom\n",
      "12                   Costa Rica\n",
      "17                United States\n",
      "20               Czech Republic\n",
      "                 ...           \n",
      "151                       Yemen\n",
      "152                    Tanzania\n",
      "153                 South Sudan\n",
      "154    Central African Republic\n",
      "155                     Burundi\n",
      "Name: Country or region, Length: 134, dtype: object\n"
     ]
    }
   ],
   "source": [
    "#2\n",
    "#Create a new DataFrame with the entries where the Corruption Perception score is below 0.2.\n",
    "new_df = df.loc[df[\"Perceptions of corruption\"] < 0.2]\n",
    "\n",
    "#It displays the names of the countries in the new_df.\n",
    "print(new_df[\"Country or region\"])"
   ]
  },
  {
   "cell_type": "code",
   "execution_count": 270,
   "metadata": {
    "id": "RDR7XZU0IzES"
   },
   "outputs": [
    {
     "name": "stdout",
     "output_type": "stream",
     "text": [
      "129      Myanmar\n",
      "95     Indonesia\n",
      "147        Haiti\n",
      "21         Malta\n",
      "149        Syria\n",
      "Name: Country or region, dtype: object\n"
     ]
    }
   ],
   "source": [
    "#3\n",
    "# Sort the DataFrame by the 'Generosity' column in descending order\n",
    "sorted_df = df.sort_values(by=\"Generosity\", ascending=False, inplace=False)\n",
    "\n",
    "#List the top 5 countries by generosity.\n",
    "print(sorted_df.head()[\"Country or region\"])"
   ]
  },
  {
   "cell_type": "code",
   "execution_count": 198,
   "metadata": {},
   "outputs": [
    {
     "name": "stdout",
     "output_type": "stream",
     "text": [
      "4.6144\n"
     ]
    }
   ],
   "source": [
    "# Calculate the average Happiness Score of the top 5 countries\n",
    "print(sorted_df.head()[\"Score\"].mean())"
   ]
  },
  {
   "cell_type": "code",
   "execution_count": 271,
   "metadata": {
    "id": "Q-v1h509IzBw"
   },
   "outputs": [
    {
     "data": {
      "text/plain": [
       "87           Tajikistan\n",
       "97              Somalia\n",
       "100               Nepal\n",
       "108             Senegal\n",
       "112        Sierra Leone\n",
       "117                Mali\n",
       "120        Burkina Faso\n",
       "122          Mozambique\n",
       "123               Kenya\n",
       "126            Ethiopia\n",
       "130                Chad\n",
       "131    Congo (Kinshasa)\n",
       "133               Niger\n",
       "134              Uganda\n",
       "135               Benin\n",
       "Name: Country or region, dtype: object"
      ]
     },
     "execution_count": 271,
     "metadata": {},
     "output_type": "execute_result"
    }
   ],
   "source": [
    "#4\n",
    "# Create a new DataFrame with countries having GDP per capita less than 0.5 and Score greater than 4\n",
    "new_df = df.loc[(df[\"GDP per capita\"] < 0.5) & (df[\"Score\"] > 4)]\n",
    "\n",
    "# Display the names of the countries in the new DataFrame\n",
    "new_df[\"Country or region\"]"
   ]
  },
  {
   "cell_type": "code",
   "execution_count": 200,
   "metadata": {
    "id": "fsxfO5cvIy_L",
    "scrolled": true
   },
   "outputs": [
    {
     "data": {
      "text/html": [
       "<div>\n",
       "<style scoped>\n",
       "    .dataframe tbody tr th:only-of-type {\n",
       "        vertical-align: middle;\n",
       "    }\n",
       "\n",
       "    .dataframe tbody tr th {\n",
       "        vertical-align: top;\n",
       "    }\n",
       "\n",
       "    .dataframe thead th {\n",
       "        text-align: right;\n",
       "    }\n",
       "</style>\n",
       "<table border=\"1\" class=\"dataframe\">\n",
       "  <thead>\n",
       "    <tr style=\"text-align: right;\">\n",
       "      <th></th>\n",
       "      <th>Overall rank</th>\n",
       "      <th>Country or region</th>\n",
       "      <th>Score</th>\n",
       "      <th>GDP per capita</th>\n",
       "      <th>Social support</th>\n",
       "      <th>Healthy life expectancy</th>\n",
       "      <th>Freedom to make life choices</th>\n",
       "      <th>Generosity</th>\n",
       "      <th>Perceptions of corruption</th>\n",
       "    </tr>\n",
       "  </thead>\n",
       "  <tbody>\n",
       "    <tr>\n",
       "      <th>0</th>\n",
       "      <td>1</td>\n",
       "      <td>Finland</td>\n",
       "      <td>7.632</td>\n",
       "      <td>1.305</td>\n",
       "      <td>1.592</td>\n",
       "      <td>0.874</td>\n",
       "      <td>0.681</td>\n",
       "      <td>0.202</td>\n",
       "      <td>0.393</td>\n",
       "    </tr>\n",
       "    <tr>\n",
       "      <th>1</th>\n",
       "      <td>2</td>\n",
       "      <td>Norway</td>\n",
       "      <td>7.594</td>\n",
       "      <td>1.456</td>\n",
       "      <td>1.582</td>\n",
       "      <td>0.861</td>\n",
       "      <td>0.686</td>\n",
       "      <td>0.286</td>\n",
       "      <td>0.340</td>\n",
       "    </tr>\n",
       "    <tr>\n",
       "      <th>2</th>\n",
       "      <td>3</td>\n",
       "      <td>Denmark</td>\n",
       "      <td>7.555</td>\n",
       "      <td>1.351</td>\n",
       "      <td>1.590</td>\n",
       "      <td>0.868</td>\n",
       "      <td>0.683</td>\n",
       "      <td>0.284</td>\n",
       "      <td>0.408</td>\n",
       "    </tr>\n",
       "    <tr>\n",
       "      <th>3</th>\n",
       "      <td>4</td>\n",
       "      <td>Iceland</td>\n",
       "      <td>7.495</td>\n",
       "      <td>1.343</td>\n",
       "      <td>1.644</td>\n",
       "      <td>0.914</td>\n",
       "      <td>0.677</td>\n",
       "      <td>0.353</td>\n",
       "      <td>0.138</td>\n",
       "    </tr>\n",
       "    <tr>\n",
       "      <th>4</th>\n",
       "      <td>5</td>\n",
       "      <td>Switzerland</td>\n",
       "      <td>7.487</td>\n",
       "      <td>1.420</td>\n",
       "      <td>1.549</td>\n",
       "      <td>0.927</td>\n",
       "      <td>0.660</td>\n",
       "      <td>0.256</td>\n",
       "      <td>0.357</td>\n",
       "    </tr>\n",
       "    <tr>\n",
       "      <th>...</th>\n",
       "      <td>...</td>\n",
       "      <td>...</td>\n",
       "      <td>...</td>\n",
       "      <td>...</td>\n",
       "      <td>...</td>\n",
       "      <td>...</td>\n",
       "      <td>...</td>\n",
       "      <td>...</td>\n",
       "      <td>...</td>\n",
       "    </tr>\n",
       "    <tr>\n",
       "      <th>150</th>\n",
       "      <td>151</td>\n",
       "      <td>Rwanda</td>\n",
       "      <td>3.408</td>\n",
       "      <td>0.332</td>\n",
       "      <td>0.896</td>\n",
       "      <td>0.400</td>\n",
       "      <td>0.636</td>\n",
       "      <td>0.200</td>\n",
       "      <td>0.444</td>\n",
       "    </tr>\n",
       "    <tr>\n",
       "      <th>151</th>\n",
       "      <td>152</td>\n",
       "      <td>Yemen</td>\n",
       "      <td>3.355</td>\n",
       "      <td>0.442</td>\n",
       "      <td>1.073</td>\n",
       "      <td>0.343</td>\n",
       "      <td>0.244</td>\n",
       "      <td>0.083</td>\n",
       "      <td>0.064</td>\n",
       "    </tr>\n",
       "    <tr>\n",
       "      <th>152</th>\n",
       "      <td>153</td>\n",
       "      <td>Tanzania</td>\n",
       "      <td>3.303</td>\n",
       "      <td>0.455</td>\n",
       "      <td>0.991</td>\n",
       "      <td>0.381</td>\n",
       "      <td>0.481</td>\n",
       "      <td>0.270</td>\n",
       "      <td>0.097</td>\n",
       "    </tr>\n",
       "    <tr>\n",
       "      <th>153</th>\n",
       "      <td>154</td>\n",
       "      <td>South Sudan</td>\n",
       "      <td>3.254</td>\n",
       "      <td>0.337</td>\n",
       "      <td>0.608</td>\n",
       "      <td>0.177</td>\n",
       "      <td>0.112</td>\n",
       "      <td>0.224</td>\n",
       "      <td>0.106</td>\n",
       "    </tr>\n",
       "    <tr>\n",
       "      <th>155</th>\n",
       "      <td>156</td>\n",
       "      <td>Burundi</td>\n",
       "      <td>2.905</td>\n",
       "      <td>0.091</td>\n",
       "      <td>0.627</td>\n",
       "      <td>0.145</td>\n",
       "      <td>0.065</td>\n",
       "      <td>0.149</td>\n",
       "      <td>0.076</td>\n",
       "    </tr>\n",
       "  </tbody>\n",
       "</table>\n",
       "<p>154 rows × 9 columns</p>\n",
       "</div>"
      ],
      "text/plain": [
       "     Overall rank Country or region  Score  GDP per capita  Social support  \\\n",
       "0               1           Finland  7.632           1.305           1.592   \n",
       "1               2            Norway  7.594           1.456           1.582   \n",
       "2               3           Denmark  7.555           1.351           1.590   \n",
       "3               4           Iceland  7.495           1.343           1.644   \n",
       "4               5       Switzerland  7.487           1.420           1.549   \n",
       "..            ...               ...    ...             ...             ...   \n",
       "150           151            Rwanda  3.408           0.332           0.896   \n",
       "151           152             Yemen  3.355           0.442           1.073   \n",
       "152           153          Tanzania  3.303           0.455           0.991   \n",
       "153           154       South Sudan  3.254           0.337           0.608   \n",
       "155           156           Burundi  2.905           0.091           0.627   \n",
       "\n",
       "     Healthy life expectancy  Freedom to make life choices  Generosity  \\\n",
       "0                      0.874                         0.681       0.202   \n",
       "1                      0.861                         0.686       0.286   \n",
       "2                      0.868                         0.683       0.284   \n",
       "3                      0.914                         0.677       0.353   \n",
       "4                      0.927                         0.660       0.256   \n",
       "..                       ...                           ...         ...   \n",
       "150                    0.400                         0.636       0.200   \n",
       "151                    0.343                         0.244       0.083   \n",
       "152                    0.381                         0.481       0.270   \n",
       "153                    0.177                         0.112       0.224   \n",
       "155                    0.145                         0.065       0.149   \n",
       "\n",
       "     Perceptions of corruption  \n",
       "0                        0.393  \n",
       "1                        0.340  \n",
       "2                        0.408  \n",
       "3                        0.138  \n",
       "4                        0.357  \n",
       "..                         ...  \n",
       "150                      0.444  \n",
       "151                      0.064  \n",
       "152                      0.097  \n",
       "153                      0.106  \n",
       "155                      0.076  \n",
       "\n",
       "[154 rows x 9 columns]"
      ]
     },
     "execution_count": 200,
     "metadata": {},
     "output_type": "execute_result"
    }
   ],
   "source": [
    "#5\n",
    "# Create a new DataFrame with countries where social support is greater than freedom to make life choices\n",
    "new_df = df.loc[df[\"Social support\"] > df[\"Freedom to make life choices\"]]\n",
    "\n",
    "# Display the new DataFrame\n",
    "new_df"
   ]
  },
  {
   "cell_type": "code",
   "execution_count": 201,
   "metadata": {
    "id": "p-HrMopaIy8j"
   },
   "outputs": [
    {
     "data": {
      "text/plain": [
       "3             Iceland\n",
       "4         Switzerland\n",
       "6              Canada\n",
       "8              Sweden\n",
       "9           Australia\n",
       "15            Belgium\n",
       "16         Luxembourg\n",
       "22             France\n",
       "33          Singapore\n",
       "35              Spain\n",
       "46              Italy\n",
       "53              Japan\n",
       "56        South Korea\n",
       "57    Northern Cyprus\n",
       "60             Cyprus\n",
       "75          Hong Kong\n",
       "Name: Country or region, dtype: object"
      ]
     },
     "execution_count": 201,
     "metadata": {},
     "output_type": "execute_result"
    }
   ],
   "source": [
    "#6\n",
    "# Calculate the 90th percentile value for Healthy Life Expectancy\n",
    "value = df[\"Healthy life expectancy\"].quantile(0.90)\n",
    "\n",
    "# Create a new DataFrame with countries in the top 10% of Healthy Life Expectancy\n",
    "new_df = df.loc[df[\"Healthy life expectancy\"] >= value]\n",
    "\n",
    "# Display the new DataFrame\n",
    "new_df[\"Country or region\"]"
   ]
  },
  {
   "cell_type": "code",
   "execution_count": 202,
   "metadata": {
    "id": "C3TofhTGIy53"
   },
   "outputs": [
    {
     "data": {
      "text/plain": [
       "0          Finland\n",
       "1           Norway\n",
       "2          Denmark\n",
       "3          Iceland\n",
       "4      Switzerland\n",
       "          ...     \n",
       "150         Rwanda\n",
       "151          Yemen\n",
       "152       Tanzania\n",
       "153    South Sudan\n",
       "155        Burundi\n",
       "Name: Country or region, Length: 155, dtype: object"
      ]
     },
     "execution_count": 202,
     "metadata": {},
     "output_type": "execute_result"
    }
   ],
   "source": [
    "#7\n",
    "#Create a new DataFrame with the entries where the generosity value is less than the social support value.\n",
    "new_df = df.loc[df[\"Generosity\"] < df[\"Social support\"]]\n",
    "\n",
    "# Display the new DataFrame\n",
    "new_df[\"Country or region\"]"
   ]
  },
  {
   "cell_type": "code",
   "execution_count": 203,
   "metadata": {},
   "outputs": [
    {
     "name": "stdout",
     "output_type": "stream",
     "text": [
      "5.390709677419355\n"
     ]
    }
   ],
   "source": [
    "# # Display the  average of the score values in the new DataFrame\n",
    "average = new_df[\"Score\"].mean()\n",
    "print(average)"
   ]
  },
  {
   "cell_type": "code",
   "execution_count": 204,
   "metadata": {
    "id": "aErDzpSVIy3Q"
   },
   "outputs": [
    {
     "name": "stdout",
     "output_type": "stream",
     "text": [
      "78\n"
     ]
    }
   ],
   "source": [
    "#8\n",
    "# Calculate the median happiness score\n",
    "medianScore = df[\"Score\"].median()\n",
    "\n",
    "# Create a new DataFrame with countries having a score less than the median score\n",
    "new_df = df.loc[df[\"Score\"] < medianScore]\n",
    "\n",
    "# Display the number of countries in the new DataFrame\n",
    "print(len(new_df))"
   ]
  },
  {
   "cell_type": "code",
   "execution_count": 205,
   "metadata": {},
   "outputs": [
    {
     "data": {
      "text/html": [
       "<div>\n",
       "<style scoped>\n",
       "    .dataframe tbody tr th:only-of-type {\n",
       "        vertical-align: middle;\n",
       "    }\n",
       "\n",
       "    .dataframe tbody tr th {\n",
       "        vertical-align: top;\n",
       "    }\n",
       "\n",
       "    .dataframe thead th {\n",
       "        text-align: right;\n",
       "    }\n",
       "</style>\n",
       "<table border=\"1\" class=\"dataframe\">\n",
       "  <thead>\n",
       "    <tr style=\"text-align: right;\">\n",
       "      <th></th>\n",
       "      <th>Overall rank</th>\n",
       "      <th>Score</th>\n",
       "      <th>GDP per capita</th>\n",
       "      <th>Social support</th>\n",
       "      <th>Healthy life expectancy</th>\n",
       "      <th>Freedom to make life choices</th>\n",
       "      <th>Generosity</th>\n",
       "      <th>Perceptions of corruption</th>\n",
       "    </tr>\n",
       "  </thead>\n",
       "  <tbody>\n",
       "    <tr>\n",
       "      <th>count</th>\n",
       "      <td>78.000000</td>\n",
       "      <td>78.000000</td>\n",
       "      <td>78.000000</td>\n",
       "      <td>78.000000</td>\n",
       "      <td>78.000000</td>\n",
       "      <td>78.000000</td>\n",
       "      <td>78.000000</td>\n",
       "      <td>78.000000</td>\n",
       "    </tr>\n",
       "    <tr>\n",
       "      <th>mean</th>\n",
       "      <td>117.500000</td>\n",
       "      <td>4.449321</td>\n",
       "      <td>0.621256</td>\n",
       "      <td>1.019423</td>\n",
       "      <td>0.432962</td>\n",
       "      <td>0.386885</td>\n",
       "      <td>0.176705</td>\n",
       "      <td>0.088295</td>\n",
       "    </tr>\n",
       "    <tr>\n",
       "      <th>std</th>\n",
       "      <td>22.660538</td>\n",
       "      <td>0.623645</td>\n",
       "      <td>0.308177</td>\n",
       "      <td>0.288077</td>\n",
       "      <td>0.221797</td>\n",
       "      <td>0.169637</td>\n",
       "      <td>0.105170</td>\n",
       "      <td>0.064311</td>\n",
       "    </tr>\n",
       "    <tr>\n",
       "      <th>min</th>\n",
       "      <td>79.000000</td>\n",
       "      <td>2.905000</td>\n",
       "      <td>0.000000</td>\n",
       "      <td>0.000000</td>\n",
       "      <td>0.000000</td>\n",
       "      <td>0.000000</td>\n",
       "      <td>0.000000</td>\n",
       "      <td>0.000000</td>\n",
       "    </tr>\n",
       "    <tr>\n",
       "      <th>25%</th>\n",
       "      <td>98.250000</td>\n",
       "      <td>4.139500</td>\n",
       "      <td>0.357250</td>\n",
       "      <td>0.860250</td>\n",
       "      <td>0.254250</td>\n",
       "      <td>0.283000</td>\n",
       "      <td>0.112250</td>\n",
       "      <td>0.052000</td>\n",
       "    </tr>\n",
       "    <tr>\n",
       "      <th>50%</th>\n",
       "      <td>117.500000</td>\n",
       "      <td>4.451500</td>\n",
       "      <td>0.623500</td>\n",
       "      <td>1.083000</td>\n",
       "      <td>0.423000</td>\n",
       "      <td>0.419000</td>\n",
       "      <td>0.174000</td>\n",
       "      <td>0.077500</td>\n",
       "    </tr>\n",
       "    <tr>\n",
       "      <th>75%</th>\n",
       "      <td>136.750000</td>\n",
       "      <td>4.980250</td>\n",
       "      <td>0.910500</td>\n",
       "      <td>1.215000</td>\n",
       "      <td>0.612750</td>\n",
       "      <td>0.515500</td>\n",
       "      <td>0.219500</td>\n",
       "      <td>0.105500</td>\n",
       "    </tr>\n",
       "    <tr>\n",
       "      <th>max</th>\n",
       "      <td>156.000000</td>\n",
       "      <td>5.358000</td>\n",
       "      <td>1.154000</td>\n",
       "      <td>1.517000</td>\n",
       "      <td>0.879000</td>\n",
       "      <td>0.696000</td>\n",
       "      <td>0.598000</td>\n",
       "      <td>0.444000</td>\n",
       "    </tr>\n",
       "  </tbody>\n",
       "</table>\n",
       "</div>"
      ],
      "text/plain": [
       "       Overall rank      Score  GDP per capita  Social support  \\\n",
       "count     78.000000  78.000000       78.000000       78.000000   \n",
       "mean     117.500000   4.449321        0.621256        1.019423   \n",
       "std       22.660538   0.623645        0.308177        0.288077   \n",
       "min       79.000000   2.905000        0.000000        0.000000   \n",
       "25%       98.250000   4.139500        0.357250        0.860250   \n",
       "50%      117.500000   4.451500        0.623500        1.083000   \n",
       "75%      136.750000   4.980250        0.910500        1.215000   \n",
       "max      156.000000   5.358000        1.154000        1.517000   \n",
       "\n",
       "       Healthy life expectancy  Freedom to make life choices  Generosity  \\\n",
       "count                78.000000                     78.000000   78.000000   \n",
       "mean                  0.432962                      0.386885    0.176705   \n",
       "std                   0.221797                      0.169637    0.105170   \n",
       "min                   0.000000                      0.000000    0.000000   \n",
       "25%                   0.254250                      0.283000    0.112250   \n",
       "50%                   0.423000                      0.419000    0.174000   \n",
       "75%                   0.612750                      0.515500    0.219500   \n",
       "max                   0.879000                      0.696000    0.598000   \n",
       "\n",
       "       Perceptions of corruption  \n",
       "count                  78.000000  \n",
       "mean                    0.088295  \n",
       "std                     0.064311  \n",
       "min                     0.000000  \n",
       "25%                     0.052000  \n",
       "50%                     0.077500  \n",
       "75%                     0.105500  \n",
       "max                     0.444000  "
      ]
     },
     "execution_count": 205,
     "metadata": {},
     "output_type": "execute_result"
    }
   ],
   "source": [
    "# Display the common characteristics of countries with a Happiness Score below the median\n",
    "new_df.describe()"
   ]
  },
  {
   "cell_type": "code",
   "execution_count": 206,
   "metadata": {
    "id": "1veiAlVaIy05"
   },
   "outputs": [
    {
     "name": "stdout",
     "output_type": "stream",
     "text": [
      "47\n"
     ]
    }
   ],
   "source": [
    "#9Filter countries where both Freedom to Make Life Choices and Healthy Life Expectancy are above the global median. How many such countries are there? \n",
    "# Calculate the median for Freedom to Make Life Choices and Healthy Life Expectancy\n",
    "freedomMedian = df[\"Freedom to make life choices\"].median()\n",
    "healtyMedian = df [\"Healthy life expectancy\"].median()\n",
    "\n",
    "# Filter the DataFrame for countries where both metrics are above the global median\n",
    "new_df = df.loc[(df[\"Freedom to make life choices\"] > freedomMedian) & (df [\"Healthy life expectancy\"] > healtyMedian)]\n",
    "\n",
    "# Display the number of countries that meet the criteria\n",
    "print(len(new_df))"
   ]
  },
  {
   "cell_type": "markdown",
   "metadata": {
    "id": "BPt91yizJhpJ"
   },
   "source": [
    "# **PART- 2**\n",
    "\n",
    "**Set of Questions on the passenger_demographics.csv and passenger_survival.csv** **(25 Pts)**\n",
    "\n",
    "**Dataset Path: \"Data/passenger_demographics.csv\" and \"Data/passenger_survival.csv\"**"
   ]
  },
  {
   "cell_type": "markdown",
   "metadata": {
    "id": "OX2D4qaNT3na"
   },
   "source": [
    "# Q1. Data Merging and Consistency Checking\n",
    "\n",
    "\n",
    "1. Merge the datasets on PassengerId into a single DataFrame. How many rows are there in the merged dataset? **(3 Pts)**\n",
    "2. Perform a consistency check for duplicated rows. After merging, check for any duplicated rows in the merged dataset and provide a summary of your findings. Provide the details (average, mean, etc.) of each feature in the merged DataFrame. **(3 Pts)**\n",
    "3. Determine the survival rate for each passenger class and gender. Analyze how the survival rate varies among different classes (Pclass) and genders. **(3 Pts)**\n",
    "4. Analyze the effect of age on survival probability. Determine whether age significantly affects the probability of survival. Use statistical techniques to explore this relationship.(use binning) **(4 Pts)**\n",
    "5. Investigate the impact of family size on survival. Determine if family size (based on the number of siblings/spouses and parents/children aboard) has any correlation with survival. **(4 Pts)**\n",
    "6. Determine the most common embarkation point among survivors. Find out which embarkation point (C, Q, or S) had the highest survival rate. **(4 Pts)**\n",
    "7. Evaluate the correlation between Fare and Survival. Determine if there is a correlation between the fare paid and the survival status of the passengers. **(4 Pts)**"
   ]
  },
  {
   "cell_type": "code",
   "execution_count": 207,
   "metadata": {},
   "outputs": [],
   "source": [
    "df1 = pd.read_csv(\"Data/passenger_demographics.csv\") # Load the passenger demographics dataset from the specified CSV file into a DataFrame"
   ]
  },
  {
   "cell_type": "code",
   "execution_count": 208,
   "metadata": {},
   "outputs": [],
   "source": [
    "df2 = pd.read_csv(\"Data/passenger_survival.csv\") # Load the passenger survival dataset from the specified CSV file into a DataFrame"
   ]
  },
  {
   "cell_type": "code",
   "execution_count": 209,
   "metadata": {
    "id": "Lhe7YtGBYtjD"
   },
   "outputs": [
    {
     "data": {
      "text/plain": [
       "891"
      ]
     },
     "execution_count": 209,
     "metadata": {},
     "output_type": "execute_result"
    }
   ],
   "source": [
    "#1 \n",
    "# Merge the two DataFrames on 'PassengerId' using an outer join\n",
    "merged_df  = pd.merge(df1, df2, on='PassengerId', how='outer')\n",
    "\n",
    "# Display the number of rows in the merged DataFrame\n",
    "merged_df.shape[0]"
   ]
  },
  {
   "cell_type": "code",
   "execution_count": 210,
   "metadata": {},
   "outputs": [
    {
     "name": "stdout",
     "output_type": "stream",
     "text": [
      "Empty DataFrame\n",
      "Columns: [PassengerId, Pclass, Sex, Age, SibSp, Parch, Survived, Fare, Embarked]\n",
      "Index: []\n"
     ]
    }
   ],
   "source": [
    "#2\n",
    "# Display the duplicate rows in the merged DataFrame\n",
    "print(merged_df[merged_df.duplicated()]) "
   ]
  },
  {
   "cell_type": "code",
   "execution_count": 211,
   "metadata": {},
   "outputs": [
    {
     "data": {
      "text/html": [
       "<div>\n",
       "<style scoped>\n",
       "    .dataframe tbody tr th:only-of-type {\n",
       "        vertical-align: middle;\n",
       "    }\n",
       "\n",
       "    .dataframe tbody tr th {\n",
       "        vertical-align: top;\n",
       "    }\n",
       "\n",
       "    .dataframe thead th {\n",
       "        text-align: right;\n",
       "    }\n",
       "</style>\n",
       "<table border=\"1\" class=\"dataframe\">\n",
       "  <thead>\n",
       "    <tr style=\"text-align: right;\">\n",
       "      <th></th>\n",
       "      <th>PassengerId</th>\n",
       "      <th>Pclass</th>\n",
       "      <th>Age</th>\n",
       "      <th>SibSp</th>\n",
       "      <th>Parch</th>\n",
       "      <th>Survived</th>\n",
       "      <th>Fare</th>\n",
       "    </tr>\n",
       "  </thead>\n",
       "  <tbody>\n",
       "    <tr>\n",
       "      <th>count</th>\n",
       "      <td>891.000000</td>\n",
       "      <td>891.000000</td>\n",
       "      <td>714.000000</td>\n",
       "      <td>891.000000</td>\n",
       "      <td>891.000000</td>\n",
       "      <td>891.000000</td>\n",
       "      <td>891.000000</td>\n",
       "    </tr>\n",
       "    <tr>\n",
       "      <th>mean</th>\n",
       "      <td>446.000000</td>\n",
       "      <td>2.308642</td>\n",
       "      <td>29.699118</td>\n",
       "      <td>0.523008</td>\n",
       "      <td>0.381594</td>\n",
       "      <td>0.383838</td>\n",
       "      <td>32.204208</td>\n",
       "    </tr>\n",
       "    <tr>\n",
       "      <th>std</th>\n",
       "      <td>257.353842</td>\n",
       "      <td>0.836071</td>\n",
       "      <td>14.526497</td>\n",
       "      <td>1.102743</td>\n",
       "      <td>0.806057</td>\n",
       "      <td>0.486592</td>\n",
       "      <td>49.693429</td>\n",
       "    </tr>\n",
       "    <tr>\n",
       "      <th>min</th>\n",
       "      <td>1.000000</td>\n",
       "      <td>1.000000</td>\n",
       "      <td>0.420000</td>\n",
       "      <td>0.000000</td>\n",
       "      <td>0.000000</td>\n",
       "      <td>0.000000</td>\n",
       "      <td>0.000000</td>\n",
       "    </tr>\n",
       "    <tr>\n",
       "      <th>25%</th>\n",
       "      <td>223.500000</td>\n",
       "      <td>2.000000</td>\n",
       "      <td>20.125000</td>\n",
       "      <td>0.000000</td>\n",
       "      <td>0.000000</td>\n",
       "      <td>0.000000</td>\n",
       "      <td>7.910400</td>\n",
       "    </tr>\n",
       "    <tr>\n",
       "      <th>50%</th>\n",
       "      <td>446.000000</td>\n",
       "      <td>3.000000</td>\n",
       "      <td>28.000000</td>\n",
       "      <td>0.000000</td>\n",
       "      <td>0.000000</td>\n",
       "      <td>0.000000</td>\n",
       "      <td>14.454200</td>\n",
       "    </tr>\n",
       "    <tr>\n",
       "      <th>75%</th>\n",
       "      <td>668.500000</td>\n",
       "      <td>3.000000</td>\n",
       "      <td>38.000000</td>\n",
       "      <td>1.000000</td>\n",
       "      <td>0.000000</td>\n",
       "      <td>1.000000</td>\n",
       "      <td>31.000000</td>\n",
       "    </tr>\n",
       "    <tr>\n",
       "      <th>max</th>\n",
       "      <td>891.000000</td>\n",
       "      <td>3.000000</td>\n",
       "      <td>80.000000</td>\n",
       "      <td>8.000000</td>\n",
       "      <td>6.000000</td>\n",
       "      <td>1.000000</td>\n",
       "      <td>512.329200</td>\n",
       "    </tr>\n",
       "  </tbody>\n",
       "</table>\n",
       "</div>"
      ],
      "text/plain": [
       "       PassengerId      Pclass         Age       SibSp       Parch  \\\n",
       "count   891.000000  891.000000  714.000000  891.000000  891.000000   \n",
       "mean    446.000000    2.308642   29.699118    0.523008    0.381594   \n",
       "std     257.353842    0.836071   14.526497    1.102743    0.806057   \n",
       "min       1.000000    1.000000    0.420000    0.000000    0.000000   \n",
       "25%     223.500000    2.000000   20.125000    0.000000    0.000000   \n",
       "50%     446.000000    3.000000   28.000000    0.000000    0.000000   \n",
       "75%     668.500000    3.000000   38.000000    1.000000    0.000000   \n",
       "max     891.000000    3.000000   80.000000    8.000000    6.000000   \n",
       "\n",
       "         Survived        Fare  \n",
       "count  891.000000  891.000000  \n",
       "mean     0.383838   32.204208  \n",
       "std      0.486592   49.693429  \n",
       "min      0.000000    0.000000  \n",
       "25%      0.000000    7.910400  \n",
       "50%      0.000000   14.454200  \n",
       "75%      1.000000   31.000000  \n",
       "max      1.000000  512.329200  "
      ]
     },
     "execution_count": 211,
     "metadata": {},
     "output_type": "execute_result"
    }
   ],
   "source": [
    "# Provides summary statistics for the numeric columns in the merged DataFrame\n",
    "merged_df.describe()"
   ]
  },
  {
   "cell_type": "code",
   "execution_count": 212,
   "metadata": {
    "id": "vHLFSeDKYuVG"
   },
   "outputs": [
    {
     "name": "stdout",
     "output_type": "stream",
     "text": [
      "Pclass\n",
      "1    0.629630\n",
      "2    0.472826\n",
      "3    0.242363\n",
      "Name: Survived, dtype: float64\n"
     ]
    }
   ],
   "source": [
    "#3\n",
    "# Calculate and display the mean survival rate grouped by passenger class (Pclass)\n",
    "print(merged_df.groupby('Pclass')['Survived'].mean())"
   ]
  },
  {
   "cell_type": "markdown",
   "metadata": {},
   "source": [
    "When the data is analyzed, the survival rate is highest in the 1st passenger class and lowest in the 3rd passenger class."
   ]
  },
  {
   "cell_type": "code",
   "execution_count": 213,
   "metadata": {},
   "outputs": [
    {
     "name": "stdout",
     "output_type": "stream",
     "text": [
      "Sex\n",
      "female    0.742038\n",
      "male      0.188908\n",
      "Name: Survived, dtype: float64\n"
     ]
    }
   ],
   "source": [
    "# Calculate and display the mean survival rate grouped by gender\n",
    "print(merged_df.groupby('Sex')['Survived'].mean())"
   ]
  },
  {
   "cell_type": "markdown",
   "metadata": {},
   "source": [
    "When the data is analyzed, the survival rate of females is higher compared to males."
   ]
  },
  {
   "cell_type": "code",
   "execution_count": 214,
   "metadata": {
    "id": "3nrS1BgFYuQJ"
   },
   "outputs": [
    {
     "name": "stdout",
     "output_type": "stream",
     "text": [
      "80.0\n"
     ]
    }
   ],
   "source": [
    "#4\n",
    "print(merged_df['Age'].max()) # Calculate the maximum age to segment the ranges."
   ]
  },
  {
   "cell_type": "code",
   "execution_count": 273,
   "metadata": {},
   "outputs": [
    {
     "name": "stdout",
     "output_type": "stream",
     "text": [
      "AgeInterval\n",
      "0-10     0.593750\n",
      "11-20    0.382609\n",
      "21-30    0.365217\n",
      "31-40    0.445161\n",
      "41-50    0.383721\n",
      "51-60    0.404762\n",
      "61-70    0.235294\n",
      "71-80    0.200000\n",
      "Name: Survived, dtype: float64\n"
     ]
    },
    {
     "name": "stderr",
     "output_type": "stream",
     "text": [
      "C:\\Users\\fatma\\AppData\\Local\\Temp\\ipykernel_9612\\1838202679.py:10: FutureWarning: The default of observed=False is deprecated and will be changed to True in a future version of pandas. Pass observed=False to retain current behavior or observed=True to adopt the future default and silence this warning.\n",
      "  print(merged_df.groupby('AgeInterval')['Survived'].mean())\n"
     ]
    }
   ],
   "source": [
    "# Define bins and labels for age intervals\n",
    "bins = [0,10,20,30,40,50,60,70,80]\n",
    "labels = ['0-10', '11-20','21-30','31-40','41-50','51-60','61-70','71-80']\n",
    "\n",
    "# Create a new column 'AgeInterval' in the merged DataFrame to categorize ages into defined intervals\n",
    "merged_df['AgeInterval'] = pd.cut(merged_df['Age'], bins= bins, labels=labels)\n",
    "\n",
    "# Calculate and display the mean survival rate for each age interval\n",
    "\n",
    "print(merged_df.groupby('AgeInterval')['Survived'].mean())"
   ]
  },
  {
   "cell_type": "code",
   "execution_count": 216,
   "metadata": {
    "id": "xlco8hajYuIX"
   },
   "outputs": [
    {
     "data": {
      "text/plain": [
       "FamilySize\n",
       "1     0.303538\n",
       "2     0.552795\n",
       "3     0.578431\n",
       "4     0.724138\n",
       "5     0.200000\n",
       "6     0.136364\n",
       "7     0.333333\n",
       "8     0.000000\n",
       "11    0.000000\n",
       "Name: Survived, dtype: float64"
      ]
     },
     "execution_count": 216,
     "metadata": {},
     "output_type": "execute_result"
    }
   ],
   "source": [
    "#5\n",
    "# Calculate the family size by adding the number of siblings/spouses (SibSp) and parents/children (Parch) and adding 1 (the individual themselves)\n",
    "merged_df['FamilySize'] = merged_df['SibSp'] + merged_df['Parch'] + 1 #\n",
    "\n",
    "#Calculate the average of the survived values based on FamilySize.\n",
    "merged_df.groupby('FamilySize')['Survived'].mean()"
   ]
  },
  {
   "cell_type": "markdown",
   "metadata": {},
   "source": [
    "When the data is examined, it is observed that smaller family sizes are associated with higher survival rates, while larger family sizes are linked to significantly lower survival rates."
   ]
  },
  {
   "cell_type": "code",
   "execution_count": 217,
   "metadata": {
    "id": "RdPyq5mFYuCT"
   },
   "outputs": [
    {
     "name": "stdout",
     "output_type": "stream",
     "text": [
      "S\n"
     ]
    }
   ],
   "source": [
    "#6\n",
    "#Create a new DataFrame by selecting the survivors.\n",
    "survivors_df = merged_df.loc[merged_df['Survived'] == 1]\n",
    "\n",
    "#Calculate how many of each embarked number there are.\n",
    "embarked_numbers = survivors_df['Embarked'].value_counts()\n",
    "\n",
    "#Print the embarkation point with the highest embarked number.\n",
    "print(embarked_numbers.idxmax())"
   ]
  },
  {
   "cell_type": "code",
   "execution_count": 218,
   "metadata": {
    "id": "vH_UEV-QYt5x"
   },
   "outputs": [
    {
     "name": "stderr",
     "output_type": "stream",
     "text": [
      "C:\\Users\\fatma\\AppData\\Local\\Temp\\ipykernel_9612\\1114208077.py:6: FutureWarning: The default of observed=False is deprecated and will be changed to True in a future version of pandas. Pass observed=False to retain current behavior or observed=True to adopt the future default and silence this warning.\n",
      "  average_survival = merged_df.groupby('FareInterval')['Survived'].mean()\n"
     ]
    },
    {
     "data": {
      "text/plain": [
       "FareInterval\n",
       "0-50       0.324022\n",
       "51-100     0.654206\n",
       "101-150    0.791667\n",
       "151-200    0.666667\n",
       "201-300    0.647059\n",
       "301+       1.000000\n",
       "Name: Survived, dtype: float64"
      ]
     },
     "execution_count": 218,
     "metadata": {},
     "output_type": "execute_result"
    }
   ],
   "source": [
    "#7\n",
    "#To evaluate the correlation between Fare and Survived, it shows the average survival rates for specific fare ranges.\n",
    "bins = [0, 50, 100, 150, 200, 300, 512.33]  \n",
    "labels = ['0-50', '51-100', '101-150', '151-200', '201-300', '301+']\n",
    "merged_df['FareInterval'] = pd.cut(merged_df['Fare'], bins= bins, labels=labels)\n",
    "average_survival = merged_df.groupby('FareInterval')['Survived'].mean()\n",
    "average_survival"
   ]
  },
  {
   "cell_type": "markdown",
   "metadata": {},
   "source": [
    "When the data is evaluated, passengers who paid higher fares generally have a higher survival rate."
   ]
  },
  {
   "cell_type": "code",
   "execution_count": 219,
   "metadata": {
    "scrolled": true
   },
   "outputs": [
    {
     "name": "stdout",
     "output_type": "stream",
     "text": [
      "              Fare  Survived\n",
      "Fare      1.000000  0.257307\n",
      "Survived  0.257307  1.000000\n"
     ]
    }
   ],
   "source": [
    "print(merged_df[['Fare', 'Survived']].corr()) # Calculate and display the correlation between Fare and Survived"
   ]
  },
  {
   "cell_type": "markdown",
   "metadata": {},
   "source": [
    "The value of 0.257307 is close to 0, indicating a weak positive relationship between Fare and Survived."
   ]
  },
  {
   "cell_type": "markdown",
   "metadata": {
    "id": "_3suDJgQZm01"
   },
   "source": [
    "# **PART- 3**\n",
    "\n",
    "**Set of Questions on SQL - using sqlite3 library!**\n",
    "\n",
    "**Dataset Path: \"Data/supermarket_sales.csv\"**"
   ]
  },
  {
   "cell_type": "markdown",
   "metadata": {
    "id": "DOZouTkQh-aa"
   },
   "source": [
    "\n",
    "The Supermarket Sales Dataset is a comprehensive dataset designed to provide insights into the sales performance of a supermarket.\n",
    "\n",
    "We want to store this data in a relational database, with the following table schemas:"
   ]
  },
  {
   "cell_type": "markdown",
   "metadata": {
    "id": "8g3KN0RagrO4"
   },
   "source": [
    "# Tables\n",
    "\n",
    "## 1. Branches Table\n",
    "\n",
    "| Column   | Type  | Key      | Description                              |\n",
    "|----------|-------|----------|------------------------------------------|\n",
    "| BranchID | INTEGER  | PRIMARY  | Unique identifier for each branch        |\n",
    "| Branch | TEXT  |            |    Name of the supermarket branch        |\n",
    "| City     | TEXT  |          | City where the branch is located         |\n",
    "\n",
    "\n",
    "\n",
    "## 2. Products Table\n",
    "\n",
    "| Column      | Type  | Key      | Description                               |\n",
    "|-------------|-------|----------|-------------------------------------------|\n",
    "| ProductID | INTEGER  | PRIMARY  | Unique identifier for each product line   |\n",
    "| ProductLine | TEXT  |          | Category of the product |\n",
    "\n",
    "\n",
    "\n",
    "## 3. Orders Table\n",
    "\n",
    "| Column        | Type  | Key      | Description                                    |\n",
    "|---------------|-------|----------|------------------------------------------------|\n",
    "| OrderID       | TEXT  | PRIMARY  | Unique identifier for each order               |\n",
    "| BranchID      | INTEGER  |   FK       | Identifier for the branch of the order    |\n",
    "| ProductID   | INTEGER  |      FK    | Identifier linking to Products table ordered                      |\n",
    "| Quantity      | INTEGER |        | Number of units ordered                        |\n",
    "| UnitPrice   | REAL  |          | Price per unit of the product             |Total         | REAL  |          | Total sales value for the order               |\n",
    "| OrderDate     | TEXT  |          | Date when the order was placed                |\n",
    "| PaymentMethod | TEXT  |          | Method used for payment                       |\n",
    "| CustomerType  | TEXT  |          | Type of customer (e.g., Member, Normal)     |\n",
    "| Gender        | TEXT  |          | Gender of the customer                        |\n",
    "\n"
   ]
  },
  {
   "cell_type": "markdown",
   "metadata": {
    "id": "nWvMCCPLi2W0"
   },
   "source": [
    "Summary of Table Structures\n",
    "\n",
    "* Branches Table contains information about different supermarket branches.\n",
    "\n",
    "* Products Table details the various products available for purchase.\n",
    "* Orders Table records the transactions made, linking products and branches to specific purchases.\n"
   ]
  },
  {
   "cell_type": "markdown",
   "metadata": {
    "id": "jqFWg0pzhL9L"
   },
   "source": [
    "# **Questions** **(35 Pts)**\n",
    "\n",
    "1. Read the csv file and create this DB **(10 Pts)**\n",
    "2. Write a query to find the top 3 product lines with the highest total quantity sold, using a LIMIT statement. **(4 Pts)**\n",
    "3. Find the total revenue generated for each branch by product line **(4 Pts)**\n",
    "4. Find the total sales for each branch **(3 Pts)**\n",
    "5. Determine the number of orders placed by each gender **(3 Pts)**\n",
    "6. List the product lines sold in each branch and the number of orders **(4 Pts)**\n",
    "7. Find the highest quantity sold for a single order and the corresponding product line **(4 Pts)**\n",
    "8. Check for duplicated invoices **(3 Pts)**\n"
   ]
  },
  {
   "cell_type": "code",
   "execution_count": 220,
   "metadata": {
    "id": "4Z4tAiQHlqnF"
   },
   "outputs": [],
   "source": [
    "#1\n",
    "df = pd.read_csv('Data/supermarket_sales.csv') # Read the Data/supermarket_sales.csv file"
   ]
  },
  {
   "cell_type": "code",
   "execution_count": 221,
   "metadata": {},
   "outputs": [],
   "source": [
    "conn = sql.connect('sales.db') # Connect to the SQLite database named 'sales.db'"
   ]
  },
  {
   "cell_type": "code",
   "execution_count": 222,
   "metadata": {},
   "outputs": [],
   "source": [
    "cursor = conn.cursor() # Create a cursor object to interact with the database"
   ]
  },
  {
   "cell_type": "code",
   "execution_count": 223,
   "metadata": {},
   "outputs": [],
   "source": [
    "# Branches tablosunu sil\n",
    "cursor.execute('DROP TABLE IF EXISTS BRANCHES')\n",
    "conn.commit()\n",
    "\n",
    "# Products tablosunu sil\n",
    "cursor.execute('DROP TABLE IF EXISTS PRODUCTS')\n",
    "conn.commit()\n",
    "\n",
    "# Orders tablosunu sil\n",
    "cursor.execute('DROP TABLE IF EXISTS ORDERS')\n",
    "conn.commit()\n",
    "\n",
    "# Diğer tabloları da silmek istersen, benzer şekilde devam edebilirsin:\n",
    "# cursor.execute('DROP TABLE IF EXISTS TABLENAME')\n"
   ]
  },
  {
   "cell_type": "code",
   "execution_count": 224,
   "metadata": {},
   "outputs": [
    {
     "data": {
      "text/plain": [
       "<sqlite3.Cursor at 0x2abb5589640>"
      ]
     },
     "execution_count": 224,
     "metadata": {},
     "output_type": "execute_result"
    }
   ],
   "source": [
    "# Create a table named 'BRANCHES' if it does not already exist, with BranchID as the primary key starting from 1 and set to autoincrement.\n",
    "cursor.execute('''\n",
    "CREATE TABLE IF NOT EXISTS BRANCHES ( \n",
    "    BranchID INTEGER PRIMARY KEY AUTOINCREMENT,\n",
    "    Branch TEXT,\n",
    "    City TEXT\n",
    ")\n",
    "''') "
   ]
  },
  {
   "cell_type": "code",
   "execution_count": 225,
   "metadata": {},
   "outputs": [
    {
     "data": {
      "text/plain": [
       "<sqlite3.Cursor at 0x2abb5589640>"
      ]
     },
     "execution_count": 225,
     "metadata": {},
     "output_type": "execute_result"
    }
   ],
   "source": [
    "# Create a table named 'PRODUCTS' if it does not already exist, with ProductID as the primary key\n",
    "cursor.execute('''CREATE TABLE IF NOT EXISTS PRODUCTS (\n",
    "    ProductID INTEGER PRIMARY KEY,\n",
    "    ProductLine TEXT\n",
    ")''')"
   ]
  },
  {
   "cell_type": "code",
   "execution_count": 226,
   "metadata": {},
   "outputs": [
    {
     "data": {
      "text/plain": [
       "<sqlite3.Cursor at 0x2abb5589640>"
      ]
     },
     "execution_count": 226,
     "metadata": {},
     "output_type": "execute_result"
    }
   ],
   "source": [
    "## Create a table named 'ORDERS' if it does not already exist, with OrderID as the primary key\n",
    "# BranchID and ProductID are foreign keys referencing the BRANCHES and PRODUCTS tables, respectively.\n",
    "cursor.execute('''\n",
    "CREATE TABLE IF NOT EXISTS ORDERS (\n",
    "    OrderID TEXT PRIMARY KEY,\n",
    "    BranchID INTEGER,\n",
    "    ProductID INTEGER,\n",
    "    Quantity INTEGER,\n",
    "    UnitPrice REAL,\n",
    "    OrderDate TEXT,\n",
    "    PaymentMethod TEXT,\n",
    "    CustomerType TEXT,\n",
    "    Gender TEXT,\n",
    "    FOREIGN KEY (BranchID) REFERENCES BRANCHES (BranchID),\n",
    "    FOREIGN KEY (ProductID) REFERENCES PRODUCTS (ProductID)\n",
    ")\n",
    "''')"
   ]
  },
  {
   "cell_type": "code",
   "execution_count": 227,
   "metadata": {},
   "outputs": [
    {
     "data": {
      "text/plain": [
       "3"
      ]
     },
     "execution_count": 227,
     "metadata": {},
     "output_type": "execute_result"
    }
   ],
   "source": [
    "# Extract unique branches and cities from the DataFrame and store them in a new DataFrame\n",
    "branches_df = df[['Branch', 'City']].drop_duplicates() \n",
    "\n",
    "# Then, append the unique values to the 'BRANCHES' table in the database.\n",
    "branches_df.to_sql('BRANCHES', conn, if_exists='append', index=False)"
   ]
  },
  {
   "cell_type": "code",
   "execution_count": 228,
   "metadata": {},
   "outputs": [
    {
     "data": {
      "text/plain": [
       "6"
      ]
     },
     "execution_count": 228,
     "metadata": {},
     "output_type": "execute_result"
    }
   ],
   "source": [
    "# Rename the column 'Product line' to 'ProductLine' for consistency\n",
    "df.rename(columns={'Product line': 'ProductLine'}, inplace=True) \n",
    "\n",
    "# Then, extract unique product lines from the DataFrame and store them in a new DataFrame\n",
    "products_df = df[['ProductLine']].drop_duplicates()\n",
    "\n",
    "# Append the unique product lines to the 'PRODUCTS' table in the database.\n",
    "products_df.to_sql('PRODUCTS', conn, if_exists='append', index=False)"
   ]
  },
  {
   "cell_type": "code",
   "execution_count": 229,
   "metadata": {},
   "outputs": [],
   "source": [
    "# Rename the columns for consistency\n",
    "df.rename(columns={'Invoice ID': 'OrderID', 'Unit price': 'UnitPrice', 'Date':'OrderDate', 'Payment':'PaymentMethod', 'Customer type':'CustomerType'}, inplace=True)\n"
   ]
  },
  {
   "cell_type": "code",
   "execution_count": 230,
   "metadata": {},
   "outputs": [
    {
     "data": {
      "text/plain": [
       "1000"
      ]
     },
     "execution_count": 230,
     "metadata": {},
     "output_type": "execute_result"
    }
   ],
   "source": [
    "# Create lists to hold the values forBranchID and ProductID\n",
    "branch_ids = []\n",
    "product_ids = []\n",
    "\n",
    "for index, row in df.iterrows():\n",
    "    # Query the BRANCHES table to get the BranchID for the current row's Branch\n",
    "    cursor.execute(\"SELECT BranchID FROM BRANCHES WHERE Branch = ?\", (row['Branch'],))\n",
    "    branch_id = cursor.fetchone()[0] # Fetch the result\n",
    "    branch_ids.append(branch_id) # Append the BranchID to branch_ids list.\n",
    "\n",
    "    # Query the PRODUCTS table to get the ProductID for the current row's ProductLine\n",
    "    cursor.execute(\"SELECT ProductID FROM PRODUCTS WHERE ProductLine = ?\", (row['ProductLine'],))\n",
    "    product_id = cursor.fetchone()[0] # Fetch the result\n",
    "    product_ids.append(product_id) # Append the ProducthID to product_ids list.\n",
    "\n",
    "# Add the new BranchID and ProductID columns to the DataFrame\n",
    "df['BranchID'] = branch_ids\n",
    "df['ProductID'] = product_ids\n",
    "\n",
    "# Create an orders DataFrame by dropping duplicates for adding to the ORDERS table.\n",
    "orders_df = df[['OrderID', 'BranchID', 'ProductID', 'Quantity', 'UnitPrice', 'OrderDate', 'PaymentMethod', 'CustomerType', 'Gender']].drop_duplicates()\n",
    "\n",
    "# Add the orders_df to the ORDERS table\n",
    "orders_df.to_sql('ORDERS', conn, if_exists='append', index=False)\n"
   ]
  },
  {
   "cell_type": "code",
   "execution_count": 232,
   "metadata": {
    "id": "5V2Ubeyclqjc"
   },
   "outputs": [
    {
     "data": {
      "text/html": [
       "<div>\n",
       "<style scoped>\n",
       "    .dataframe tbody tr th:only-of-type {\n",
       "        vertical-align: middle;\n",
       "    }\n",
       "\n",
       "    .dataframe tbody tr th {\n",
       "        vertical-align: top;\n",
       "    }\n",
       "\n",
       "    .dataframe thead th {\n",
       "        text-align: right;\n",
       "    }\n",
       "</style>\n",
       "<table border=\"1\" class=\"dataframe\">\n",
       "  <thead>\n",
       "    <tr style=\"text-align: right;\">\n",
       "      <th></th>\n",
       "      <th>ProductLine</th>\n",
       "      <th>TotalQuantity</th>\n",
       "    </tr>\n",
       "  </thead>\n",
       "  <tbody>\n",
       "    <tr>\n",
       "      <th>0</th>\n",
       "      <td>Electronic accessories</td>\n",
       "      <td>971</td>\n",
       "    </tr>\n",
       "    <tr>\n",
       "      <th>1</th>\n",
       "      <td>Food and beverages</td>\n",
       "      <td>952</td>\n",
       "    </tr>\n",
       "    <tr>\n",
       "      <th>2</th>\n",
       "      <td>Sports and travel</td>\n",
       "      <td>920</td>\n",
       "    </tr>\n",
       "  </tbody>\n",
       "</table>\n",
       "</div>"
      ],
      "text/plain": [
       "              ProductLine  TotalQuantity\n",
       "0  Electronic accessories            971\n",
       "1      Food and beverages            952\n",
       "2       Sports and travel            920"
      ]
     },
     "execution_count": 232,
     "metadata": {},
     "output_type": "execute_result"
    }
   ],
   "source": [
    "#2\n",
    "\n",
    "# Select the top 3 ProductLines with the highest total quantity sold from the ORDERS table, joining with the PRODUCTS table.\n",
    "cursor.execute('''SELECT ProductLine, SUM(Quantity) AS TotalQuantity\n",
    "FROM ORDERS, PRODUCTS\n",
    "WHERE ORDERS.ProductID = PRODUCTS.ProductID\n",
    "GROUP BY ProductLine\n",
    "ORDER BY TotalQuantity DESC\n",
    "LIMIT 3;\n",
    "''')\n",
    "\n",
    "# Fetch all results from the cursor\n",
    "results = cursor.fetchall()\n",
    "columns = ['ProductLine', 'TotalQuantity']\n",
    "\n",
    "# Create a DataFrame with specified column names\n",
    "df_results = pd.DataFrame(results, columns = columns)\n",
    "\n",
    "df_results"
   ]
  },
  {
   "cell_type": "code",
   "execution_count": 234,
   "metadata": {
    "id": "qUjEH_LvlqfN"
   },
   "outputs": [
    {
     "data": {
      "text/html": [
       "<div>\n",
       "<style scoped>\n",
       "    .dataframe tbody tr th:only-of-type {\n",
       "        vertical-align: middle;\n",
       "    }\n",
       "\n",
       "    .dataframe tbody tr th {\n",
       "        vertical-align: top;\n",
       "    }\n",
       "\n",
       "    .dataframe thead th {\n",
       "        text-align: right;\n",
       "    }\n",
       "</style>\n",
       "<table border=\"1\" class=\"dataframe\">\n",
       "  <thead>\n",
       "    <tr style=\"text-align: right;\">\n",
       "      <th></th>\n",
       "      <th>Branch</th>\n",
       "      <th>ProductLine</th>\n",
       "      <th>TotalRevenue</th>\n",
       "    </tr>\n",
       "  </thead>\n",
       "  <tbody>\n",
       "    <tr>\n",
       "      <th>0</th>\n",
       "      <td>A</td>\n",
       "      <td>Electronic accessories</td>\n",
       "      <td>17444.87</td>\n",
       "    </tr>\n",
       "    <tr>\n",
       "      <th>1</th>\n",
       "      <td>A</td>\n",
       "      <td>Fashion accessories</td>\n",
       "      <td>15554.77</td>\n",
       "    </tr>\n",
       "    <tr>\n",
       "      <th>2</th>\n",
       "      <td>A</td>\n",
       "      <td>Food and beverages</td>\n",
       "      <td>16345.81</td>\n",
       "    </tr>\n",
       "    <tr>\n",
       "      <th>3</th>\n",
       "      <td>A</td>\n",
       "      <td>Health and beauty</td>\n",
       "      <td>11997.86</td>\n",
       "    </tr>\n",
       "    <tr>\n",
       "      <th>4</th>\n",
       "      <td>A</td>\n",
       "      <td>Home and lifestyle</td>\n",
       "      <td>21349.71</td>\n",
       "    </tr>\n",
       "    <tr>\n",
       "      <th>5</th>\n",
       "      <td>A</td>\n",
       "      <td>Sports and travel</td>\n",
       "      <td>18450.19</td>\n",
       "    </tr>\n",
       "    <tr>\n",
       "      <th>6</th>\n",
       "      <td>B</td>\n",
       "      <td>Electronic accessories</td>\n",
       "      <td>16239.47</td>\n",
       "    </tr>\n",
       "    <tr>\n",
       "      <th>7</th>\n",
       "      <td>B</td>\n",
       "      <td>Fashion accessories</td>\n",
       "      <td>15631.73</td>\n",
       "    </tr>\n",
       "    <tr>\n",
       "      <th>8</th>\n",
       "      <td>B</td>\n",
       "      <td>Food and beverages</td>\n",
       "      <td>14490.37</td>\n",
       "    </tr>\n",
       "    <tr>\n",
       "      <th>9</th>\n",
       "      <td>B</td>\n",
       "      <td>Health and beauty</td>\n",
       "      <td>19029.20</td>\n",
       "    </tr>\n",
       "    <tr>\n",
       "      <th>10</th>\n",
       "      <td>B</td>\n",
       "      <td>Home and lifestyle</td>\n",
       "      <td>16713.49</td>\n",
       "    </tr>\n",
       "    <tr>\n",
       "      <th>11</th>\n",
       "      <td>B</td>\n",
       "      <td>Sports and travel</td>\n",
       "      <td>19036.38</td>\n",
       "    </tr>\n",
       "    <tr>\n",
       "      <th>12</th>\n",
       "      <td>C</td>\n",
       "      <td>Electronic accessories</td>\n",
       "      <td>18065.69</td>\n",
       "    </tr>\n",
       "    <tr>\n",
       "      <th>13</th>\n",
       "      <td>C</td>\n",
       "      <td>Fashion accessories</td>\n",
       "      <td>20533.40</td>\n",
       "    </tr>\n",
       "    <tr>\n",
       "      <th>14</th>\n",
       "      <td>C</td>\n",
       "      <td>Food and beverages</td>\n",
       "      <td>22635.10</td>\n",
       "    </tr>\n",
       "    <tr>\n",
       "      <th>15</th>\n",
       "      <td>C</td>\n",
       "      <td>Health and beauty</td>\n",
       "      <td>15824.12</td>\n",
       "    </tr>\n",
       "    <tr>\n",
       "      <th>16</th>\n",
       "      <td>C</td>\n",
       "      <td>Home and lifestyle</td>\n",
       "      <td>13233.86</td>\n",
       "    </tr>\n",
       "    <tr>\n",
       "      <th>17</th>\n",
       "      <td>C</td>\n",
       "      <td>Sports and travel</td>\n",
       "      <td>15011.36</td>\n",
       "    </tr>\n",
       "  </tbody>\n",
       "</table>\n",
       "</div>"
      ],
      "text/plain": [
       "   Branch             ProductLine  TotalRevenue\n",
       "0       A  Electronic accessories      17444.87\n",
       "1       A     Fashion accessories      15554.77\n",
       "2       A      Food and beverages      16345.81\n",
       "3       A       Health and beauty      11997.86\n",
       "4       A      Home and lifestyle      21349.71\n",
       "5       A       Sports and travel      18450.19\n",
       "6       B  Electronic accessories      16239.47\n",
       "7       B     Fashion accessories      15631.73\n",
       "8       B      Food and beverages      14490.37\n",
       "9       B       Health and beauty      19029.20\n",
       "10      B      Home and lifestyle      16713.49\n",
       "11      B       Sports and travel      19036.38\n",
       "12      C  Electronic accessories      18065.69\n",
       "13      C     Fashion accessories      20533.40\n",
       "14      C      Food and beverages      22635.10\n",
       "15      C       Health and beauty      15824.12\n",
       "16      C      Home and lifestyle      13233.86\n",
       "17      C       Sports and travel      15011.36"
      ]
     },
     "execution_count": 234,
     "metadata": {},
     "output_type": "execute_result"
    }
   ],
   "source": [
    "#3\n",
    "# Calculate total revenue per branch and product line\n",
    "cursor.execute('''SELECT BRANCHES.Branch, PRODUCTS.ProductLine, SUM(ORDERS.UnitPrice * ORDERS.Quantity) AS TotalRevenue\n",
    "FROM ORDERS, BRANCHES, PRODUCTS\n",
    "WHERE ORDERS.ProductID = PRODUCTS.ProductID AND ORDERS.BranchID = BRANCHES.BranchID\n",
    "GROUP BY Branch, ProductLine\n",
    "''')\n",
    "\n",
    "# Fetch all results from the cursor\n",
    "results = cursor.fetchall()\n",
    "columns = ['Branch', 'ProductLine', 'TotalRevenue']\n",
    "\n",
    "# Create a DataFrame with specified column names\n",
    "df_results = pd.DataFrame(results, columns = columns)\n",
    "\n",
    "df_results"
   ]
  },
  {
   "cell_type": "code",
   "execution_count": 236,
   "metadata": {
    "id": "aZAzTF7Hlqbi"
   },
   "outputs": [
    {
     "data": {
      "text/html": [
       "<div>\n",
       "<style scoped>\n",
       "    .dataframe tbody tr th:only-of-type {\n",
       "        vertical-align: middle;\n",
       "    }\n",
       "\n",
       "    .dataframe tbody tr th {\n",
       "        vertical-align: top;\n",
       "    }\n",
       "\n",
       "    .dataframe thead th {\n",
       "        text-align: right;\n",
       "    }\n",
       "</style>\n",
       "<table border=\"1\" class=\"dataframe\">\n",
       "  <thead>\n",
       "    <tr style=\"text-align: right;\">\n",
       "      <th></th>\n",
       "      <th>Branch</th>\n",
       "      <th>TotalSales</th>\n",
       "    </tr>\n",
       "  </thead>\n",
       "  <tbody>\n",
       "    <tr>\n",
       "      <th>0</th>\n",
       "      <td>A</td>\n",
       "      <td>101143.21</td>\n",
       "    </tr>\n",
       "    <tr>\n",
       "      <th>1</th>\n",
       "      <td>B</td>\n",
       "      <td>101140.64</td>\n",
       "    </tr>\n",
       "    <tr>\n",
       "      <th>2</th>\n",
       "      <td>C</td>\n",
       "      <td>105303.53</td>\n",
       "    </tr>\n",
       "  </tbody>\n",
       "</table>\n",
       "</div>"
      ],
      "text/plain": [
       "  Branch  TotalSales\n",
       "0      A   101143.21\n",
       "1      B   101140.64\n",
       "2      C   105303.53"
      ]
     },
     "execution_count": 236,
     "metadata": {},
     "output_type": "execute_result"
    }
   ],
   "source": [
    "#4\n",
    "# Calculate total sales per branch\n",
    "cursor.execute('''SELECT BRANCHES.Branch, SUM(ORDERS.UnitPrice * ORDERS.Quantity) AS TotalSales\n",
    "FROM ORDERS, BRANCHES\n",
    "WHERE ORDERS.BranchID = BRANCHES.BranchID\n",
    "GROUP BY Branch\n",
    "''')\n",
    "\n",
    "# Fetch all results from the cursor\n",
    "results = cursor.fetchall()\n",
    "\n",
    "columns = ['Branch', 'TotalSales']\n",
    "\n",
    "# Create a DataFrame with specified column names\n",
    "df_results = pd.DataFrame(results, columns = columns)\n",
    "\n",
    "df_results"
   ]
  },
  {
   "cell_type": "code",
   "execution_count": 238,
   "metadata": {
    "id": "FVBfDGVolqXG"
   },
   "outputs": [
    {
     "data": {
      "text/html": [
       "<div>\n",
       "<style scoped>\n",
       "    .dataframe tbody tr th:only-of-type {\n",
       "        vertical-align: middle;\n",
       "    }\n",
       "\n",
       "    .dataframe tbody tr th {\n",
       "        vertical-align: top;\n",
       "    }\n",
       "\n",
       "    .dataframe thead th {\n",
       "        text-align: right;\n",
       "    }\n",
       "</style>\n",
       "<table border=\"1\" class=\"dataframe\">\n",
       "  <thead>\n",
       "    <tr style=\"text-align: right;\">\n",
       "      <th></th>\n",
       "      <th>Gender</th>\n",
       "      <th>NumberOfOrders</th>\n",
       "    </tr>\n",
       "  </thead>\n",
       "  <tbody>\n",
       "    <tr>\n",
       "      <th>0</th>\n",
       "      <td>Female</td>\n",
       "      <td>501</td>\n",
       "    </tr>\n",
       "    <tr>\n",
       "      <th>1</th>\n",
       "      <td>Male</td>\n",
       "      <td>499</td>\n",
       "    </tr>\n",
       "  </tbody>\n",
       "</table>\n",
       "</div>"
      ],
      "text/plain": [
       "   Gender  NumberOfOrders\n",
       "0  Female             501\n",
       "1    Male             499"
      ]
     },
     "execution_count": 238,
     "metadata": {},
     "output_type": "execute_result"
    }
   ],
   "source": [
    "#5\n",
    "# Count the number of orders grouped by gender\n",
    "cursor.execute('''SELECT Gender, COUNT(*)\n",
    "FROM ORDERS\n",
    "GROUP BY Gender\n",
    "''')\n",
    "\n",
    "# Fetch all results from the cursor\n",
    "results = cursor.fetchall()\n",
    "\n",
    "columns = ['Gender', 'NumberOfOrders']\n",
    "\n",
    "# Create a DataFrame with specified column names\n",
    "df_results = pd.DataFrame(results, columns = columns)\n",
    "\n",
    "df_results"
   ]
  },
  {
   "cell_type": "code",
   "execution_count": 242,
   "metadata": {
    "id": "NqeB7IRalqRa"
   },
   "outputs": [
    {
     "data": {
      "text/html": [
       "<div>\n",
       "<style scoped>\n",
       "    .dataframe tbody tr th:only-of-type {\n",
       "        vertical-align: middle;\n",
       "    }\n",
       "\n",
       "    .dataframe tbody tr th {\n",
       "        vertical-align: top;\n",
       "    }\n",
       "\n",
       "    .dataframe thead th {\n",
       "        text-align: right;\n",
       "    }\n",
       "</style>\n",
       "<table border=\"1\" class=\"dataframe\">\n",
       "  <thead>\n",
       "    <tr style=\"text-align: right;\">\n",
       "      <th></th>\n",
       "      <th>Branch</th>\n",
       "      <th>ProductLine</th>\n",
       "      <th>NumberOfOrders</th>\n",
       "    </tr>\n",
       "  </thead>\n",
       "  <tbody>\n",
       "    <tr>\n",
       "      <th>0</th>\n",
       "      <td>A</td>\n",
       "      <td>Electronic accessories</td>\n",
       "      <td>60</td>\n",
       "    </tr>\n",
       "    <tr>\n",
       "      <th>1</th>\n",
       "      <td>A</td>\n",
       "      <td>Fashion accessories</td>\n",
       "      <td>51</td>\n",
       "    </tr>\n",
       "    <tr>\n",
       "      <th>2</th>\n",
       "      <td>A</td>\n",
       "      <td>Food and beverages</td>\n",
       "      <td>58</td>\n",
       "    </tr>\n",
       "    <tr>\n",
       "      <th>3</th>\n",
       "      <td>A</td>\n",
       "      <td>Health and beauty</td>\n",
       "      <td>47</td>\n",
       "    </tr>\n",
       "    <tr>\n",
       "      <th>4</th>\n",
       "      <td>A</td>\n",
       "      <td>Home and lifestyle</td>\n",
       "      <td>65</td>\n",
       "    </tr>\n",
       "    <tr>\n",
       "      <th>5</th>\n",
       "      <td>A</td>\n",
       "      <td>Sports and travel</td>\n",
       "      <td>59</td>\n",
       "    </tr>\n",
       "    <tr>\n",
       "      <th>6</th>\n",
       "      <td>B</td>\n",
       "      <td>Electronic accessories</td>\n",
       "      <td>55</td>\n",
       "    </tr>\n",
       "    <tr>\n",
       "      <th>7</th>\n",
       "      <td>B</td>\n",
       "      <td>Fashion accessories</td>\n",
       "      <td>62</td>\n",
       "    </tr>\n",
       "    <tr>\n",
       "      <th>8</th>\n",
       "      <td>B</td>\n",
       "      <td>Food and beverages</td>\n",
       "      <td>50</td>\n",
       "    </tr>\n",
       "    <tr>\n",
       "      <th>9</th>\n",
       "      <td>B</td>\n",
       "      <td>Health and beauty</td>\n",
       "      <td>53</td>\n",
       "    </tr>\n",
       "    <tr>\n",
       "      <th>10</th>\n",
       "      <td>B</td>\n",
       "      <td>Home and lifestyle</td>\n",
       "      <td>50</td>\n",
       "    </tr>\n",
       "    <tr>\n",
       "      <th>11</th>\n",
       "      <td>B</td>\n",
       "      <td>Sports and travel</td>\n",
       "      <td>62</td>\n",
       "    </tr>\n",
       "    <tr>\n",
       "      <th>12</th>\n",
       "      <td>C</td>\n",
       "      <td>Electronic accessories</td>\n",
       "      <td>55</td>\n",
       "    </tr>\n",
       "    <tr>\n",
       "      <th>13</th>\n",
       "      <td>C</td>\n",
       "      <td>Fashion accessories</td>\n",
       "      <td>65</td>\n",
       "    </tr>\n",
       "    <tr>\n",
       "      <th>14</th>\n",
       "      <td>C</td>\n",
       "      <td>Food and beverages</td>\n",
       "      <td>66</td>\n",
       "    </tr>\n",
       "    <tr>\n",
       "      <th>15</th>\n",
       "      <td>C</td>\n",
       "      <td>Health and beauty</td>\n",
       "      <td>52</td>\n",
       "    </tr>\n",
       "    <tr>\n",
       "      <th>16</th>\n",
       "      <td>C</td>\n",
       "      <td>Home and lifestyle</td>\n",
       "      <td>45</td>\n",
       "    </tr>\n",
       "    <tr>\n",
       "      <th>17</th>\n",
       "      <td>C</td>\n",
       "      <td>Sports and travel</td>\n",
       "      <td>45</td>\n",
       "    </tr>\n",
       "  </tbody>\n",
       "</table>\n",
       "</div>"
      ],
      "text/plain": [
       "   Branch             ProductLine  NumberOfOrders\n",
       "0       A  Electronic accessories              60\n",
       "1       A     Fashion accessories              51\n",
       "2       A      Food and beverages              58\n",
       "3       A       Health and beauty              47\n",
       "4       A      Home and lifestyle              65\n",
       "5       A       Sports and travel              59\n",
       "6       B  Electronic accessories              55\n",
       "7       B     Fashion accessories              62\n",
       "8       B      Food and beverages              50\n",
       "9       B       Health and beauty              53\n",
       "10      B      Home and lifestyle              50\n",
       "11      B       Sports and travel              62\n",
       "12      C  Electronic accessories              55\n",
       "13      C     Fashion accessories              65\n",
       "14      C      Food and beverages              66\n",
       "15      C       Health and beauty              52\n",
       "16      C      Home and lifestyle              45\n",
       "17      C       Sports and travel              45"
      ]
     },
     "execution_count": 242,
     "metadata": {},
     "output_type": "execute_result"
    }
   ],
   "source": [
    "#6\n",
    "# Count the number of orders for each branch and product line\n",
    "cursor.execute('''SELECT BRANCHES.Branch, PRODUCTS.ProductLine, COUNT(*)\n",
    "FROM ORDERS, PRODUCTS, BRANCHES\n",
    "WHERE ORDERS.ProductID = PRODUCTS.ProductID AND ORDERS.BranchID = BRANCHES.BranchID\n",
    "GROUP BY BRANCHES.Branch, PRODUCTS.ProductLine\n",
    "''')\n",
    "\n",
    "# Fetch all results from the cursor\n",
    "results = cursor.fetchall()\n",
    "\n",
    "columns = ['Branch', 'ProductLine', 'NumberOfOrders']\n",
    "\n",
    "# Create a DataFrame with specified column names\n",
    "df_results = pd.DataFrame(results, columns = columns)\n",
    "\n",
    "df_results"
   ]
  },
  {
   "cell_type": "code",
   "execution_count": 249,
   "metadata": {
    "id": "ECIox9ZylqKY"
   },
   "outputs": [
    {
     "data": {
      "text/html": [
       "<div>\n",
       "<style scoped>\n",
       "    .dataframe tbody tr th:only-of-type {\n",
       "        vertical-align: middle;\n",
       "    }\n",
       "\n",
       "    .dataframe tbody tr th {\n",
       "        vertical-align: top;\n",
       "    }\n",
       "\n",
       "    .dataframe thead th {\n",
       "        text-align: right;\n",
       "    }\n",
       "</style>\n",
       "<table border=\"1\" class=\"dataframe\">\n",
       "  <thead>\n",
       "    <tr style=\"text-align: right;\">\n",
       "      <th></th>\n",
       "      <th>ProductLine</th>\n",
       "      <th>Quantity</th>\n",
       "    </tr>\n",
       "  </thead>\n",
       "  <tbody>\n",
       "    <tr>\n",
       "      <th>0</th>\n",
       "      <td>Home and lifestyle</td>\n",
       "      <td>10</td>\n",
       "    </tr>\n",
       "  </tbody>\n",
       "</table>\n",
       "</div>"
      ],
      "text/plain": [
       "          ProductLine  Quantity\n",
       "0  Home and lifestyle        10"
      ]
     },
     "execution_count": 249,
     "metadata": {},
     "output_type": "execute_result"
    }
   ],
   "source": [
    "#7\n",
    "# The ORDERS and PRODUCTS tables are joined, sorted in descending order by quantity, and the `LIMIT 1` clause is used to identify the product line with the highest quantity.\n",
    "cursor.execute('''SELECT PRODUCTS.ProductLine, ORDERS.Quantity\n",
    "FROM ORDERS, PRODUCTS\n",
    "WHERE ORDERS.ProductID = PRODUCTS.ProductID\n",
    "ORDER BY Quantity DESC\n",
    "LIMIT 1\n",
    "''')\n",
    "\n",
    "# Fetch all results from the cursor\n",
    "results = cursor.fetchall()\n",
    "\n",
    "columns = ['ProductLine', 'Quantity']\n",
    "\n",
    "# Create a DataFrame with specified column names\n",
    "df_results = pd.DataFrame(results, columns = columns)\n",
    "\n",
    "df_results\n"
   ]
  },
  {
   "cell_type": "code",
   "execution_count": 250,
   "metadata": {
    "id": "MUWbll4RluQg"
   },
   "outputs": [
    {
     "name": "stdout",
     "output_type": "stream",
     "text": [
      "[]\n"
     ]
    }
   ],
   "source": [
    "#8\n",
    "# It retrieves and displays any duplicate OrderID entries in the ORDERS table that appear more than once.\n",
    "cursor.execute('''SELECT OrderID\n",
    "FROM ORDERS\n",
    "GROUP BY OrderID\n",
    "Having COUNT(*) > 1\n",
    "''')\n",
    "results = cursor.fetchall()\n",
    "print(results)"
   ]
  },
  {
   "cell_type": "code",
   "execution_count": 251,
   "metadata": {},
   "outputs": [],
   "source": [
    "# Save changes to the database and close the connection\n",
    "conn.commit()\n",
    "conn.close()"
   ]
  }
 ],
 "metadata": {
  "colab": {
   "provenance": []
  },
  "kernelspec": {
   "display_name": "Python 3 (ipykernel)",
   "language": "python",
   "name": "python3"
  },
  "language_info": {
   "codemirror_mode": {
    "name": "ipython",
    "version": 3
   },
   "file_extension": ".py",
   "mimetype": "text/x-python",
   "name": "python",
   "nbconvert_exporter": "python",
   "pygments_lexer": "ipython3",
   "version": "3.12.4"
  }
 },
 "nbformat": 4,
 "nbformat_minor": 4
}
